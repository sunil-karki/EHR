{
  "nbformat": 4,
  "nbformat_minor": 0,
  "metadata": {
    "colab": {
      "provenance": [],
      "mount_file_id": "167_cIWHfqkVjLYM14l4Uzo1JrzGlPeO6",
      "authorship_tag": "ABX9TyNGflYm5UA/tUXWMF3TpEM7",
      "include_colab_link": true
    },
    "kernelspec": {
      "name": "python3",
      "display_name": "Python 3"
    },
    "language_info": {
      "name": "python"
    }
  },
  "cells": [
    {
      "cell_type": "markdown",
      "metadata": {
        "id": "view-in-github",
        "colab_type": "text"
      },
      "source": [
        "<a href=\"https://colab.research.google.com/github/sunil-karki/EHR/blob/main/WRL_EHR_1.ipynb\" target=\"_parent\"><img src=\"https://colab.research.google.com/assets/colab-badge.svg\" alt=\"Open In Colab\"/></a>"
      ]
    },
    {
      "cell_type": "markdown",
      "source": [
        "# **WRL Work**"
      ],
      "metadata": {
        "id": "VtzyISNAxHD0"
      }
    },
    {
      "cell_type": "code",
      "source": [
        "# Install necessary packages for WRL\n",
        "\n",
        "# Install pyspark\n",
        "#!pip install pyspark"
      ],
      "metadata": {
        "colab": {
          "base_uri": "https://localhost:8080/"
        },
        "id": "jVvROMd02XoG",
        "outputId": "93dd14ca-a15c-435d-c9dd-b23cbacab32c"
      },
      "execution_count": 2,
      "outputs": [
        {
          "output_type": "stream",
          "name": "stdout",
          "text": [
            "Looking in indexes: https://pypi.org/simple, https://us-python.pkg.dev/colab-wheels/public/simple/\n",
            "Collecting pyspark\n",
            "  Downloading pyspark-3.3.1.tar.gz (281.4 MB)\n",
            "\u001b[K     |████████████████████████████████| 281.4 MB 41 kB/s \n",
            "\u001b[?25hCollecting py4j==0.10.9.5\n",
            "  Downloading py4j-0.10.9.5-py2.py3-none-any.whl (199 kB)\n",
            "\u001b[K     |████████████████████████████████| 199 kB 41.3 MB/s \n",
            "\u001b[?25hBuilding wheels for collected packages: pyspark\n",
            "  Building wheel for pyspark (setup.py) ... \u001b[?25l\u001b[?25hdone\n",
            "  Created wheel for pyspark: filename=pyspark-3.3.1-py2.py3-none-any.whl size=281845514 sha256=17f2aa31311d970ca1022fda9499e27f952c0c3fc0280996bf8a35ff9d320db8\n",
            "  Stored in directory: /root/.cache/pip/wheels/42/59/f5/79a5bf931714dcd201b26025347785f087370a10a3329a899c\n",
            "Successfully built pyspark\n",
            "Installing collected packages: py4j, pyspark\n",
            "Successfully installed py4j-0.10.9.5 pyspark-3.3.1\n"
          ]
        }
      ]
    },
    {
      "cell_type": "code",
      "source": [
        "# Import SparkSession\n",
        "from pyspark.sql import SparkSession\n",
        "# Import a Spark function from library\n",
        "#from pyspark.sql.functions import col"
      ],
      "metadata": {
        "id": "cKhSJgq52J8s"
      },
      "execution_count": 5,
      "outputs": []
    },
    {
      "cell_type": "code",
      "source": [
        "# Create a Spark Session\n",
        "spark = SparkSession.builder.appName(\"WRL Test\").master(\"local[*]\").getOrCreate()\n",
        "# Check Spark Session Information\n",
        "spark"
      ],
      "metadata": {
        "colab": {
          "base_uri": "https://localhost:8080/",
          "height": 219
        },
        "id": "apErc3qO33VU",
        "outputId": "165ab4b9-5975-4ade-f2d1-0d039d38f26a"
      },
      "execution_count": 9,
      "outputs": [
        {
          "output_type": "execute_result",
          "data": {
            "text/plain": [
              "<pyspark.sql.session.SparkSession at 0x7f93c2df79d0>"
            ],
            "text/html": [
              "\n",
              "            <div>\n",
              "                <p><b>SparkSession - in-memory</b></p>\n",
              "                \n",
              "        <div>\n",
              "            <p><b>SparkContext</b></p>\n",
              "\n",
              "            <p><a href=\"http://d038a204f22d:4040\">Spark UI</a></p>\n",
              "\n",
              "            <dl>\n",
              "              <dt>Version</dt>\n",
              "                <dd><code>v3.3.1</code></dd>\n",
              "              <dt>Master</dt>\n",
              "                <dd><code>local[*]</code></dd>\n",
              "              <dt>AppName</dt>\n",
              "                <dd><code>pyspark-shell</code></dd>\n",
              "            </dl>\n",
              "        </div>\n",
              "        \n",
              "            </div>\n",
              "        "
            ]
          },
          "metadata": {},
          "execution_count": 9
        }
      ]
    },
    {
      "cell_type": "code",
      "source": [
        "#spark.version"
      ],
      "metadata": {
        "colab": {
          "base_uri": "https://localhost:8080/",
          "height": 36
        },
        "id": "Z0OkzGhT2YoU",
        "outputId": "a74973ac-1017-4269-c493-521a9059622b"
      },
      "execution_count": 7,
      "outputs": [
        {
          "output_type": "execute_result",
          "data": {
            "text/plain": [
              "'3.3.1'"
            ],
            "application/vnd.google.colaboratory.intrinsic+json": {
              "type": "string"
            }
          },
          "metadata": {},
          "execution_count": 7
        }
      ]
    },
    {
      "cell_type": "markdown",
      "source": [
        "Import all source files\n",
        "-------------------------------------------------------\n",
        "Source data: Synthetic Patient Generation Realistic Health Data\n",
        "\n",
        "Link:-  https://synthetichealth.github.io/synthea/"
      ],
      "metadata": {
        "id": "x0RgihZl4MDH"
      }
    },
    {
      "cell_type": "code",
      "execution_count": 13,
      "metadata": {
        "colab": {
          "base_uri": "https://localhost:8080/"
        },
        "id": "UZy3ClrPt7da",
        "outputId": "aafbe2bb-bea8-4f45-b223-52aa1e5c116a"
      },
      "outputs": [
        {
          "output_type": "execute_result",
          "data": {
            "text/plain": [
              "DataFrame[START: string, STOP: string, PATIENT: string, ENCOUNTER: string, CODE: string, DESCRIPTION: string]"
            ]
          },
          "metadata": {},
          "execution_count": 13
        }
      ],
      "source": [
        "#RDD_allergies = sc.textFile(\"/content/drive/MyDrive/Islington/Year 2 Sem 3/WRL/Work/synthea_sample_data_csv_apr2020/csv/allergies.csv\")\n",
        "df_allergies = spark.read.format(\"csv\").option(\"header\",\"true\").load(\"/content/drive/MyDrive/Islington/Year 2 Sem 3/WRL/Work/synthea_sample_data_csv_apr2020/csv/allergies.csv\")\n",
        "df_careplans = spark.read.format(\"csv\").option(\"header\",\"true\").load(\"/content/drive/MyDrive/Islington/Year 2 Sem 3/WRL/Work/synthea_sample_data_csv_apr2020/csv/careplans.csv\")\n",
        "df_conditions = spark.read.format(\"csv\").option(\"header\",\"true\").load(\"/content/drive/MyDrive/Islington/Year 2 Sem 3/WRL/Work/synthea_sample_data_csv_apr2020/csv/conditions.csv\")\n",
        "df_devices = spark.read.format(\"csv\").option(\"header\",\"true\").load(\"/content/drive/MyDrive/Islington/Year 2 Sem 3/WRL/Work/synthea_sample_data_csv_apr2020/csv/devices.csv\")\n",
        "df_encounters = spark.read.format(\"csv\").option(\"header\",\"true\").load(\"/content/drive/MyDrive/Islington/Year 2 Sem 3/WRL/Work/synthea_sample_data_csv_apr2020/csv/encounters.csv\")\n",
        "df_img_studies = spark.read.format(\"csv\").option(\"header\",\"true\").load(\"/content/drive/MyDrive/Islington/Year 2 Sem 3/WRL/Work/synthea_sample_data_csv_apr2020/csv/imaging_studies.csv\")\n",
        "df_immunizations = spark.read.format(\"csv\").option(\"header\",\"true\").load(\"/content/drive/MyDrive/Islington/Year 2 Sem 3/WRL/Work/synthea_sample_data_csv_apr2020/csv/immunizations.csv\")\n",
        "df_medications = spark.read.format(\"csv\").option(\"header\",\"true\").load(\"/content/drive/MyDrive/Islington/Year 2 Sem 3/WRL/Work/synthea_sample_data_csv_apr2020/csv/medications.csv\")\n",
        "df_observations = spark.read.format(\"csv\").option(\"header\",\"true\").load(\"/content/drive/MyDrive/Islington/Year 2 Sem 3/WRL/Work/synthea_sample_data_csv_apr2020/csv/observations.csv\")\n",
        "df_organizations = spark.read.format(\"csv\").option(\"header\",\"true\").load(\"/content/drive/MyDrive/Islington/Year 2 Sem 3/WRL/Work/synthea_sample_data_csv_apr2020/csv/organizations.csv\")\n",
        "df_patients = spark.read.format(\"csv\").option(\"header\",\"true\").load(\"/content/drive/MyDrive/Islington/Year 2 Sem 3/WRL/Work/synthea_sample_data_csv_apr2020/csv/patients.csv\")\n",
        "df_pyr_transitions = spark.read.format(\"csv\").option(\"header\",\"true\").load(\"/content/drive/MyDrive/Islington/Year 2 Sem 3/WRL/Work/synthea_sample_data_csv_apr2020/csv/payer_transitions.csv\")\n",
        "df_pyr = spark.read.format(\"csv\").option(\"header\",\"true\").load(\"/content/drive/MyDrive/Islington/Year 2 Sem 3/WRL/Work/synthea_sample_data_csv_apr2020/csv/payers.csv\")\n",
        "df_procedures = spark.read.format(\"csv\").option(\"header\",\"true\").load(\"/content/drive/MyDrive/Islington/Year 2 Sem 3/WRL/Work/synthea_sample_data_csv_apr2020/csv/procedures.csv\")\n",
        "df_providers = spark.read.format(\"csv\").option(\"header\",\"true\").load(\"/content/drive/MyDrive/Islington/Year 2 Sem 3/WRL/Work/synthea_sample_data_csv_apr2020/csv/providers.csv\")\n",
        "df_supplies = spark.read.format(\"csv\").option(\"header\",\"true\").load(\"/content/drive/MyDrive/Islington/Year 2 Sem 3/WRL/Work/synthea_sample_data_csv_apr2020/csv/supplies.csv\")"
      ]
    },
    {
      "cell_type": "code",
      "source": [
        "df_providers.show(5)"
      ],
      "metadata": {
        "colab": {
          "base_uri": "https://localhost:8080/"
        },
        "id": "SF0BYu255Rq3",
        "outputId": "c31fdd0f-c938-4987-ed0e-92d1d30a5ada"
      },
      "execution_count": 19,
      "outputs": [
        {
          "output_type": "stream",
          "name": "stdout",
          "text": [
            "+--------------------+--------------------+--------------------+------+----------------+--------------------+----------+-----+-----+---------+----------+-----------+\n",
            "|                  Id|        ORGANIZATION|                NAME|GENDER|      SPECIALITY|             ADDRESS|      CITY|STATE|  ZIP|      LAT|       LON|UTILIZATION|\n",
            "+--------------------+--------------------+--------------------+------+----------------+--------------------+----------+-----+-----+---------+----------+-----------+\n",
            "|3421aa75-dec7-378...|ef58ea08-d883-395...|   Tomas436 Sauer652|     M|GENERAL PRACTICE|    60 HOSPITAL ROAD|LEOMINSTER|   MA|01453|42.520838|-71.770876|       1557|\n",
            "|c9b3c857-2e24-320...|69176529-fd1f-3b3...|Suzette512 Monaha...|     F|GENERAL PRACTICE|330 MOUNT AUBURN ...| CAMBRIDGE|   MA|02138|42.375967|-71.118275|       2296|\n",
            "|0359f968-d1a6-30e...|5e765f2b-e908-388...|Gaynell126 Streic...|     F|GENERAL PRACTICE|     211 PARK STREET| ATTLEBORO|   MA|02703|41.931653|-71.294503|       2287|\n",
            "|446d1609-858f-3a5...|f1fbcbfb-fcfa-3bd...|Patricia625 Salga...|     F|GENERAL PRACTICE|  ONE GENERAL STREET|  LAWRENCE|   MA|01842|42.700273|-71.161357|       1327|\n",
            "|e6283e46-fd81-361...|e002090d-4e92-300...|Jeanmarie510 Beat...|     F|GENERAL PRACTICE|1493 CAMBRIDGE ST...| CAMBRIDGE|   MA|02138|42.375967|-71.118275|       3199|\n",
            "+--------------------+--------------------+--------------------+------+----------------+--------------------+----------+-----+-----+---------+----------+-----------+\n",
            "only showing top 5 rows\n",
            "\n"
          ]
        }
      ]
    },
    {
      "cell_type": "markdown",
      "source": [
        "Joins"
      ],
      "metadata": {
        "id": "_P-Gg5zz9RvW"
      }
    },
    {
      "cell_type": "code",
      "source": [
        "#ta = df_conditions.alias('ta')\n",
        "#tb = df_immunizations.alias('tb')\n",
        "#inner_join = ta.join(tb, ta.name == tb.name)\n",
        "#inner_join.show()\n",
        "temp_RDD = df_conditions.join(df_immunizations, df_conditions.CODE == df_immunizations.CODE)\n",
        "temp_RDD.show()\n"
      ],
      "metadata": {
        "colab": {
          "base_uri": "https://localhost:8080/"
        },
        "id": "r0iXZhmbxCpk",
        "outputId": "e151975f-a2ed-4046-c28e-dc6edf6e4eca"
      },
      "execution_count": 20,
      "outputs": [
        {
          "output_type": "stream",
          "name": "stdout",
          "text": [
            "+-----+----+-------+---------+----+-----------+----+-------+---------+----+-----------+---------+\n",
            "|START|STOP|PATIENT|ENCOUNTER|CODE|DESCRIPTION|DATE|PATIENT|ENCOUNTER|CODE|DESCRIPTION|BASE_COST|\n",
            "+-----+----+-------+---------+----+-----------+----+-------+---------+----+-----------+---------+\n",
            "+-----+----+-------+---------+----+-----------+----+-------+---------+----+-----------+---------+\n",
            "\n"
          ]
        }
      ]
    },
    {
      "cell_type": "code",
      "source": [],
      "metadata": {
        "colab": {
          "base_uri": "https://localhost:8080/"
        },
        "id": "kuCgYvqJxEg5",
        "outputId": "a458e58a-679b-466d-b78f-3cb8ada69fd6"
      },
      "execution_count": 17,
      "outputs": [
        {
          "output_type": "execute_result",
          "data": {
            "text/plain": [
              "DataFrame[DATE: string, PATIENT: string, ENCOUNTER: string, CODE: string, DESCRIPTION: string, QUANTITY: string]"
            ]
          },
          "metadata": {},
          "execution_count": 17
        }
      ]
    },
    {
      "cell_type": "code",
      "source": [],
      "metadata": {
        "id": "_PapJ9Hn8Rz9"
      },
      "execution_count": null,
      "outputs": []
    }
  ]
}