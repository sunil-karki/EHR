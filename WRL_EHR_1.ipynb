{
  "nbformat": 4,
  "nbformat_minor": 0,
  "metadata": {
    "colab": {
      "provenance": [],
      "mount_file_id": "167_cIWHfqkVjLYM14l4Uzo1JrzGlPeO6",
      "authorship_tag": "ABX9TyNhWGgA8thyPlbLd1wBrN84",
      "include_colab_link": true
    },
    "kernelspec": {
      "name": "python3",
      "display_name": "Python 3"
    },
    "language_info": {
      "name": "python"
    }
  },
  "cells": [
    {
      "cell_type": "markdown",
      "metadata": {
        "id": "view-in-github",
        "colab_type": "text"
      },
      "source": [
        "<a href=\"https://colab.research.google.com/github/sunil-karki/EHR/blob/main/WRL_EHR_1.ipynb\" target=\"_parent\"><img src=\"https://colab.research.google.com/assets/colab-badge.svg\" alt=\"Open In Colab\"/></a>"
      ]
    },
    {
      "cell_type": "markdown",
      "source": [
        "# **WRL Work**"
      ],
      "metadata": {
        "id": "VtzyISNAxHD0"
      }
    },
    {
      "cell_type": "code",
      "source": [
        "# Install necessary packages for WRL\n",
        "\n",
        "# Install pyspark\n",
        "!pip install pyspark"
      ],
      "metadata": {
        "colab": {
          "base_uri": "https://localhost:8080/"
        },
        "id": "jVvROMd02XoG",
        "outputId": "48d21696-8997-4ddf-f2a0-30432f7b5516"
      },
      "execution_count": 1,
      "outputs": [
        {
          "output_type": "stream",
          "name": "stdout",
          "text": [
            "Looking in indexes: https://pypi.org/simple, https://us-python.pkg.dev/colab-wheels/public/simple/\n",
            "Collecting pyspark\n",
            "  Downloading pyspark-3.3.1.tar.gz (281.4 MB)\n",
            "\u001b[K     |████████████████████████████████| 281.4 MB 43 kB/s \n",
            "\u001b[?25hCollecting py4j==0.10.9.5\n",
            "  Downloading py4j-0.10.9.5-py2.py3-none-any.whl (199 kB)\n",
            "\u001b[K     |████████████████████████████████| 199 kB 53.4 MB/s \n",
            "\u001b[?25hBuilding wheels for collected packages: pyspark\n",
            "  Building wheel for pyspark (setup.py) ... \u001b[?25l\u001b[?25hdone\n",
            "  Created wheel for pyspark: filename=pyspark-3.3.1-py2.py3-none-any.whl size=281845512 sha256=86af88a684511287b2d24f0184539cef54648e301790d28e12f6185bc45b0972\n",
            "  Stored in directory: /root/.cache/pip/wheels/42/59/f5/79a5bf931714dcd201b26025347785f087370a10a3329a899c\n",
            "Successfully built pyspark\n",
            "Installing collected packages: py4j, pyspark\n",
            "Successfully installed py4j-0.10.9.5 pyspark-3.3.1\n"
          ]
        }
      ]
    },
    {
      "cell_type": "code",
      "source": [
        "# Import SparkSession\n",
        "from pyspark.sql import SparkSession\n",
        "# Import Spark functions\n",
        "from pyspark.sql.functions import trim, col, floor, datediff, current_timestamp, to_date, lit\n",
        "#import IntegerType method from sql.types\n",
        "from pyspark.sql.types import IntegerType"
      ],
      "metadata": {
        "id": "cKhSJgq52J8s"
      },
      "execution_count": 2,
      "outputs": []
    },
    {
      "cell_type": "code",
      "source": [
        "# Create a Spark Session\n",
        "spark = SparkSession.builder.appName(\"WRL Test\").master(\"local[*]\").getOrCreate()\n",
        "# Check Spark Session Information\n",
        "spark"
      ],
      "metadata": {
        "colab": {
          "base_uri": "https://localhost:8080/",
          "height": 219
        },
        "id": "apErc3qO33VU",
        "outputId": "385e19a1-8915-45a4-b6d2-c85e5cde2396"
      },
      "execution_count": 3,
      "outputs": [
        {
          "output_type": "execute_result",
          "data": {
            "text/plain": [
              "<pyspark.sql.session.SparkSession at 0x7fde0722a510>"
            ],
            "text/html": [
              "\n",
              "            <div>\n",
              "                <p><b>SparkSession - in-memory</b></p>\n",
              "                \n",
              "        <div>\n",
              "            <p><b>SparkContext</b></p>\n",
              "\n",
              "            <p><a href=\"http://45c4947c15a1:4040\">Spark UI</a></p>\n",
              "\n",
              "            <dl>\n",
              "              <dt>Version</dt>\n",
              "                <dd><code>v3.3.1</code></dd>\n",
              "              <dt>Master</dt>\n",
              "                <dd><code>local[*]</code></dd>\n",
              "              <dt>AppName</dt>\n",
              "                <dd><code>WRL Test</code></dd>\n",
              "            </dl>\n",
              "        </div>\n",
              "        \n",
              "            </div>\n",
              "        "
            ]
          },
          "metadata": {},
          "execution_count": 3
        }
      ]
    },
    {
      "cell_type": "code",
      "source": [
        "#spark.version"
      ],
      "metadata": {
        "id": "Z0OkzGhT2YoU"
      },
      "execution_count": 4,
      "outputs": []
    },
    {
      "cell_type": "markdown",
      "source": [
        "Import all source files\n",
        "-------------------------------------------------------\n",
        "Source data: Synthetic Patient Generation Realistic Health Data\n",
        "\n",
        "Link:-  https://synthetichealth.github.io/synthea/"
      ],
      "metadata": {
        "id": "x0RgihZl4MDH"
      }
    },
    {
      "cell_type": "code",
      "execution_count": 5,
      "metadata": {
        "id": "UZy3ClrPt7da"
      },
      "outputs": [],
      "source": [
        "#RDD_allergies = sc.textFile(\"/content/drive/MyDrive/Islington/Year 2 Sem 3/WRL/Work/synthea_sample_data_csv_apr2020/csv/allergies.csv\")\n",
        "df_allergies = spark.read.format(\"csv\").option(\"header\",\"true\").load(\"/content/drive/MyDrive/Islington/Year 2 Sem 3/WRL/Work/synthea_sample_data_csv_apr2020/csv/allergies.csv\")\n",
        "df_careplans = spark.read.format(\"csv\").option(\"header\",\"true\").load(\"/content/drive/MyDrive/Islington/Year 2 Sem 3/WRL/Work/synthea_sample_data_csv_apr2020/csv/careplans.csv\")\n",
        "df_conditions = spark.read.format(\"csv\").option(\"header\",\"true\").load(\"/content/drive/MyDrive/Islington/Year 2 Sem 3/WRL/Work/synthea_sample_data_csv_apr2020/csv/conditions.csv\")\n",
        "df_devices = spark.read.format(\"csv\").option(\"header\",\"true\").load(\"/content/drive/MyDrive/Islington/Year 2 Sem 3/WRL/Work/synthea_sample_data_csv_apr2020/csv/devices.csv\")\n",
        "df_encounters = spark.read.format(\"csv\").option(\"header\",\"true\").load(\"/content/drive/MyDrive/Islington/Year 2 Sem 3/WRL/Work/synthea_sample_data_csv_apr2020/csv/encounters.csv\")\n",
        "df_img_studies = spark.read.format(\"csv\").option(\"header\",\"true\").load(\"/content/drive/MyDrive/Islington/Year 2 Sem 3/WRL/Work/synthea_sample_data_csv_apr2020/csv/imaging_studies.csv\")\n",
        "df_immunizations = spark.read.format(\"csv\").option(\"header\",\"true\").load(\"/content/drive/MyDrive/Islington/Year 2 Sem 3/WRL/Work/synthea_sample_data_csv_apr2020/csv/immunizations.csv\")\n",
        "df_medications = spark.read.format(\"csv\").option(\"header\",\"true\").load(\"/content/drive/MyDrive/Islington/Year 2 Sem 3/WRL/Work/synthea_sample_data_csv_apr2020/csv/medications.csv\")\n",
        "df_observations = spark.read.format(\"csv\").option(\"header\",\"true\").load(\"/content/drive/MyDrive/Islington/Year 2 Sem 3/WRL/Work/synthea_sample_data_csv_apr2020/csv/observations.csv\")\n",
        "df_organizations = spark.read.format(\"csv\").option(\"header\",\"true\").load(\"/content/drive/MyDrive/Islington/Year 2 Sem 3/WRL/Work/synthea_sample_data_csv_apr2020/csv/organizations.csv\")\n",
        "df_patients = spark.read.format(\"csv\").option(\"header\",\"true\").load(\"/content/drive/MyDrive/Islington/Year 2 Sem 3/WRL/Work/synthea_sample_data_csv_apr2020/csv/patients.csv\")\n",
        "df_pyr_transitions = spark.read.format(\"csv\").option(\"header\",\"true\").load(\"/content/drive/MyDrive/Islington/Year 2 Sem 3/WRL/Work/synthea_sample_data_csv_apr2020/csv/payer_transitions.csv\")\n",
        "df_pyr = spark.read.format(\"csv\").option(\"header\",\"true\").load(\"/content/drive/MyDrive/Islington/Year 2 Sem 3/WRL/Work/synthea_sample_data_csv_apr2020/csv/payers.csv\")\n",
        "df_procedures = spark.read.format(\"csv\").option(\"header\",\"true\").load(\"/content/drive/MyDrive/Islington/Year 2 Sem 3/WRL/Work/synthea_sample_data_csv_apr2020/csv/procedures.csv\")\n",
        "df_providers = spark.read.format(\"csv\").option(\"header\",\"true\").load(\"/content/drive/MyDrive/Islington/Year 2 Sem 3/WRL/Work/synthea_sample_data_csv_apr2020/csv/providers.csv\")\n",
        "df_supplies = spark.read.format(\"csv\").option(\"header\",\"true\").load(\"/content/drive/MyDrive/Islington/Year 2 Sem 3/WRL/Work/synthea_sample_data_csv_apr2020/csv/supplies.csv\")"
      ]
    },
    {
      "cell_type": "code",
      "source": [
        "df_supplies"
      ],
      "metadata": {
        "colab": {
          "base_uri": "https://localhost:8080/"
        },
        "id": "0PvMx9piVOQN",
        "outputId": "421cb45f-2626-4c48-cdc6-a88598d61acf"
      },
      "execution_count": 6,
      "outputs": [
        {
          "output_type": "execute_result",
          "data": {
            "text/plain": [
              "DataFrame[DATE: string, PATIENT: string, ENCOUNTER: string, CODE: string, DESCRIPTION: string, QUANTITY: string]"
            ]
          },
          "metadata": {},
          "execution_count": 6
        }
      ]
    },
    {
      "cell_type": "code",
      "source": [
        "df_allergies.show(5)\n",
        "rows = df_allergies.count()\n",
        "print(f\"Rows count : {rows}\")"
      ],
      "metadata": {
        "colab": {
          "base_uri": "https://localhost:8080/"
        },
        "id": "APyxUHxUFF6E",
        "outputId": "d14eafe8-5b64-45d6-d977-a4e56fc37945"
      },
      "execution_count": 7,
      "outputs": [
        {
          "output_type": "stream",
          "name": "stdout",
          "text": [
            "+----------+----+--------------------+--------------------+---------+--------------------+\n",
            "|     START|STOP|             PATIENT|           ENCOUNTER|     CODE|         DESCRIPTION|\n",
            "+----------+----+--------------------+--------------------+---------+--------------------+\n",
            "|1982-10-25|null|76982e06-f8b8-450...|b896bf40-8b72-42b...|300916003|       Latex allergy|\n",
            "|1982-10-25|null|76982e06-f8b8-450...|b896bf40-8b72-42b...|300913006|   Shellfish allergy|\n",
            "|2002-01-25|null|71ba0469-f0cc-417...|7be1a590-4239-482...|419474003|    Allergy to mould|\n",
            "|2002-01-25|null|71ba0469-f0cc-417...|7be1a590-4239-482...|232347008|Dander (animal) a...|\n",
            "|2002-01-25|null|71ba0469-f0cc-417...|7be1a590-4239-482...|418689008|Allergy to grass ...|\n",
            "+----------+----+--------------------+--------------------+---------+--------------------+\n",
            "only showing top 5 rows\n",
            "\n",
            "Rows count : 597\n"
          ]
        }
      ]
    },
    {
      "cell_type": "code",
      "source": [
        "df_careplans.show(5)\n",
        "rows = df_careplans.count()\n",
        "print(f\"Rows count : {rows}\")"
      ],
      "metadata": {
        "colab": {
          "base_uri": "https://localhost:8080/"
        },
        "id": "DJikYM9JFGHd",
        "outputId": "dbef371c-c64e-4375-f194-b018fc4b4416"
      },
      "execution_count": 8,
      "outputs": [
        {
          "output_type": "stream",
          "name": "stdout",
          "text": [
            "+--------------------+----------+----------+--------------------+--------------------+---------+-------------------+----------+--------------------+\n",
            "|                  Id|     START|      STOP|             PATIENT|           ENCOUNTER|     CODE|        DESCRIPTION|REASONCODE|   REASONDESCRIPTION|\n",
            "+--------------------+----------+----------+--------------------+--------------------+---------+-------------------+----------+--------------------+\n",
            "|d2500b8c-e830-433...|2010-01-23|2012-01-23|034e9e3b-2def-455...|d0c40d10-8d87-447...| 53950000|Respiratory therapy|  10509002|Acute bronchitis ...|\n",
            "|07d9ddd8-dfa1-4e4...|2011-05-13|2011-08-02|10339b10-3cd1-4ac...|e1ab4933-07a1-49f...| 53950000|Respiratory therapy|  10509002|Acute bronchitis ...|\n",
            "|a3bb6e99-3b99-44b...|2011-12-31|2012-11-30|f5dcd418-09fe-4a2...|16300c56-a035-412...| 53950000|Respiratory therapy|  10509002|Acute bronchitis ...|\n",
            "|9f5284b7-425a-486...|2016-12-29|2017-01-05|034e9e3b-2def-455...|3b639086-5fbc-472...| 53950000|Respiratory therapy|  10509002|Acute bronchitis ...|\n",
            "|47ede16c-c216-4f8...|2017-01-22|2017-02-12|10339b10-3cd1-4ac...|4ec8d55b-05fc-42a...|225358003|         Wound care| 284551006|  Laceration of foot|\n",
            "+--------------------+----------+----------+--------------------+--------------------+---------+-------------------+----------+--------------------+\n",
            "only showing top 5 rows\n",
            "\n",
            "Rows count : 3483\n"
          ]
        }
      ]
    },
    {
      "cell_type": "code",
      "source": [
        "df_conditions.show(5)\n",
        "rows = df_conditions.count()\n",
        "print(f\"Rows count : {rows}\")"
      ],
      "metadata": {
        "colab": {
          "base_uri": "https://localhost:8080/"
        },
        "id": "c9ILHaE3FGTj",
        "outputId": "de257f31-4466-48d1-83f0-1b1036826d84"
      },
      "execution_count": 9,
      "outputs": [
        {
          "output_type": "stream",
          "name": "stdout",
          "text": [
            "+----------+----------+--------------------+--------------------+---------+--------------------+\n",
            "|     START|      STOP|             PATIENT|           ENCOUNTER|     CODE|         DESCRIPTION|\n",
            "+----------+----------+--------------------+--------------------+---------+--------------------+\n",
            "|2001-05-01|      null|1d604da9-9a81-4ba...|8f104aa7-4ca9-447...| 40055000|Chronic sinusitis...|\n",
            "|2011-08-09|2011-08-16|8d4c4326-e9de-4f4...|9d35ec9f-352a-462...|444814009|Viral sinusitis (...|\n",
            "|2011-11-16|2011-11-26|8d4c4326-e9de-4f4...|ae7555a9-eaff-4c0...|195662009|Acute viral phary...|\n",
            "|2011-05-13|2011-05-27|10339b10-3cd1-4ac...|e1ab4933-07a1-49f...| 10509002|Acute bronchitis ...|\n",
            "|2011-02-06|2011-02-14|f5dcd418-09fe-4a2...|b8f76eba-7795-4dc...|195662009|Acute viral phary...|\n",
            "+----------+----------+--------------------+--------------------+---------+--------------------+\n",
            "only showing top 5 rows\n",
            "\n",
            "Rows count : 8376\n"
          ]
        }
      ]
    },
    {
      "cell_type": "code",
      "source": [
        "df_devices.show(5)\n",
        "rows = df_devices.count()\n",
        "print(f\"Rows count : {rows}\")"
      ],
      "metadata": {
        "colab": {
          "base_uri": "https://localhost:8080/"
        },
        "id": "GTsxxsUnFGfd",
        "outputId": "437e68cb-9bb8-4243-fa20-1f99d2d7555e"
      },
      "execution_count": 10,
      "outputs": [
        {
          "output_type": "stream",
          "name": "stdout",
          "text": [
            "+--------------------+----+--------------------+--------------------+---------+--------------------+--------------------+\n",
            "|               START|STOP|             PATIENT|           ENCOUNTER|     CODE|         DESCRIPTION|                 UDI|\n",
            "+--------------------+----+--------------------+--------------------+---------+--------------------+--------------------+\n",
            "|2001-07-04T08:42:44Z|null|d49f748f-928d-40e...|2500b8bd-dc98-44e...| 72506001|Implantable defib...|(01)6767798860646...|\n",
            "|2010-10-24T05:28:51Z|null|e05dd037-e45f-434...|83cda5b1-4653-432...| 72506001|Implantable defib...|(01)2018059525834...|\n",
            "|2017-06-04T11:11:47Z|null|0f5646bc-a156-4ec...|7302a9ce-5845-456...| 72506001|Implantable defib...|(01)8798892447844...|\n",
            "|1989-01-17T18:12:03Z|null|44c8b4c8-4457-4ba...|7db01f61-e637-4e4...|705643001|Coronary artery s...|(01)3083189516548...|\n",
            "|1973-07-19T04:25:46Z|null|89752052-a38b-45f...|e73fe5e1-1b13-436...| 72506001|Implantable defib...|(01)7176772223148...|\n",
            "+--------------------+----+--------------------+--------------------+---------+--------------------+--------------------+\n",
            "only showing top 5 rows\n",
            "\n",
            "Rows count : 78\n"
          ]
        }
      ]
    },
    {
      "cell_type": "code",
      "source": [
        "#An interaction between a patient and healthcare provider(s) for the purpose of providing healthcare service(s) or assessing the health status of a patient.\n",
        "df_encounters.show(5)\n",
        "rows = df_encounters.count()\n",
        "print(f\"Rows count : {rows}\")"
      ],
      "metadata": {
        "colab": {
          "base_uri": "https://localhost:8080/"
        },
        "id": "xw8M87tyFGpC",
        "outputId": "24f9ac58-a25d-443e-ba52-31c2a5f46fcb"
      },
      "execution_count": 11,
      "outputs": [
        {
          "output_type": "stream",
          "name": "stdout",
          "text": [
            "+--------------------+--------------------+--------------------+--------------------+--------------------+--------------------+--------------------+--------------+---------+--------------------+-------------------+----------------+--------------+----------+--------------------+\n",
            "|                  Id|               START|                STOP|             PATIENT|        ORGANIZATION|            PROVIDER|               PAYER|ENCOUNTERCLASS|     CODE|         DESCRIPTION|BASE_ENCOUNTER_COST|TOTAL_CLAIM_COST|PAYER_COVERAGE|REASONCODE|   REASONDESCRIPTION|\n",
            "+--------------------+--------------------+--------------------+--------------------+--------------------+--------------------+--------------------+--------------+---------+--------------------+-------------------+----------------+--------------+----------+--------------------+\n",
            "|d0c40d10-8d87-447...|2010-01-23T17:45:28Z|2010-01-23T18:10:28Z|034e9e3b-2def-455...|e002090d-4e92-300...|e6283e46-fd81-361...|6e2f1a2d-27bd-370...|    ambulatory|185345009|Encounter for sym...|             129.16|          129.16|         54.16|  10509002|Acute bronchitis ...|\n",
            "|e88bc3a9-007c-405...|2012-01-23T17:45:28Z|2012-01-23T18:00:28Z|034e9e3b-2def-455...|772ee193-bb9f-30e...|6f1d59a7-a5bd-3cf...|6e2f1a2d-27bd-370...|      wellness|162673000|General examinati...|             129.16|          129.16|        129.16|      null|                null|\n",
            "|8f104aa7-4ca9-447...|2001-05-01T15:02:18Z|2001-05-01T15:17:18Z|1d604da9-9a81-4ba...|5d4b9df1-93ae-3bc...|af01a385-31d3-3c7...|b1c428d6-4f07-31e...|    ambulatory|185345009|Encounter for sym...|             129.16|          129.16|          0.00|  36971009|Sinusitis (disorder)|\n",
            "|b85c339a-6076-43e...|2011-07-28T15:02:18Z|2011-07-28T15:17:18Z|1d604da9-9a81-4ba...|3dc9bb2d-5d66-3e6...|bb17e691-262b-354...|b1c428d6-4f07-31e...|      wellness|162673000|General examinati...|             129.16|          129.16|          0.00|      null|                null|\n",
            "|dae2b7cb-1316-4b7...|2010-07-27T12:58:08Z|2010-07-27T13:28:08Z|10339b10-3cd1-4ac...|b03dba4f-892f-365...|7ed6b84a-b847-374...|d47b3510-2895-3b7...|      wellness|162673000|General examinati...|             129.16|          129.16|        129.16|      null|                null|\n",
            "+--------------------+--------------------+--------------------+--------------------+--------------------+--------------------+--------------------+--------------+---------+--------------------+-------------------+----------------+--------------+----------+--------------------+\n",
            "only showing top 5 rows\n",
            "\n",
            "Rows count : 53346\n"
          ]
        }
      ]
    },
    {
      "cell_type": "code",
      "source": [
        "df_img_studies.show(5)\n",
        "rows = df_img_studies.count()\n",
        "print(f\"Rows count : {rows}\")"
      ],
      "metadata": {
        "colab": {
          "base_uri": "https://localhost:8080/"
        },
        "id": "t-mLDU4pFGx9",
        "outputId": "5da0f019-e4ad-40a5-d1b0-ba6f3bdb7797"
      },
      "execution_count": 12,
      "outputs": [
        {
          "output_type": "stream",
          "name": "stdout",
          "text": [
            "+--------------------+--------------------+--------------------+--------------------+-------------+--------------------+-------------+--------------------+--------------------+--------------------+\n",
            "|                  Id|                DATE|             PATIENT|           ENCOUNTER|BODYSITE_CODE|BODYSITE_DESCRIPTION|MODALITY_CODE|MODALITY_DESCRIPTION|            SOP_CODE|     SOP_DESCRIPTION|\n",
            "+--------------------+--------------------+--------------------+--------------------+-------------+--------------------+-------------+--------------------+--------------------+--------------------+\n",
            "|d3e49b38-7634-441...|2014-07-08T15:35:36Z|b58731cc-2d8b-4c2...|3a36836d-da25-4e7...|     40983000|                 Arm|           DX| Digital Radiography|1.2.840.10008.5.1...|Digital X-Ray Ima...|\n",
            "|46baf530-4941-40a...|2014-01-22T18:58:37Z|2ffe9369-24e4-414...|33b71e4b-0690-4fe...|     40983000|                 Arm|           DX| Digital Radiography|1.2.840.10008.5.1...|Digital X-Ray Ima...|\n",
            "|b8fb8a6e-a2f5-46c...|2001-12-01T02:08:27Z|86b97fc7-ae8f-4e0...|e42d1046-568d-46c...|      8205005|               Wrist|           DX| Digital Radiography|1.2.840.10008.5.1...|Digital X-Ray Ima...|\n",
            "|10c8a016-4504-465...|2004-07-03T20:46:46Z|71ba0469-f0cc-417...|323fca87-817f-4d5...|     51299004|            Clavicle|           DX| Digital Radiography|1.2.840.10008.5.1...|Digital X-Ray Ima...|\n",
            "|4221534c-d379-4c6...|2017-02-08T08:42:44Z|d49f748f-928d-40e...|cfef48b3-b769-479...|       344001|               Ankle|           DX| Digital Radiography|1.2.840.10008.5.1...|Digital X-Ray Ima...|\n",
            "+--------------------+--------------------+--------------------+--------------------+-------------+--------------------+-------------+--------------------+--------------------+--------------------+\n",
            "only showing top 5 rows\n",
            "\n",
            "Rows count : 855\n"
          ]
        }
      ]
    },
    {
      "cell_type": "code",
      "source": [
        "df_immunizations.show(5)\n",
        "rows = df_immunizations.count()\n",
        "print(f\"Rows count : {rows}\")"
      ],
      "metadata": {
        "colab": {
          "base_uri": "https://localhost:8080/"
        },
        "id": "unjRrr3BFG6z",
        "outputId": "f431c5ad-6ed7-4705-ec0f-fef36f91d562"
      },
      "execution_count": 13,
      "outputs": [
        {
          "output_type": "stream",
          "name": "stdout",
          "text": [
            "+--------------------+--------------------+--------------------+----+--------------------+---------+\n",
            "|                DATE|             PATIENT|           ENCOUNTER|CODE|         DESCRIPTION|BASE_COST|\n",
            "+--------------------+--------------------+--------------------+----+--------------------+---------+\n",
            "|2010-07-27T12:58:08Z|10339b10-3cd1-4ac...|dae2b7cb-1316-4b7...| 140|Influenza  season...|   140.52|\n",
            "|2010-11-20T03:04:34Z|f5dcd418-09fe-4a2...|7ff86631-0378-4bf...| 140|Influenza  season...|   140.52|\n",
            "|2012-01-23T17:45:28Z|034e9e3b-2def-455...|e88bc3a9-007c-405...| 140|Influenza  season...|   140.52|\n",
            "|2011-11-26T03:04:34Z|f5dcd418-09fe-4a2...|1923c698-accd-4d7...| 140|Influenza  season...|   140.52|\n",
            "|2011-07-28T15:02:18Z|1d604da9-9a81-4ba...|b85c339a-6076-43e...| 140|Influenza  season...|   140.52|\n",
            "+--------------------+--------------------+--------------------+----+--------------------+---------+\n",
            "only showing top 5 rows\n",
            "\n",
            "Rows count : 15478\n"
          ]
        }
      ]
    },
    {
      "cell_type": "code",
      "source": [
        "df_medications.show(5)\n",
        "rows = df_medications.count()\n",
        "print(f\"Rows count : {rows}\")"
      ],
      "metadata": {
        "colab": {
          "base_uri": "https://localhost:8080/"
        },
        "id": "CIJikwShFHCv",
        "outputId": "3b50dca7-5cc5-4116-8eda-7c0af3cc8aa2"
      },
      "execution_count": 14,
      "outputs": [
        {
          "output_type": "stream",
          "name": "stdout",
          "text": [
            "+--------------------+--------------------+--------------------+--------------------+--------------------+------+--------------------+---------+--------------+---------+---------+----------+--------------------+\n",
            "|               START|                STOP|             PATIENT|               PAYER|           ENCOUNTER|  CODE|         DESCRIPTION|BASE_COST|PAYER_COVERAGE|DISPENSES|TOTALCOST|REASONCODE|   REASONDESCRIPTION|\n",
            "+--------------------+--------------------+--------------------+--------------------+--------------------+------+--------------------+---------+--------------+---------+---------+----------+--------------------+\n",
            "|2010-05-05T00:26:23Z|2011-04-30T00:26:23Z|8d4c4326-e9de-4f4...|b1c428d6-4f07-31e...|1e0d6b0e-1711-4a2...|389221|Etonogestrel 68 M...|   677.08|          0.00|       12|  8124.96|      null|                null|\n",
            "|2011-04-30T00:26:23Z|2012-04-24T00:26:23Z|8d4c4326-e9de-4f4...|b1c428d6-4f07-31e...|6aa37300-d1b4-48e...|389221|Etonogestrel 68 M...|   624.09|          0.00|       12|  7489.08|      null|                null|\n",
            "|2012-04-24T00:26:23Z|2013-04-19T00:26:23Z|8d4c4326-e9de-4f4...|b1c428d6-4f07-31e...|7253a9f9-6f6d-429...|748856|     Yaz 28 Day Pack|    43.32|          0.00|       12|   519.84|      null|                null|\n",
            "|2011-05-13T12:58:08Z|2011-05-27T12:58:08Z|10339b10-3cd1-4ac...|d47b3510-2895-3b7...|e1ab4933-07a1-49f...|313782|Acetaminophen 325...|     8.14|          0.00|        1|     8.14|  10509002|Acute bronchitis ...|\n",
            "|2011-12-08T15:02:18Z|2011-12-22T15:02:18Z|1d604da9-9a81-4ba...|b1c428d6-4f07-31e...|792fae81-a007-44b...|562251|Amoxicillin 250 M...|    11.91|          0.00|        1|    11.91| 444814009|Viral sinusitis (...|\n",
            "+--------------------+--------------------+--------------------+--------------------+--------------------+------+--------------------+---------+--------------+---------+---------+----------+--------------------+\n",
            "only showing top 5 rows\n",
            "\n",
            "Rows count : 42989\n"
          ]
        }
      ]
    },
    {
      "cell_type": "code",
      "source": [
        "df_observations.show(5)\n",
        "rows = df_observations.count()\n",
        "print(f\"Rows count : {rows}\")"
      ],
      "metadata": {
        "colab": {
          "base_uri": "https://localhost:8080/"
        },
        "id": "kF7V9FGsFHJa",
        "outputId": "2cb7878d-73d9-4638-ad9f-f4074b76ae70"
      },
      "execution_count": 15,
      "outputs": [
        {
          "output_type": "stream",
          "name": "stdout",
          "text": [
            "+--------------------+--------------------+--------------------+-------+--------------------+-----+-------+-------+\n",
            "|                DATE|             PATIENT|           ENCOUNTER|   CODE|         DESCRIPTION|VALUE|  UNITS|   TYPE|\n",
            "+--------------------+--------------------+--------------------+-------+--------------------+-----+-------+-------+\n",
            "|2012-01-23T17:45:28Z|034e9e3b-2def-455...|e88bc3a9-007c-405...| 8302-2|         Body Height|193.3|     cm|numeric|\n",
            "|2012-01-23T17:45:28Z|034e9e3b-2def-455...|e88bc3a9-007c-405...|72514-3|Pain severity - 0...|  2.0|{score}|numeric|\n",
            "|2012-01-23T17:45:28Z|034e9e3b-2def-455...|e88bc3a9-007c-405...|29463-7|         Body Weight| 87.8|     kg|numeric|\n",
            "|2012-01-23T17:45:28Z|034e9e3b-2def-455...|e88bc3a9-007c-405...|39156-5|     Body Mass Index| 23.5|  kg/m2|numeric|\n",
            "|2012-01-23T17:45:28Z|034e9e3b-2def-455...|e88bc3a9-007c-405...| 8462-4|Diastolic Blood P...| 82.0| mm[Hg]|numeric|\n",
            "+--------------------+--------------------+--------------------+-------+--------------------+-----+-------+-------+\n",
            "only showing top 5 rows\n",
            "\n",
            "Rows count : 299697\n"
          ]
        }
      ]
    },
    {
      "cell_type": "code",
      "source": [
        "df_organizations.show(5)\n",
        "rows = df_organizations.count()\n",
        "print(f\"Rows count : {rows}\")"
      ],
      "metadata": {
        "colab": {
          "base_uri": "https://localhost:8080/"
        },
        "id": "FCVwoVsDFHQ2",
        "outputId": "7e83e1ca-e393-4418-b17d-84e56e8f8b11"
      },
      "execution_count": 16,
      "outputs": [
        {
          "output_type": "stream",
          "name": "stdout",
          "text": [
            "+--------------------+--------------------+--------------------+----------+-----+-----+---------+----------+----------+------------------+-----------+\n",
            "|                  Id|                NAME|             ADDRESS|      CITY|STATE|  ZIP|      LAT|       LON|     PHONE|           REVENUE|UTILIZATION|\n",
            "+--------------------+--------------------+--------------------+----------+-----+-----+---------+----------+----------+------------------+-----------+\n",
            "|ef58ea08-d883-395...|HEALTHALLIANCE HO...|    60 HOSPITAL ROAD|LEOMINSTER|   MA|01453|42.520838|-71.770876|9784662000|198002.28000000442|       1557|\n",
            "|69176529-fd1f-3b3...|MOUNT AUBURN HOSP...|330 MOUNT AUBURN ...| CAMBRIDGE|   MA|02138|42.375967|-71.118275|6174923500| 288569.1700000008|       2296|\n",
            "|5e765f2b-e908-388...|STURDY MEMORIAL H...|     211 PARK STREET| ATTLEBORO|   MA|02703|41.931653|-71.294503|5082225200|287355.03000000096|       2287|\n",
            "|f1fbcbfb-fcfa-3bd...|LAWRENCE GENERAL ...|  ONE GENERAL STREET|  LAWRENCE|   MA|01842|42.700273|-71.161357|9786834000| 163386.9800000027|       1327|\n",
            "|e002090d-4e92-300...|CAMBRIDGE HEALTH ...|1493 CAMBRIDGE ST...| CAMBRIDGE|   MA|02138|42.375967|-71.118275|6176652300|406053.18999997765|       3199|\n",
            "+--------------------+--------------------+--------------------+----------+-----+-----+---------+----------+----------+------------------+-----------+\n",
            "only showing top 5 rows\n",
            "\n",
            "Rows count : 1119\n"
          ]
        }
      ]
    },
    {
      "cell_type": "code",
      "source": [
        "df_patients.show(5)\n",
        "rows = df_patients.count()\n",
        "print(f\"Rows count : {rows}\")"
      ],
      "metadata": {
        "colab": {
          "base_uri": "https://localhost:8080/"
        },
        "id": "SulkYVlvFHYy",
        "outputId": "a3e24141-1ed3-4d57-decd-387cce127d72"
      },
      "execution_count": 17,
      "outputs": [
        {
          "output_type": "stream",
          "name": "stdout",
          "text": [
            "+--------------------+----------+---------+-----------+---------+----------+------+---------------+-------------+------+-------------+-------+-----+-----------+------+--------------------+--------------------+----------+-------------+----------------+-----+------------------+------------------+-------------------+-------------------+\n",
            "|                  Id| BIRTHDATE|DEATHDATE|        SSN|  DRIVERS|  PASSPORT|PREFIX|          FIRST|         LAST|SUFFIX|       MAIDEN|MARITAL| RACE|  ETHNICITY|GENDER|          BIRTHPLACE|             ADDRESS|      CITY|        STATE|          COUNTY|  ZIP|               LAT|               LON|HEALTHCARE_EXPENSES|HEALTHCARE_COVERAGE|\n",
            "+--------------------+----------+---------+-----------+---------+----------+------+---------------+-------------+------+-------------+-------+-----+-----------+------+--------------------+--------------------+----------+-------------+----------------+-----+------------------+------------------+-------------------+-------------------+\n",
            "|1d604da9-9a81-4ba...|1989-05-25|     null|999-76-6866|S99984236|X19277260X|   Mr.|José Eduardo181|     Gómez206|  null|         null|      M|white|   hispanic|     M|Marigot  Saint An...|427 Balistreri Wa...|  Chicopee|Massachusetts|  Hampden County|01013| 42.22835382315942|-72.56295055096882|          271227.08| 1334.8799999999999|\n",
            "|034e9e3b-2def-455...|1983-11-14|     null|999-73-5361|S99962402|X88275464X|   Mr.|        Milo271|      Feil794|  null|         null|      M|white|nonhispanic|     M|Danvers  Massachu...|422 Farrell Path ...|Somerville|Massachusetts|Middlesex County|02143| 42.36069732777065|-71.12653095133149|          793946.01|            3204.49|\n",
            "|10339b10-3cd1-4ac...|1992-06-02|     null|999-27-3385|S99972682|X73754411X|   Mr.|      Jayson808|     Fadel536|  null|         null|      M|white|nonhispanic|     M|Springfield  Mass...|1056 Harris Lane ...|  Chicopee|Massachusetts|  Hampden County|01020|42.181642300277424|-72.60884222581657|           574111.9| 2606.3999999999996|\n",
            "|8d4c4326-e9de-4f4...|1978-05-27|     null|999-85-4926|S99974448|X40915583X|  Mrs.|     Mariana775|Rutherford999|  null|Williamson769|      M|white|nonhispanic|     F|Yarmouth  Massach...|      999 Kuhn Forge|    Lowell|Massachusetts|Middlesex County|01851| 42.63614335069588| -71.3432549217789|           935630.3|  8756.189999999999|\n",
            "|f5dcd418-09fe-4a2...|1996-10-18|     null|999-60-7372|S99915787|X86772962X|   Mr.|    Gregorio366|       Auer97|  null|         null|   null|white|nonhispanic|     M|  Patras  Achaea  GR|1050 Lindgren Ext...|    Boston|Massachusetts|  Suffolk County|02135| 42.35243426303177|-71.02861042115062|          598763.07|             3772.2|\n",
            "+--------------------+----------+---------+-----------+---------+----------+------+---------------+-------------+------+-------------+-------+-----+-----------+------+--------------------+--------------------+----------+-------------+----------------+-----+------------------+------------------+-------------------+-------------------+\n",
            "only showing top 5 rows\n",
            "\n",
            "Rows count : 1171\n"
          ]
        }
      ]
    },
    {
      "cell_type": "code",
      "source": [
        "df_pyr_transitions.show(5)\n",
        "rows = df_pyr_transitions.count()\n",
        "print(f\"Rows count : {rows}\")"
      ],
      "metadata": {
        "colab": {
          "base_uri": "https://localhost:8080/"
        },
        "id": "2USvvPwVFHj2",
        "outputId": "171b7cfe-bf7c-44ab-95ba-acc77313527e"
      },
      "execution_count": 18,
      "outputs": [
        {
          "output_type": "stream",
          "name": "stdout",
          "text": [
            "+--------------------+----------+--------+--------------------+---------+\n",
            "|             PATIENT|START_YEAR|END_YEAR|               PAYER|OWNERSHIP|\n",
            "+--------------------+----------+--------+--------------------+---------+\n",
            "|1d604da9-9a81-4ba...|      1989|    1998|b1c428d6-4f07-31e...| Guardian|\n",
            "|034e9e3b-2def-455...|      1983|    2001|6e2f1a2d-27bd-370...| Guardian|\n",
            "|8d4c4326-e9de-4f4...|      1978|    1995|7c4411ce-02f1-39b...| Guardian|\n",
            "|8d4c4326-e9de-4f4...|      1996|    1996|5059a55e-5d6e-34d...|     Self|\n",
            "|8d4c4326-e9de-4f4...|      1997|    1999|7c4411ce-02f1-39b...|     Self|\n",
            "+--------------------+----------+--------+--------------------+---------+\n",
            "only showing top 5 rows\n",
            "\n",
            "Rows count : 3801\n"
          ]
        }
      ]
    },
    {
      "cell_type": "code",
      "source": [
        "df_pyr.show(5)\n",
        "rows = df_pyr.count()\n",
        "print(f\"Rows count : {rows}\")"
      ],
      "metadata": {
        "colab": {
          "base_uri": "https://localhost:8080/"
        },
        "id": "YsWsPPrnFHxW",
        "outputId": "708c9757-0fd5-4ed4-c80c-7e4a7371bf07"
      },
      "execution_count": 19,
      "outputs": [
        {
          "output_type": "stream",
          "name": "stdout",
          "text": [
            "+--------------------+--------------------+------------------+----------+-------------------+-----+--------------+--------------+----------------+------------+------------------+--------------------+-------------------+---------------------+------------------+--------------------+---------------------+-----------------------+----------------+-------------------+-------------+\n",
            "|                  Id|                NAME|           ADDRESS|      CITY|STATE_HEADQUARTERED|  ZIP|         PHONE|AMOUNT_COVERED|AMOUNT_UNCOVERED|     REVENUE|COVERED_ENCOUNTERS|UNCOVERED_ENCOUNTERS|COVERED_MEDICATIONS|UNCOVERED_MEDICATIONS|COVERED_PROCEDURES|UNCOVERED_PROCEDURES|COVERED_IMMUNIZATIONS|UNCOVERED_IMMUNIZATIONS|UNIQUE_CUSTOMERS|           QOLS_AVG|MEMBER_MONTHS|\n",
            "+--------------------+--------------------+------------------+----------+-------------------+-----+--------------+--------------+----------------+------------+------------------+--------------------+-------------------+---------------------+------------------+--------------------+---------------------+-----------------------+----------------+-------------------+-------------+\n",
            "|b3221cfc-24fb-339...|       Dual Eligible|7500 Security Blvd| Baltimore|                 MD|21244|1-877-267-2323|     141676.87|       119449.83|  1305000.00|               907|                   0|                556|                    0|               280|                   0|                  223|                      0|              25|0.36280967419034615|         3348|\n",
            "|7caa7254-5050-3b5...|            Medicare|7500 Security Blvd| Baltimore|                 MD|21244|1-800-633-4227|    4756720.13|       890394.37|  7122250.00|             11072|                   0|              13471|                    0|              7383|                   0|                 2557|                      0|             198| 0.7862229178329115|        29760|\n",
            "|7c4411ce-02f1-39b...|            Medicaid|7500 Security Blvd| Baltimore|                 MD|21244|1-877-267-2323|    3636994.03|      1814967.93| 20365500.00|             26878|                   0|               6382|                    0|             47611|                   0|                 7022|                      0|             507|  0.812136717075754|        84276|\n",
            "|d47b3510-2895-3b7...|              Humana|  500 West Main St|Louisville|                 KY|40018|1-844-330-7799|     716971.60|       842531.43|118500200.00|             12117|                1796|                  0|                 4985|             12718|                 550|                 6832|                    195|             281| 0.9118434431490968|        70308|\n",
            "|6e2f1a2d-27bd-370...|Blue Cross Blue S...|    Michigan Plaza|   Chicago|                 IL|60007|1-800-262-2583|    2741717.82|      1431463.91|140652000.00|             16168|                   0|               6159|                    0|             15312|                   0|                 7520|                      0|             307| 0.9072563661939262|        78768|\n",
            "+--------------------+--------------------+------------------+----------+-------------------+-----+--------------+--------------+----------------+------------+------------------+--------------------+-------------------+---------------------+------------------+--------------------+---------------------+-----------------------+----------------+-------------------+-------------+\n",
            "only showing top 5 rows\n",
            "\n",
            "Rows count : 10\n"
          ]
        }
      ]
    },
    {
      "cell_type": "code",
      "source": [
        "df_procedures.show(5)\n",
        "rows = df_procedures.count()\n",
        "print(f\"Rows count : {rows}\")"
      ],
      "metadata": {
        "colab": {
          "base_uri": "https://localhost:8080/"
        },
        "id": "xBv_U9IMFH-B",
        "outputId": "274a203c-a12e-48db-ca64-d5fd49729232"
      },
      "execution_count": 20,
      "outputs": [
        {
          "output_type": "stream",
          "name": "stdout",
          "text": [
            "+--------------------+--------------------+--------------------+---------+--------------------+---------+----------+--------------------+\n",
            "|                DATE|             PATIENT|           ENCOUNTER|     CODE|         DESCRIPTION|BASE_COST|REASONCODE|   REASONDESCRIPTION|\n",
            "+--------------------+--------------------+--------------------+---------+--------------------+---------+----------+--------------------+\n",
            "|2011-04-30T00:26:23Z|8d4c4326-e9de-4f4...|6aa37300-d1b4-48e...|169553002|Insertion of subc...| 14896.56|      null|                null|\n",
            "|2010-07-27T12:58:08Z|10339b10-3cd1-4ac...|dae2b7cb-1316-4b7...|430193006|Medication Reconc...|   726.51|      null|                null|\n",
            "|2010-11-20T03:04:34Z|f5dcd418-09fe-4a2...|7ff86631-0378-4bf...|430193006|Medication Reconc...|   788.50|      null|                null|\n",
            "|2011-02-07T03:04:34Z|f5dcd418-09fe-4a2...|b8f76eba-7795-4dc...|117015009|Throat culture (p...|  2070.44| 195662009|Acute viral phary...|\n",
            "|2011-04-19T03:04:34Z|f5dcd418-09fe-4a2...|640837d9-845a-433...|117015009|Throat culture (p...|  2479.39| 195662009|Acute viral phary...|\n",
            "+--------------------+--------------------+--------------------+---------+--------------------+---------+----------+--------------------+\n",
            "only showing top 5 rows\n",
            "\n",
            "Rows count : 34981\n"
          ]
        }
      ]
    },
    {
      "cell_type": "code",
      "source": [
        "df_providers.show(5)\n",
        "rows = df_providers.count()\n",
        "print(f\"Rows count : {rows}\")"
      ],
      "metadata": {
        "colab": {
          "base_uri": "https://localhost:8080/"
        },
        "id": "LO9EzEhrFIHo",
        "outputId": "ef544150-751d-4e94-e571-d630ce65ac39"
      },
      "execution_count": 21,
      "outputs": [
        {
          "output_type": "stream",
          "name": "stdout",
          "text": [
            "+--------------------+--------------------+--------------------+------+----------------+--------------------+----------+-----+-----+---------+----------+-----------+\n",
            "|                  Id|        ORGANIZATION|                NAME|GENDER|      SPECIALITY|             ADDRESS|      CITY|STATE|  ZIP|      LAT|       LON|UTILIZATION|\n",
            "+--------------------+--------------------+--------------------+------+----------------+--------------------+----------+-----+-----+---------+----------+-----------+\n",
            "|3421aa75-dec7-378...|ef58ea08-d883-395...|   Tomas436 Sauer652|     M|GENERAL PRACTICE|    60 HOSPITAL ROAD|LEOMINSTER|   MA|01453|42.520838|-71.770876|       1557|\n",
            "|c9b3c857-2e24-320...|69176529-fd1f-3b3...|Suzette512 Monaha...|     F|GENERAL PRACTICE|330 MOUNT AUBURN ...| CAMBRIDGE|   MA|02138|42.375967|-71.118275|       2296|\n",
            "|0359f968-d1a6-30e...|5e765f2b-e908-388...|Gaynell126 Streic...|     F|GENERAL PRACTICE|     211 PARK STREET| ATTLEBORO|   MA|02703|41.931653|-71.294503|       2287|\n",
            "|446d1609-858f-3a5...|f1fbcbfb-fcfa-3bd...|Patricia625 Salga...|     F|GENERAL PRACTICE|  ONE GENERAL STREET|  LAWRENCE|   MA|01842|42.700273|-71.161357|       1327|\n",
            "|e6283e46-fd81-361...|e002090d-4e92-300...|Jeanmarie510 Beat...|     F|GENERAL PRACTICE|1493 CAMBRIDGE ST...| CAMBRIDGE|   MA|02138|42.375967|-71.118275|       3199|\n",
            "+--------------------+--------------------+--------------------+------+----------------+--------------------+----------+-----+-----+---------+----------+-----------+\n",
            "only showing top 5 rows\n",
            "\n",
            "Rows count : 5855\n"
          ]
        }
      ]
    },
    {
      "cell_type": "code",
      "source": [
        "df_supplies.show(5)\n",
        "rows = df_supplies.count()\n",
        "print(f\"Rows count : {rows}\")"
      ],
      "metadata": {
        "colab": {
          "base_uri": "https://localhost:8080/"
        },
        "id": "hSmtSolZFyja",
        "outputId": "3be8d8b2-89dc-4af0-ecfd-0b99464e4292"
      },
      "execution_count": 22,
      "outputs": [
        {
          "output_type": "stream",
          "name": "stdout",
          "text": [
            "+----+-------+---------+----+-----------+--------+\n",
            "|DATE|PATIENT|ENCOUNTER|CODE|DESCRIPTION|QUANTITY|\n",
            "+----+-------+---------+----+-----------+--------+\n",
            "+----+-------+---------+----+-----------+--------+\n",
            "\n",
            "Rows count : 0\n"
          ]
        }
      ]
    },
    {
      "cell_type": "markdown",
      "source": [
        "Cleaning/Preprocessing the data"
      ],
      "metadata": {
        "id": "flf69xYSB2PK"
      }
    },
    {
      "cell_type": "code",
      "source": [
        "# Change name of header in each dataframe to avoid ambiguity during analysis\n",
        "df_careplans = df_careplans.withColumnRenamed(\"Id\",\"CAREPLAN_ID\")\n",
        "df_encounters = df_encounters.withColumnRenamed(\"Id\",\"ENCOUNTERS_ID\")\n",
        "df_img_studies = df_img_studies.withColumnRenamed(\"Id\",\"IMGSTUDIES_ID\")\n",
        "df_organizations = df_organizations.withColumnRenamed(\"Id\",\"ORG_ID\")\n",
        "df_patients = df_patients.withColumnRenamed(\"Id\",\"PATIENT_ID\")\n",
        "df_pyr = df_pyr.withColumnRenamed(\"Id\",\"PYR_ID\")\n",
        "df_providers = df_providers.withColumnRenamed(\"Id\",\"PROV_ID\")\n",
        "df_careplans.printSchema()"
      ],
      "metadata": {
        "colab": {
          "base_uri": "https://localhost:8080/"
        },
        "id": "IFxXuuCTB-AL",
        "outputId": "7f5d18ac-9c67-4fd1-b2b3-9d4ed5b3cb9e"
      },
      "execution_count": 52,
      "outputs": [
        {
          "output_type": "stream",
          "name": "stdout",
          "text": [
            "root\n",
            " |-- CAREPLAN_ID: string (nullable = true)\n",
            " |-- START: string (nullable = true)\n",
            " |-- STOP: string (nullable = true)\n",
            " |-- PATIENT: string (nullable = true)\n",
            " |-- ENCOUNTER: string (nullable = true)\n",
            " |-- CODE: string (nullable = true)\n",
            " |-- DESCRIPTION: string (nullable = true)\n",
            " |-- REASONCODE: string (nullable = true)\n",
            " |-- REASONDESCRIPTION: string (nullable = true)\n",
            "\n"
          ]
        }
      ]
    },
    {
      "cell_type": "code",
      "source": [
        "df_patients.printSchema()"
      ],
      "metadata": {
        "id": "SrSfoyMYEW1C",
        "colab": {
          "base_uri": "https://localhost:8080/"
        },
        "outputId": "84ebcbd8-cf8e-450d-aea6-07e9d0f607d6"
      },
      "execution_count": 53,
      "outputs": [
        {
          "output_type": "stream",
          "name": "stdout",
          "text": [
            "root\n",
            " |-- PATIENT_ID: string (nullable = true)\n",
            " |-- BIRTHDATE: string (nullable = true)\n",
            " |-- DEATHDATE: string (nullable = true)\n",
            " |-- SSN: string (nullable = true)\n",
            " |-- DRIVERS: string (nullable = true)\n",
            " |-- PASSPORT: string (nullable = true)\n",
            " |-- PREFIX: string (nullable = true)\n",
            " |-- FIRST: string (nullable = true)\n",
            " |-- LAST: string (nullable = true)\n",
            " |-- SUFFIX: string (nullable = true)\n",
            " |-- MAIDEN: string (nullable = true)\n",
            " |-- MARITAL: string (nullable = true)\n",
            " |-- RACE: string (nullable = true)\n",
            " |-- ETHNICITY: string (nullable = true)\n",
            " |-- GENDER: string (nullable = true)\n",
            " |-- BIRTHPLACE: string (nullable = true)\n",
            " |-- ADDRESS: string (nullable = true)\n",
            " |-- CITY: string (nullable = true)\n",
            " |-- STATE: string (nullable = true)\n",
            " |-- COUNTY: string (nullable = true)\n",
            " |-- ZIP: string (nullable = true)\n",
            " |-- LAT: string (nullable = true)\n",
            " |-- LON: string (nullable = true)\n",
            " |-- HEALTHCARE_EXPENSES: string (nullable = true)\n",
            " |-- HEALTHCARE_COVERAGE: string (nullable = true)\n",
            "\n"
          ]
        }
      ]
    },
    {
      "cell_type": "code",
      "source": [
        "df_encounters.printSchema()"
      ],
      "metadata": {
        "colab": {
          "base_uri": "https://localhost:8080/"
        },
        "id": "JVUuc4oAP05w",
        "outputId": "0c92c506-3545-45b3-a995-99b50ad5c75c"
      },
      "execution_count": 25,
      "outputs": [
        {
          "output_type": "stream",
          "name": "stdout",
          "text": [
            "root\n",
            " |-- ENCOUNTERS_ID: string (nullable = true)\n",
            " |-- START: string (nullable = true)\n",
            " |-- STOP: string (nullable = true)\n",
            " |-- PATIENT: string (nullable = true)\n",
            " |-- ORGANIZATION: string (nullable = true)\n",
            " |-- PROVIDER: string (nullable = true)\n",
            " |-- PAYER: string (nullable = true)\n",
            " |-- ENCOUNTERCLASS: string (nullable = true)\n",
            " |-- CODE: string (nullable = true)\n",
            " |-- DESCRIPTION: string (nullable = true)\n",
            " |-- BASE_ENCOUNTER_COST: string (nullable = true)\n",
            " |-- TOTAL_CLAIM_COST: string (nullable = true)\n",
            " |-- PAYER_COVERAGE: string (nullable = true)\n",
            " |-- REASONCODE: string (nullable = true)\n",
            " |-- REASONDESCRIPTION: string (nullable = true)\n",
            "\n"
          ]
        }
      ]
    },
    {
      "cell_type": "code",
      "source": [
        "# Converting field type from string to numeric for df_patients\n",
        "df_patients = df_patients.withColumn(\"HEALTHCARE_EXPENSES\",df_patients.HEALTHCARE_EXPENSES.cast(IntegerType())) \\\n",
        "                         .withColumn(\"HEALTHCARE_COVERAGE\",df_patients.HEALTHCARE_COVERAGE.cast(IntegerType()))"
      ],
      "metadata": {
        "id": "5VH-SfiCg6bk"
      },
      "execution_count": 54,
      "outputs": []
    },
    {
      "cell_type": "code",
      "source": [
        "# Adding new filed to df_patients called 'AGE'\n",
        "df_patients = df_patients.withColumn(\"AGE\", floor(datediff(to_date(lit(\"2020-04-01\")), col(\"BIRTHDATE\"))/365.25))"
      ],
      "metadata": {
        "id": "EBQJNsxRhYqe"
      },
      "execution_count": 62,
      "outputs": []
    },
    {
      "cell_type": "code",
      "source": [
        "# Converting field type from string to numeric for df_encounter\n",
        "df_encounters = df_encounters.withColumn(\"BASE_ENCOUNTER_COST\",df_encounters.BASE_ENCOUNTER_COST.cast(IntegerType())) \\\n",
        "                             .withColumn(\"TOTAL_CLAIM_COST\",df_encounters.TOTAL_CLAIM_COST.cast(IntegerType())) \\\n",
        "                             .withColumn(\"PAYER_COVERAGE\",df_encounters.PAYER_COVERAGE.cast(IntegerType()))"
      ],
      "metadata": {
        "id": "GWeBTYIvXI3H"
      },
      "execution_count": 27,
      "outputs": []
    },
    {
      "cell_type": "code",
      "source": [
        "# Selecting selective columns like ID, NAME, EXPENSES for patients\n",
        "df_patients = df_patients.select(\"PATIENT_ID\",\"SSN\",\"DRIVERS\",\"FIRST\",\"LAST\",\"MAIDEN\",\"GENDER\",\"AGE\",\"HEALTHCARE_EXPENSES\",\"HEALTHCARE_COVERAGE\")\n",
        "df_patients.show(5)"
      ],
      "metadata": {
        "colab": {
          "base_uri": "https://localhost:8080/"
        },
        "id": "Zu-8BHELN0bF",
        "outputId": "ce30cf89-195b-4df4-b287-a9cb190f818d"
      },
      "execution_count": 63,
      "outputs": [
        {
          "output_type": "stream",
          "name": "stdout",
          "text": [
            "+--------------------+-----------+---------+---------------+-------------+-------------+------+---+-------------------+-------------------+\n",
            "|          PATIENT_ID|        SSN|  DRIVERS|          FIRST|         LAST|       MAIDEN|GENDER|AGE|HEALTHCARE_EXPENSES|HEALTHCARE_COVERAGE|\n",
            "+--------------------+-----------+---------+---------------+-------------+-------------+------+---+-------------------+-------------------+\n",
            "|1d604da9-9a81-4ba...|999-76-6866|S99984236|José Eduardo181|     Gómez206|         null|     M| 30|             271227|               1334|\n",
            "|034e9e3b-2def-455...|999-73-5361|S99962402|        Milo271|      Feil794|         null|     M| 36|             793946|               3204|\n",
            "|10339b10-3cd1-4ac...|999-27-3385|S99972682|      Jayson808|     Fadel536|         null|     M| 27|             574111|               2606|\n",
            "|8d4c4326-e9de-4f4...|999-85-4926|S99974448|     Mariana775|Rutherford999|Williamson769|     F| 41|             935630|               8756|\n",
            "|f5dcd418-09fe-4a2...|999-60-7372|S99915787|    Gregorio366|       Auer97|         null|     M| 23|             598763|               3772|\n",
            "+--------------------+-----------+---------+---------------+-------------+-------------+------+---+-------------------+-------------------+\n",
            "only showing top 5 rows\n",
            "\n"
          ]
        }
      ]
    },
    {
      "cell_type": "markdown",
      "source": [
        "Initial Data Analysis"
      ],
      "metadata": {
        "id": "_P-Gg5zz9RvW"
      }
    },
    {
      "cell_type": "markdown",
      "source": [
        "------------"
      ],
      "metadata": {
        "id": "GsQaRzJgtxjC"
      }
    },
    {
      "cell_type": "code",
      "source": [
        "pat_enc = df_patients.join(df_encounters, trim(df_patients.PATIENT_ID) == trim(df_encounters.PATIENT))\n",
        "pat_enc.show(5)\n",
        "rows = pat_enc.count()\n",
        "print(f\"Rows count : {rows}\")"
      ],
      "metadata": {
        "colab": {
          "base_uri": "https://localhost:8080/"
        },
        "id": "r0iXZhmbxCpk",
        "outputId": "8fa937da-3816-4661-a0f3-a86332492f0b"
      },
      "execution_count": 64,
      "outputs": [
        {
          "output_type": "stream",
          "name": "stdout",
          "text": [
            "+--------------------+-----------+---------+---------------+--------+------+------+---+-------------------+-------------------+--------------------+--------------------+--------------------+--------------------+--------------------+--------------------+--------------------+--------------+---------+--------------------+-------------------+----------------+--------------+----------+--------------------+\n",
            "|          PATIENT_ID|        SSN|  DRIVERS|          FIRST|    LAST|MAIDEN|GENDER|AGE|HEALTHCARE_EXPENSES|HEALTHCARE_COVERAGE|       ENCOUNTERS_ID|               START|                STOP|             PATIENT|        ORGANIZATION|            PROVIDER|               PAYER|ENCOUNTERCLASS|     CODE|         DESCRIPTION|BASE_ENCOUNTER_COST|TOTAL_CLAIM_COST|PAYER_COVERAGE|REASONCODE|   REASONDESCRIPTION|\n",
            "+--------------------+-----------+---------+---------------+--------+------+------+---+-------------------+-------------------+--------------------+--------------------+--------------------+--------------------+--------------------+--------------------+--------------------+--------------+---------+--------------------+-------------------+----------------+--------------+----------+--------------------+\n",
            "|034e9e3b-2def-455...|999-73-5361|S99962402|        Milo271| Feil794|  null|     M| 36|             793946|               3204|d0c40d10-8d87-447...|2010-01-23T17:45:28Z|2010-01-23T18:10:28Z|034e9e3b-2def-455...|e002090d-4e92-300...|e6283e46-fd81-361...|6e2f1a2d-27bd-370...|    ambulatory|185345009|Encounter for sym...|                129|             129|            54|  10509002|Acute bronchitis ...|\n",
            "|034e9e3b-2def-455...|999-73-5361|S99962402|        Milo271| Feil794|  null|     M| 36|             793946|               3204|e88bc3a9-007c-405...|2012-01-23T17:45:28Z|2012-01-23T18:00:28Z|034e9e3b-2def-455...|772ee193-bb9f-30e...|6f1d59a7-a5bd-3cf...|6e2f1a2d-27bd-370...|      wellness|162673000|General examinati...|                129|             129|           129|      null|                null|\n",
            "|1d604da9-9a81-4ba...|999-76-6866|S99984236|José Eduardo181|Gómez206|  null|     M| 30|             271227|               1334|8f104aa7-4ca9-447...|2001-05-01T15:02:18Z|2001-05-01T15:17:18Z|1d604da9-9a81-4ba...|5d4b9df1-93ae-3bc...|af01a385-31d3-3c7...|b1c428d6-4f07-31e...|    ambulatory|185345009|Encounter for sym...|                129|             129|             0|  36971009|Sinusitis (disorder)|\n",
            "|1d604da9-9a81-4ba...|999-76-6866|S99984236|José Eduardo181|Gómez206|  null|     M| 30|             271227|               1334|b85c339a-6076-43e...|2011-07-28T15:02:18Z|2011-07-28T15:17:18Z|1d604da9-9a81-4ba...|3dc9bb2d-5d66-3e6...|bb17e691-262b-354...|b1c428d6-4f07-31e...|      wellness|162673000|General examinati...|                129|             129|             0|      null|                null|\n",
            "|10339b10-3cd1-4ac...|999-27-3385|S99972682|      Jayson808|Fadel536|  null|     M| 27|             574111|               2606|dae2b7cb-1316-4b7...|2010-07-27T12:58:08Z|2010-07-27T13:28:08Z|10339b10-3cd1-4ac...|b03dba4f-892f-365...|7ed6b84a-b847-374...|d47b3510-2895-3b7...|      wellness|162673000|General examinati...|                129|             129|           129|      null|                null|\n",
            "+--------------------+-----------+---------+---------------+--------+------+------+---+-------------------+-------------------+--------------------+--------------------+--------------------+--------------------+--------------------+--------------------+--------------------+--------------+---------+--------------------+-------------------+----------------+--------------+----------+--------------------+\n",
            "only showing top 5 rows\n",
            "\n",
            "Rows count : 53346\n"
          ]
        }
      ]
    },
    {
      "cell_type": "code",
      "source": [
        "temp_RDD = pat_enc.groupBy(\"REASONCODE\").sum(\"BASE_ENCOUNTER_COST\", \"TOTAL_CLAIM_COST\", \"PAYER_COVERAGE\", \"HEALTHCARE_EXPENSES\", \"HEALTHCARE_COVERAGE\")\n",
        "temp_RDD.show(5)\n",
        "print(f\"Rows count : {temp_RDD.count()}\")"
      ],
      "metadata": {
        "colab": {
          "base_uri": "https://localhost:8080/"
        },
        "id": "xucLhyJWQgXh",
        "outputId": "8ad671b6-fe1f-4fba-fe7f-18d9a63ce506"
      },
      "execution_count": 30,
      "outputs": [
        {
          "output_type": "stream",
          "name": "stdout",
          "text": [
            "+----------+------------------------+---------------------+-------------------+------------------------+------------------------+\n",
            "|REASONCODE|sum(BASE_ENCOUNTER_COST)|sum(TOTAL_CLAIM_COST)|sum(PAYER_COVERAGE)|sum(HEALTHCARE_EXPENSES)|sum(HEALTHCARE_COVERAGE)|\n",
            "+----------+------------------------+---------------------+-------------------+------------------------+------------------------+\n",
            "| 301011002|                    7482|                 7482|               2582|                51873681|                  574753|\n",
            "| 359817006|                    1419|                 1419|                695|                 7867530|                  256877|\n",
            "|  26929004|                    5676|                 5676|               3647|                58494741|                 1036959|\n",
            "|  62564004|                    2967|                 2967|               1226|                14788644|                  270229|\n",
            "|  65275009|                     129|                  129|                 69|                  201672|                   17259|\n",
            "+----------+------------------------+---------------------+-------------------+------------------------+------------------------+\n",
            "only showing top 5 rows\n",
            "\n",
            "Rows count : 81\n"
          ]
        }
      ]
    },
    {
      "cell_type": "code",
      "source": [
        "temp_RDD = pat_enc.groupBy(\"ENCOUNTERCLASS\").sum(\"BASE_ENCOUNTER_COST\", \"TOTAL_CLAIM_COST\", \"PAYER_COVERAGE\", \"HEALTHCARE_EXPENSES\", \"HEALTHCARE_COVERAGE\")\n",
        "temp_RDD.show(7)\n",
        "print(f\"Rows count : {temp_RDD.count()}\")"
      ],
      "metadata": {
        "colab": {
          "base_uri": "https://localhost:8080/"
        },
        "id": "p0sVuB62gGal",
        "outputId": "de2a29b4-844f-4e50-8d1c-fa103dcdfa6b"
      },
      "execution_count": 31,
      "outputs": [
        {
          "output_type": "stream",
          "name": "stdout",
          "text": [
            "+--------------+------------------------+---------------------+-------------------+------------------------+------------------------+\n",
            "|ENCOUNTERCLASS|sum(BASE_ENCOUNTER_COST)|sum(TOTAL_CLAIM_COST)|sum(PAYER_COVERAGE)|sum(HEALTHCARE_EXPENSES)|sum(HEALTHCARE_COVERAGE)|\n",
            "+--------------+------------------------+---------------------+-------------------+------------------------+------------------------+\n",
            "|      wellness|                 2464674|              2464674|            1768169|             17852261350|               442254240|\n",
            "|    outpatient|                 1161387|              1161387|             265231|              8614823270|               729466798|\n",
            "|     emergency|                  269610|               269610|             122801|              1931719609|               190217699|\n",
            "|     inpatient|                  215106|               215106|              81045|              1695314453|               152263991|\n",
            "|    urgentcare|                  306117|               306117|                  0|              3125283327|               468767121|\n",
            "|    ambulatory|                 2442744|              2442744|            1063619|             20320412270|              2302065075|\n",
            "+--------------+------------------------+---------------------+-------------------+------------------------+------------------------+\n",
            "\n",
            "Rows count : 6\n"
          ]
        }
      ]
    },
    {
      "cell_type": "code",
      "source": [
        "# Convert pat_enc dataframe to pandas dataframe\n",
        "pd_pat_enc = pat_enc.select(\"AGE\").toPandas()"
      ],
      "metadata": {
        "id": "j-SqbWJzes6X"
      },
      "execution_count": 73,
      "outputs": []
    },
    {
      "cell_type": "code",
      "source": [
        "#Summary statistics of columns: AGE\n",
        "pd_pat_enc[[\"AGE\"]].describe()"
      ],
      "metadata": {
        "colab": {
          "base_uri": "https://localhost:8080/",
          "height": 300
        },
        "id": "1BYaAbbhRNWl",
        "outputId": "bb9069e5-51e5-4ce4-d2cc-dac502c2fbae"
      },
      "execution_count": 74,
      "outputs": [
        {
          "output_type": "execute_result",
          "data": {
            "text/plain": [
              "                AGE\n",
              "count  53346.000000\n",
              "mean      59.394013\n",
              "std       29.795657\n",
              "min        0.000000\n",
              "25%       35.000000\n",
              "50%       60.000000\n",
              "75%       80.000000\n",
              "max      110.000000"
            ],
            "text/html": [
              "\n",
              "  <div id=\"df-92d5f032-0a17-42a3-8075-41476070e163\">\n",
              "    <div class=\"colab-df-container\">\n",
              "      <div>\n",
              "<style scoped>\n",
              "    .dataframe tbody tr th:only-of-type {\n",
              "        vertical-align: middle;\n",
              "    }\n",
              "\n",
              "    .dataframe tbody tr th {\n",
              "        vertical-align: top;\n",
              "    }\n",
              "\n",
              "    .dataframe thead th {\n",
              "        text-align: right;\n",
              "    }\n",
              "</style>\n",
              "<table border=\"1\" class=\"dataframe\">\n",
              "  <thead>\n",
              "    <tr style=\"text-align: right;\">\n",
              "      <th></th>\n",
              "      <th>AGE</th>\n",
              "    </tr>\n",
              "  </thead>\n",
              "  <tbody>\n",
              "    <tr>\n",
              "      <th>count</th>\n",
              "      <td>53346.000000</td>\n",
              "    </tr>\n",
              "    <tr>\n",
              "      <th>mean</th>\n",
              "      <td>59.394013</td>\n",
              "    </tr>\n",
              "    <tr>\n",
              "      <th>std</th>\n",
              "      <td>29.795657</td>\n",
              "    </tr>\n",
              "    <tr>\n",
              "      <th>min</th>\n",
              "      <td>0.000000</td>\n",
              "    </tr>\n",
              "    <tr>\n",
              "      <th>25%</th>\n",
              "      <td>35.000000</td>\n",
              "    </tr>\n",
              "    <tr>\n",
              "      <th>50%</th>\n",
              "      <td>60.000000</td>\n",
              "    </tr>\n",
              "    <tr>\n",
              "      <th>75%</th>\n",
              "      <td>80.000000</td>\n",
              "    </tr>\n",
              "    <tr>\n",
              "      <th>max</th>\n",
              "      <td>110.000000</td>\n",
              "    </tr>\n",
              "  </tbody>\n",
              "</table>\n",
              "</div>\n",
              "      <button class=\"colab-df-convert\" onclick=\"convertToInteractive('df-92d5f032-0a17-42a3-8075-41476070e163')\"\n",
              "              title=\"Convert this dataframe to an interactive table.\"\n",
              "              style=\"display:none;\">\n",
              "        \n",
              "  <svg xmlns=\"http://www.w3.org/2000/svg\" height=\"24px\"viewBox=\"0 0 24 24\"\n",
              "       width=\"24px\">\n",
              "    <path d=\"M0 0h24v24H0V0z\" fill=\"none\"/>\n",
              "    <path d=\"M18.56 5.44l.94 2.06.94-2.06 2.06-.94-2.06-.94-.94-2.06-.94 2.06-2.06.94zm-11 1L8.5 8.5l.94-2.06 2.06-.94-2.06-.94L8.5 2.5l-.94 2.06-2.06.94zm10 10l.94 2.06.94-2.06 2.06-.94-2.06-.94-.94-2.06-.94 2.06-2.06.94z\"/><path d=\"M17.41 7.96l-1.37-1.37c-.4-.4-.92-.59-1.43-.59-.52 0-1.04.2-1.43.59L10.3 9.45l-7.72 7.72c-.78.78-.78 2.05 0 2.83L4 21.41c.39.39.9.59 1.41.59.51 0 1.02-.2 1.41-.59l7.78-7.78 2.81-2.81c.8-.78.8-2.07 0-2.86zM5.41 20L4 18.59l7.72-7.72 1.47 1.35L5.41 20z\"/>\n",
              "  </svg>\n",
              "      </button>\n",
              "      \n",
              "  <style>\n",
              "    .colab-df-container {\n",
              "      display:flex;\n",
              "      flex-wrap:wrap;\n",
              "      gap: 12px;\n",
              "    }\n",
              "\n",
              "    .colab-df-convert {\n",
              "      background-color: #E8F0FE;\n",
              "      border: none;\n",
              "      border-radius: 50%;\n",
              "      cursor: pointer;\n",
              "      display: none;\n",
              "      fill: #1967D2;\n",
              "      height: 32px;\n",
              "      padding: 0 0 0 0;\n",
              "      width: 32px;\n",
              "    }\n",
              "\n",
              "    .colab-df-convert:hover {\n",
              "      background-color: #E2EBFA;\n",
              "      box-shadow: 0px 1px 2px rgba(60, 64, 67, 0.3), 0px 1px 3px 1px rgba(60, 64, 67, 0.15);\n",
              "      fill: #174EA6;\n",
              "    }\n",
              "\n",
              "    [theme=dark] .colab-df-convert {\n",
              "      background-color: #3B4455;\n",
              "      fill: #D2E3FC;\n",
              "    }\n",
              "\n",
              "    [theme=dark] .colab-df-convert:hover {\n",
              "      background-color: #434B5C;\n",
              "      box-shadow: 0px 1px 3px 1px rgba(0, 0, 0, 0.15);\n",
              "      filter: drop-shadow(0px 1px 2px rgba(0, 0, 0, 0.3));\n",
              "      fill: #FFFFFF;\n",
              "    }\n",
              "  </style>\n",
              "\n",
              "      <script>\n",
              "        const buttonEl =\n",
              "          document.querySelector('#df-92d5f032-0a17-42a3-8075-41476070e163 button.colab-df-convert');\n",
              "        buttonEl.style.display =\n",
              "          google.colab.kernel.accessAllowed ? 'block' : 'none';\n",
              "\n",
              "        async function convertToInteractive(key) {\n",
              "          const element = document.querySelector('#df-92d5f032-0a17-42a3-8075-41476070e163');\n",
              "          const dataTable =\n",
              "            await google.colab.kernel.invokeFunction('convertToInteractive',\n",
              "                                                     [key], {});\n",
              "          if (!dataTable) return;\n",
              "\n",
              "          const docLinkHtml = 'Like what you see? Visit the ' +\n",
              "            '<a target=\"_blank\" href=https://colab.research.google.com/notebooks/data_table.ipynb>data table notebook</a>'\n",
              "            + ' to learn more about interactive tables.';\n",
              "          element.innerHTML = '';\n",
              "          dataTable['output_type'] = 'display_data';\n",
              "          await google.colab.output.renderOutput(dataTable, element);\n",
              "          const docLink = document.createElement('div');\n",
              "          docLink.innerHTML = docLinkHtml;\n",
              "          element.appendChild(docLink);\n",
              "        }\n",
              "      </script>\n",
              "    </div>\n",
              "  </div>\n",
              "  "
            ]
          },
          "metadata": {},
          "execution_count": 74
        }
      ]
    },
    {
      "cell_type": "code",
      "source": [
        "# Find distinct PATIENT, ORGANIZATION, PROVIDER, PAYER\n",
        "temp_RDD = pat_enc.select('PATIENT').distinct()\n",
        "#temp_RDD.show(5)\n",
        "print(f\"Distinct PATIENT Rows count : {temp_RDD.count()}\")\n",
        "temp_RDD = pat_enc.select('ORGANIZATION').distinct()\n",
        "print(f\"Distinct ORGANIZATION Rows count : {temp_RDD.count()}\")\n",
        "temp_RDD = pat_enc.select('PROVIDER').distinct()\n",
        "print(f\"Distinct PROVIDER Rows count : {temp_RDD.count()}\")\n",
        "temp_RDD = pat_enc.select('PAYER').distinct()\n",
        "print(f\"Distinct PAYER Rows count : {temp_RDD.count()}\")"
      ],
      "metadata": {
        "colab": {
          "base_uri": "https://localhost:8080/"
        },
        "id": "eqgEmLjggzVf",
        "outputId": "cdd8833e-b724-4463-84cc-e6187c0bd8c4"
      },
      "execution_count": 78,
      "outputs": [
        {
          "output_type": "stream",
          "name": "stdout",
          "text": [
            "Distinct PATIENT Rows count : 1171\n",
            "Distinct ORGANIZATION Rows count : 1103\n",
            "Distinct PROVIDER Rows count : 1104\n",
            "Distinct PAYER Rows count : 10\n"
          ]
        }
      ]
    },
    {
      "cell_type": "code",
      "source": [
        "# Finding payer coverage report\n",
        "payer_coverage_detail = pat_enc.groupBy(\"PAYER\").sum(\"TOTAL_CLAIM_COST\", \"PAYER_COVERAGE\")\n",
        "payer_coverage_detail = payer_coverage_detail.join(df_pyr, trim(payer_coverage_detail.PAYER) == trim(df_pyr.PYR_ID))\n",
        "payer_coverage_detail.select(\"NAME\", \"sum(TOTAL_CLAIM_COST)\", \"sum(PAYER_COVERAGE)\", \"AMOUNT_COVERED\", \"AMOUNT_UNCOVERED\", \"REVENUE\").show(7)"
      ],
      "metadata": {
        "colab": {
          "base_uri": "https://localhost:8080/"
        },
        "id": "kwThPYeYkDYH",
        "outputId": "96d77b45-dfda-4b8a-800e-8ea1561d40e9"
      },
      "execution_count": 85,
      "outputs": [
        {
          "output_type": "stream",
          "name": "stdout",
          "text": [
            "+--------------------+---------------------+-------------------+--------------+----------------+------------+\n",
            "|                NAME|sum(TOTAL_CLAIM_COST)|sum(PAYER_COVERAGE)|AMOUNT_COVERED|AMOUNT_UNCOVERED|     REVENUE|\n",
            "+--------------------+---------------------+-------------------+--------------+----------------+------------+\n",
            "|        Cigna Health|               485034|             303516|     909661.78|       635040.00|154184100.00|\n",
            "|Blue Cross Blue S...|               849628|             434614|    2741717.82|      1431463.91|140652000.00|\n",
            "|              Anthem|               293217|             224826|     526943.60|       258995.00|152248800.00|\n",
            "|            Medicare|              1244101|             793710|    4756720.13|       890394.37|  7122250.00|\n",
            "|        NO_INSURANCE|              1308779|                  0|          0.00|     10129408.90|        0.00|\n",
            "|       Dual Eligible|                92079|              30496|     141676.87|       119449.83|  1305000.00|\n",
            "|              Humana|               526155|             286380|     716971.60|       842531.43|118500200.00|\n",
            "+--------------------+---------------------+-------------------+--------------+----------------+------------+\n",
            "only showing top 7 rows\n",
            "\n"
          ]
        }
      ]
    },
    {
      "cell_type": "markdown",
      "source": [
        "Joins"
      ],
      "metadata": {
        "id": "0nt9kSnsgrgI"
      }
    },
    {
      "cell_type": "markdown",
      "source": [
        " -----------"
      ],
      "metadata": {
        "id": "XsUAUaz6qJd5"
      }
    },
    {
      "cell_type": "code",
      "source": [
        "temp_RDD = df_patients.join(df_careplans, trim(df_patients.PATIENT_ID) == trim(df_careplans.PATIENT))\n",
        "temp_RDD.show(5)\n",
        "rows = temp_RDD.count()\n",
        "print(f\"Rows count : {rows}\")"
      ],
      "metadata": {
        "colab": {
          "base_uri": "https://localhost:8080/"
        },
        "id": "CPzXUVRVVK_w",
        "outputId": "904f932c-c549-4df6-92e1-8c1824de9086"
      },
      "execution_count": 32,
      "outputs": [
        {
          "output_type": "stream",
          "name": "stdout",
          "text": [
            "+--------------------+-----------+---------+-----------+--------+------+------+-------------------+-------------------+--------------------+----------+----------+--------------------+--------------------+---------+-------------------+----------+--------------------+\n",
            "|          PATIENT_ID|        SSN|  DRIVERS|      FIRST|    LAST|MAIDEN|GENDER|HEALTHCARE_EXPENSES|HEALTHCARE_COVERAGE|         CAREPLAN_ID|     START|      STOP|             PATIENT|           ENCOUNTER|     CODE|        DESCRIPTION|REASONCODE|   REASONDESCRIPTION|\n",
            "+--------------------+-----------+---------+-----------+--------+------+------+-------------------+-------------------+--------------------+----------+----------+--------------------+--------------------+---------+-------------------+----------+--------------------+\n",
            "|034e9e3b-2def-455...|999-73-5361|S99962402|    Milo271| Feil794|  null|     M|             793946|               3204|d2500b8c-e830-433...|2010-01-23|2012-01-23|034e9e3b-2def-455...|d0c40d10-8d87-447...| 53950000|Respiratory therapy|  10509002|Acute bronchitis ...|\n",
            "|10339b10-3cd1-4ac...|999-27-3385|S99972682|  Jayson808|Fadel536|  null|     M|             574111|               2606|07d9ddd8-dfa1-4e4...|2011-05-13|2011-08-02|10339b10-3cd1-4ac...|e1ab4933-07a1-49f...| 53950000|Respiratory therapy|  10509002|Acute bronchitis ...|\n",
            "|f5dcd418-09fe-4a2...|999-60-7372|S99915787|Gregorio366|  Auer97|  null|     M|             598763|               3772|a3bb6e99-3b99-44b...|2011-12-31|2012-11-30|f5dcd418-09fe-4a2...|16300c56-a035-412...| 53950000|Respiratory therapy|  10509002|Acute bronchitis ...|\n",
            "|034e9e3b-2def-455...|999-73-5361|S99962402|    Milo271| Feil794|  null|     M|             793946|               3204|9f5284b7-425a-486...|2016-12-29|2017-01-05|034e9e3b-2def-455...|3b639086-5fbc-472...| 53950000|Respiratory therapy|  10509002|Acute bronchitis ...|\n",
            "|10339b10-3cd1-4ac...|999-27-3385|S99972682|  Jayson808|Fadel536|  null|     M|             574111|               2606|47ede16c-c216-4f8...|2017-01-22|2017-02-12|10339b10-3cd1-4ac...|4ec8d55b-05fc-42a...|225358003|         Wound care| 284551006|  Laceration of foot|\n",
            "+--------------------+-----------+---------+-----------+--------+------+------+-------------------+-------------------+--------------------+----------+----------+--------------------+--------------------+---------+-------------------+----------+--------------------+\n",
            "only showing top 5 rows\n",
            "\n",
            "Rows count : 3483\n"
          ]
        }
      ]
    },
    {
      "cell_type": "code",
      "source": [],
      "metadata": {
        "id": "DlGM7QPyQep1"
      },
      "execution_count": 32,
      "outputs": []
    },
    {
      "cell_type": "code",
      "source": [
        "temp_RDD = df_patients.join(df_pyr_transitions, trim(df_patients.PATIENT_ID) == trim(df_pyr_transitions.PATIENT))\n",
        "temp_RDD.show(5)\n",
        "rows = temp_RDD.count()\n",
        "print(f\"Rows count : {rows}\")"
      ],
      "metadata": {
        "colab": {
          "base_uri": "https://localhost:8080/"
        },
        "id": "ObdclkaNa5go",
        "outputId": "95d978f1-8ea0-46f5-c1dd-66e6d1fc2ddb"
      },
      "execution_count": 33,
      "outputs": [
        {
          "output_type": "stream",
          "name": "stdout",
          "text": [
            "+--------------------+-----------+---------+---------------+-------------+-------------+------+-------------------+-------------------+--------------------+----------+--------+--------------------+---------+\n",
            "|          PATIENT_ID|        SSN|  DRIVERS|          FIRST|         LAST|       MAIDEN|GENDER|HEALTHCARE_EXPENSES|HEALTHCARE_COVERAGE|             PATIENT|START_YEAR|END_YEAR|               PAYER|OWNERSHIP|\n",
            "+--------------------+-----------+---------+---------------+-------------+-------------+------+-------------------+-------------------+--------------------+----------+--------+--------------------+---------+\n",
            "|1d604da9-9a81-4ba...|999-76-6866|S99984236|José Eduardo181|     Gómez206|         null|     M|             271227|               1334|1d604da9-9a81-4ba...|      1989|    1998|b1c428d6-4f07-31e...| Guardian|\n",
            "|034e9e3b-2def-455...|999-73-5361|S99962402|        Milo271|      Feil794|         null|     M|             793946|               3204|034e9e3b-2def-455...|      1983|    2001|6e2f1a2d-27bd-370...| Guardian|\n",
            "|8d4c4326-e9de-4f4...|999-85-4926|S99974448|     Mariana775|Rutherford999|Williamson769|     F|             935630|               8756|8d4c4326-e9de-4f4...|      1978|    1995|7c4411ce-02f1-39b...| Guardian|\n",
            "|8d4c4326-e9de-4f4...|999-85-4926|S99974448|     Mariana775|Rutherford999|Williamson769|     F|             935630|               8756|8d4c4326-e9de-4f4...|      1996|    1996|5059a55e-5d6e-34d...|     Self|\n",
            "|8d4c4326-e9de-4f4...|999-85-4926|S99974448|     Mariana775|Rutherford999|Williamson769|     F|             935630|               8756|8d4c4326-e9de-4f4...|      1997|    1999|7c4411ce-02f1-39b...|     Self|\n",
            "+--------------------+-----------+---------+---------------+-------------+-------------+------+-------------------+-------------------+--------------------+----------+--------+--------------------+---------+\n",
            "only showing top 5 rows\n",
            "\n",
            "Rows count : 3801\n"
          ]
        }
      ]
    },
    {
      "cell_type": "code",
      "source": [
        "temp_RDD = df_patients.join(df_observations, trim(df_patients.PATIENT_ID) == trim(df_observations.PATIENT))\n",
        "temp_RDD.show(5)\n",
        "rows = temp_RDD.count()\n",
        "print(f\"Rows count : {rows}\")"
      ],
      "metadata": {
        "colab": {
          "base_uri": "https://localhost:8080/"
        },
        "id": "a_332qQZ4sJa",
        "outputId": "c945773e-b2fd-4384-b885-db128da5c2ce"
      },
      "execution_count": 34,
      "outputs": [
        {
          "output_type": "stream",
          "name": "stdout",
          "text": [
            "+--------------------+-----------+---------+-------+-------+------+------+-------------------+-------------------+--------------------+--------------------+--------------------+-------+--------------------+-----+-------+-------+\n",
            "|          PATIENT_ID|        SSN|  DRIVERS|  FIRST|   LAST|MAIDEN|GENDER|HEALTHCARE_EXPENSES|HEALTHCARE_COVERAGE|                DATE|             PATIENT|           ENCOUNTER|   CODE|         DESCRIPTION|VALUE|  UNITS|   TYPE|\n",
            "+--------------------+-----------+---------+-------+-------+------+------+-------------------+-------------------+--------------------+--------------------+--------------------+-------+--------------------+-----+-------+-------+\n",
            "|034e9e3b-2def-455...|999-73-5361|S99962402|Milo271|Feil794|  null|     M|             793946|               3204|2012-01-23T17:45:28Z|034e9e3b-2def-455...|e88bc3a9-007c-405...| 8302-2|         Body Height|193.3|     cm|numeric|\n",
            "|034e9e3b-2def-455...|999-73-5361|S99962402|Milo271|Feil794|  null|     M|             793946|               3204|2012-01-23T17:45:28Z|034e9e3b-2def-455...|e88bc3a9-007c-405...|72514-3|Pain severity - 0...|  2.0|{score}|numeric|\n",
            "|034e9e3b-2def-455...|999-73-5361|S99962402|Milo271|Feil794|  null|     M|             793946|               3204|2012-01-23T17:45:28Z|034e9e3b-2def-455...|e88bc3a9-007c-405...|29463-7|         Body Weight| 87.8|     kg|numeric|\n",
            "|034e9e3b-2def-455...|999-73-5361|S99962402|Milo271|Feil794|  null|     M|             793946|               3204|2012-01-23T17:45:28Z|034e9e3b-2def-455...|e88bc3a9-007c-405...|39156-5|     Body Mass Index| 23.5|  kg/m2|numeric|\n",
            "|034e9e3b-2def-455...|999-73-5361|S99962402|Milo271|Feil794|  null|     M|             793946|               3204|2012-01-23T17:45:28Z|034e9e3b-2def-455...|e88bc3a9-007c-405...| 8462-4|Diastolic Blood P...| 82.0| mm[Hg]|numeric|\n",
            "+--------------------+-----------+---------+-------+-------+------+------+-------------------+-------------------+--------------------+--------------------+--------------------+-------+--------------------+-----+-------+-------+\n",
            "only showing top 5 rows\n",
            "\n",
            "Rows count : 299697\n"
          ]
        }
      ]
    },
    {
      "cell_type": "code",
      "source": [
        "temp_RDD = df_patients.join(df_immunizations, trim(df_patients.PATIENT_ID) == trim(df_immunizations.PATIENT))\n",
        "temp_RDD.show(5)\n",
        "rows = temp_RDD.count()\n",
        "print(f\"Rows count : {rows}\")"
      ],
      "metadata": {
        "colab": {
          "base_uri": "https://localhost:8080/"
        },
        "id": "aqmQbETs4shz",
        "outputId": "6f0b054c-ae2b-4f06-d5fd-a39337da4feb"
      },
      "execution_count": 35,
      "outputs": [
        {
          "output_type": "stream",
          "name": "stdout",
          "text": [
            "+--------------------+-----------+---------+---------------+--------+------+------+-------------------+-------------------+--------------------+--------------------+--------------------+----+--------------------+---------+\n",
            "|          PATIENT_ID|        SSN|  DRIVERS|          FIRST|    LAST|MAIDEN|GENDER|HEALTHCARE_EXPENSES|HEALTHCARE_COVERAGE|                DATE|             PATIENT|           ENCOUNTER|CODE|         DESCRIPTION|BASE_COST|\n",
            "+--------------------+-----------+---------+---------------+--------+------+------+-------------------+-------------------+--------------------+--------------------+--------------------+----+--------------------+---------+\n",
            "|10339b10-3cd1-4ac...|999-27-3385|S99972682|      Jayson808|Fadel536|  null|     M|             574111|               2606|2010-07-27T12:58:08Z|10339b10-3cd1-4ac...|dae2b7cb-1316-4b7...| 140|Influenza  season...|   140.52|\n",
            "|f5dcd418-09fe-4a2...|999-60-7372|S99915787|    Gregorio366|  Auer97|  null|     M|             598763|               3772|2010-11-20T03:04:34Z|f5dcd418-09fe-4a2...|7ff86631-0378-4bf...| 140|Influenza  season...|   140.52|\n",
            "|034e9e3b-2def-455...|999-73-5361|S99962402|        Milo271| Feil794|  null|     M|             793946|               3204|2012-01-23T17:45:28Z|034e9e3b-2def-455...|e88bc3a9-007c-405...| 140|Influenza  season...|   140.52|\n",
            "|f5dcd418-09fe-4a2...|999-60-7372|S99915787|    Gregorio366|  Auer97|  null|     M|             598763|               3772|2011-11-26T03:04:34Z|f5dcd418-09fe-4a2...|1923c698-accd-4d7...| 140|Influenza  season...|   140.52|\n",
            "|1d604da9-9a81-4ba...|999-76-6866|S99984236|José Eduardo181|Gómez206|  null|     M|             271227|               1334|2011-07-28T15:02:18Z|1d604da9-9a81-4ba...|b85c339a-6076-43e...| 140|Influenza  season...|   140.52|\n",
            "+--------------------+-----------+---------+---------------+--------+------+------+-------------------+-------------------+--------------------+--------------------+--------------------+----+--------------------+---------+\n",
            "only showing top 5 rows\n",
            "\n",
            "Rows count : 15478\n"
          ]
        }
      ]
    },
    {
      "cell_type": "code",
      "source": [
        "temp_RDD = df_patients.join(df_procedures, trim(df_patients.PATIENT_ID) == trim(df_procedures.PATIENT))\n",
        "temp_RDD.show(5)\n",
        "rows = temp_RDD.count()\n",
        "print(f\"Rows count : {rows}\")"
      ],
      "metadata": {
        "colab": {
          "base_uri": "https://localhost:8080/"
        },
        "id": "Tlz0rHPm79b4",
        "outputId": "174d72a0-d72b-4df0-b20e-c1c0fed3ef32"
      },
      "execution_count": 36,
      "outputs": [
        {
          "output_type": "stream",
          "name": "stdout",
          "text": [
            "+--------------------+-----------+---------+-----------+-------------+-------------+------+-------------------+-------------------+--------------------+--------------------+--------------------+---------+--------------------+---------+----------+--------------------+\n",
            "|          PATIENT_ID|        SSN|  DRIVERS|      FIRST|         LAST|       MAIDEN|GENDER|HEALTHCARE_EXPENSES|HEALTHCARE_COVERAGE|                DATE|             PATIENT|           ENCOUNTER|     CODE|         DESCRIPTION|BASE_COST|REASONCODE|   REASONDESCRIPTION|\n",
            "+--------------------+-----------+---------+-----------+-------------+-------------+------+-------------------+-------------------+--------------------+--------------------+--------------------+---------+--------------------+---------+----------+--------------------+\n",
            "|8d4c4326-e9de-4f4...|999-85-4926|S99974448| Mariana775|Rutherford999|Williamson769|     F|             935630|               8756|2011-04-30T00:26:23Z|8d4c4326-e9de-4f4...|6aa37300-d1b4-48e...|169553002|Insertion of subc...| 14896.56|      null|                null|\n",
            "|10339b10-3cd1-4ac...|999-27-3385|S99972682|  Jayson808|     Fadel536|         null|     M|             574111|               2606|2010-07-27T12:58:08Z|10339b10-3cd1-4ac...|dae2b7cb-1316-4b7...|430193006|Medication Reconc...|   726.51|      null|                null|\n",
            "|f5dcd418-09fe-4a2...|999-60-7372|S99915787|Gregorio366|       Auer97|         null|     M|             598763|               3772|2010-11-20T03:04:34Z|f5dcd418-09fe-4a2...|7ff86631-0378-4bf...|430193006|Medication Reconc...|   788.50|      null|                null|\n",
            "|f5dcd418-09fe-4a2...|999-60-7372|S99915787|Gregorio366|       Auer97|         null|     M|             598763|               3772|2011-02-07T03:04:34Z|f5dcd418-09fe-4a2...|b8f76eba-7795-4dc...|117015009|Throat culture (p...|  2070.44| 195662009|Acute viral phary...|\n",
            "|f5dcd418-09fe-4a2...|999-60-7372|S99915787|Gregorio366|       Auer97|         null|     M|             598763|               3772|2011-04-19T03:04:34Z|f5dcd418-09fe-4a2...|640837d9-845a-433...|117015009|Throat culture (p...|  2479.39| 195662009|Acute viral phary...|\n",
            "+--------------------+-----------+---------+-----------+-------------+-------------+------+-------------------+-------------------+--------------------+--------------------+--------------------+---------+--------------------+---------+----------+--------------------+\n",
            "only showing top 5 rows\n",
            "\n",
            "Rows count : 34981\n"
          ]
        }
      ]
    },
    {
      "cell_type": "code",
      "source": [
        "temp_RDD = df_patients.join(df_devices, trim(df_patients.PATIENT_ID) == trim(df_devices.PATIENT))\n",
        "temp_RDD.show(5)\n",
        "rows = temp_RDD.count()\n",
        "print(f\"Rows count : {rows}\")"
      ],
      "metadata": {
        "colab": {
          "base_uri": "https://localhost:8080/"
        },
        "id": "Jynkj25m79uT",
        "outputId": "a009dff8-f671-49d6-9cac-99a2afeabc45"
      },
      "execution_count": 37,
      "outputs": [
        {
          "output_type": "stream",
          "name": "stdout",
          "text": [
            "+--------------------+-----------+---------+---------+-------------+---------------+------+-------------------+-------------------+--------------------+----+--------------------+--------------------+---------+--------------------+--------------------+\n",
            "|          PATIENT_ID|        SSN|  DRIVERS|    FIRST|         LAST|         MAIDEN|GENDER|HEALTHCARE_EXPENSES|HEALTHCARE_COVERAGE|               START|STOP|             PATIENT|           ENCOUNTER|     CODE|         DESCRIPTION|                 UDI|\n",
            "+--------------------+-----------+---------+---------+-------------+---------------+------+-------------------+-------------------+--------------------+----+--------------------+--------------------+---------+--------------------+--------------------+\n",
            "|d49f748f-928d-40e...|999-15-5162|S99979086|Wesley533|       Rau926|           null|     M|            1096170|               5593|2001-07-04T08:42:44Z|null|d49f748f-928d-40e...|2500b8bd-dc98-44e...| 72506001|Implantable defib...|(01)6767798860646...|\n",
            "|e05dd037-e45f-434...|999-55-3968|S99953884| Jesus702|    Hickle134|Christiansen251|     F|             691393|               9822|2010-10-24T05:28:51Z|null|e05dd037-e45f-434...|83cda5b1-4653-432...| 72506001|Implantable defib...|(01)2018059525834...|\n",
            "|0f5646bc-a156-4ec...|999-45-8311|S99971449|Mickey576|     Crist667|           null|     M|             482002|               3627|2017-06-04T11:11:47Z|null|0f5646bc-a156-4ec...|7302a9ce-5845-456...| 72506001|Implantable defib...|(01)8798892447844...|\n",
            "|44c8b4c8-4457-4ba...|999-33-7429|S99993402| Jamey282|  Hermiston71|           null|     M|             986340|               3392|1989-01-17T18:12:03Z|null|44c8b4c8-4457-4ba...|7db01f61-e637-4e4...|705643001|Coronary artery s...|(01)3083189516548...|\n",
            "|89752052-a38b-45f...|999-15-6463|S99971913|Laverna97|Cartwright189|      Mayert710|     F|            1322856|              12597|1973-07-19T04:25:46Z|null|89752052-a38b-45f...|e73fe5e1-1b13-436...| 72506001|Implantable defib...|(01)7176772223148...|\n",
            "+--------------------+-----------+---------+---------+-------------+---------------+------+-------------------+-------------------+--------------------+----+--------------------+--------------------+---------+--------------------+--------------------+\n",
            "only showing top 5 rows\n",
            "\n",
            "Rows count : 78\n"
          ]
        }
      ]
    },
    {
      "cell_type": "code",
      "source": [
        "temp_RDD = df_patients.join(df_allergies, trim(df_patients.PATIENT_ID) == trim(df_allergies.PATIENT))\n",
        "temp_RDD.show(5)\n",
        "rows = temp_RDD.count()\n",
        "print(f\"Rows count : {rows}\")"
      ],
      "metadata": {
        "colab": {
          "base_uri": "https://localhost:8080/"
        },
        "id": "G5Y72cLt9nCy",
        "outputId": "28ce4500-ce6e-4e21-e9e8-1bf8c856199b"
      },
      "execution_count": 38,
      "outputs": [
        {
          "output_type": "stream",
          "name": "stdout",
          "text": [
            "+--------------------+-----------+---------+-----------+-------------+------+------+-------------------+-------------------+----------+----+--------------------+--------------------+---------+--------------------+\n",
            "|          PATIENT_ID|        SSN|  DRIVERS|      FIRST|         LAST|MAIDEN|GENDER|HEALTHCARE_EXPENSES|HEALTHCARE_COVERAGE|     START|STOP|             PATIENT|           ENCOUNTER|     CODE|         DESCRIPTION|\n",
            "+--------------------+-----------+---------+-----------+-------------+------+------+-------------------+-------------------+----------+----+--------------------+--------------------+---------+--------------------+\n",
            "|76982e06-f8b8-450...|999-21-5604|S99957470|Christal240|      Brown30|  null|     F|             779464|              11713|1982-10-25|null|76982e06-f8b8-450...|b896bf40-8b72-42b...|300913006|   Shellfish allergy|\n",
            "|76982e06-f8b8-450...|999-21-5604|S99957470|Christal240|      Brown30|  null|     F|             779464|              11713|1982-10-25|null|76982e06-f8b8-450...|b896bf40-8b72-42b...|300916003|       Latex allergy|\n",
            "|71ba0469-f0cc-417...|999-28-2716|     null|Carmelia328|Konopelski743|  null|     F|             268920|               9406|2002-01-25|null|71ba0469-f0cc-417...|7be1a590-4239-482...|417532002|     Allergy to fish|\n",
            "|71ba0469-f0cc-417...|999-28-2716|     null|Carmelia328|Konopelski743|  null|     F|             268920|               9406|2002-01-25|null|71ba0469-f0cc-417...|7be1a590-4239-482...|714035009|     Allergy to soya|\n",
            "|71ba0469-f0cc-417...|999-28-2716|     null|Carmelia328|Konopelski743|  null|     F|             268920|               9406|2002-01-25|null|71ba0469-f0cc-417...|7be1a590-4239-482...|419263009|Allergy to tree p...|\n",
            "+--------------------+-----------+---------+-----------+-------------+------+------+-------------------+-------------------+----------+----+--------------------+--------------------+---------+--------------------+\n",
            "only showing top 5 rows\n",
            "\n",
            "Rows count : 597\n"
          ]
        }
      ]
    },
    {
      "cell_type": "code",
      "source": [
        "temp_RDD = df_patients.join(df_conditions, trim(df_patients.PATIENT_ID) == trim(df_conditions.PATIENT))\n",
        "temp_RDD.show(5)\n",
        "rows = temp_RDD.count()\n",
        "print(f\"Rows count : {rows}\")"
      ],
      "metadata": {
        "colab": {
          "base_uri": "https://localhost:8080/"
        },
        "id": "BFqLbj7G9nU1",
        "outputId": "a9353fa1-761b-456b-80dc-a2c58519f887"
      },
      "execution_count": 39,
      "outputs": [
        {
          "output_type": "stream",
          "name": "stdout",
          "text": [
            "+--------------------+-----------+---------+---------------+-------------+-------------+------+-------------------+-------------------+----------+----------+--------------------+--------------------+---------+--------------------+\n",
            "|          PATIENT_ID|        SSN|  DRIVERS|          FIRST|         LAST|       MAIDEN|GENDER|HEALTHCARE_EXPENSES|HEALTHCARE_COVERAGE|     START|      STOP|             PATIENT|           ENCOUNTER|     CODE|         DESCRIPTION|\n",
            "+--------------------+-----------+---------+---------------+-------------+-------------+------+-------------------+-------------------+----------+----------+--------------------+--------------------+---------+--------------------+\n",
            "|1d604da9-9a81-4ba...|999-76-6866|S99984236|José Eduardo181|     Gómez206|         null|     M|             271227|               1334|2001-05-01|      null|1d604da9-9a81-4ba...|8f104aa7-4ca9-447...| 40055000|Chronic sinusitis...|\n",
            "|8d4c4326-e9de-4f4...|999-85-4926|S99974448|     Mariana775|Rutherford999|Williamson769|     F|             935630|               8756|2011-08-09|2011-08-16|8d4c4326-e9de-4f4...|9d35ec9f-352a-462...|444814009|Viral sinusitis (...|\n",
            "|8d4c4326-e9de-4f4...|999-85-4926|S99974448|     Mariana775|Rutherford999|Williamson769|     F|             935630|               8756|2011-11-16|2011-11-26|8d4c4326-e9de-4f4...|ae7555a9-eaff-4c0...|195662009|Acute viral phary...|\n",
            "|10339b10-3cd1-4ac...|999-27-3385|S99972682|      Jayson808|     Fadel536|         null|     M|             574111|               2606|2011-05-13|2011-05-27|10339b10-3cd1-4ac...|e1ab4933-07a1-49f...| 10509002|Acute bronchitis ...|\n",
            "|f5dcd418-09fe-4a2...|999-60-7372|S99915787|    Gregorio366|       Auer97|         null|     M|             598763|               3772|2011-02-06|2011-02-14|f5dcd418-09fe-4a2...|b8f76eba-7795-4dc...|195662009|Acute viral phary...|\n",
            "+--------------------+-----------+---------+---------------+-------------+-------------+------+-------------------+-------------------+----------+----------+--------------------+--------------------+---------+--------------------+\n",
            "only showing top 5 rows\n",
            "\n",
            "Rows count : 8376\n"
          ]
        }
      ]
    },
    {
      "cell_type": "code",
      "source": [
        "temp_RDD = df_patients.join(df_medications, trim(df_patients.PATIENT_ID) == trim(df_medications.PATIENT))\n",
        "temp_RDD.show(5)\n",
        "rows = temp_RDD.count()\n",
        "print(f\"Rows count : {rows}\")"
      ],
      "metadata": {
        "colab": {
          "base_uri": "https://localhost:8080/"
        },
        "id": "Cxsc9Rxp-Xqm",
        "outputId": "f21804e8-0d40-401a-a63e-97f9f9be2d68"
      },
      "execution_count": 40,
      "outputs": [
        {
          "output_type": "stream",
          "name": "stdout",
          "text": [
            "+--------------------+-----------+---------+---------------+-------------+-------------+------+-------------------+-------------------+--------------------+--------------------+--------------------+--------------------+--------------------+------+--------------------+---------+--------------+---------+---------+----------+--------------------+\n",
            "|          PATIENT_ID|        SSN|  DRIVERS|          FIRST|         LAST|       MAIDEN|GENDER|HEALTHCARE_EXPENSES|HEALTHCARE_COVERAGE|               START|                STOP|             PATIENT|               PAYER|           ENCOUNTER|  CODE|         DESCRIPTION|BASE_COST|PAYER_COVERAGE|DISPENSES|TOTALCOST|REASONCODE|   REASONDESCRIPTION|\n",
            "+--------------------+-----------+---------+---------------+-------------+-------------+------+-------------------+-------------------+--------------------+--------------------+--------------------+--------------------+--------------------+------+--------------------+---------+--------------+---------+---------+----------+--------------------+\n",
            "|8d4c4326-e9de-4f4...|999-85-4926|S99974448|     Mariana775|Rutherford999|Williamson769|     F|             935630|               8756|2010-05-05T00:26:23Z|2011-04-30T00:26:23Z|8d4c4326-e9de-4f4...|b1c428d6-4f07-31e...|1e0d6b0e-1711-4a2...|389221|Etonogestrel 68 M...|   677.08|          0.00|       12|  8124.96|      null|                null|\n",
            "|8d4c4326-e9de-4f4...|999-85-4926|S99974448|     Mariana775|Rutherford999|Williamson769|     F|             935630|               8756|2011-04-30T00:26:23Z|2012-04-24T00:26:23Z|8d4c4326-e9de-4f4...|b1c428d6-4f07-31e...|6aa37300-d1b4-48e...|389221|Etonogestrel 68 M...|   624.09|          0.00|       12|  7489.08|      null|                null|\n",
            "|8d4c4326-e9de-4f4...|999-85-4926|S99974448|     Mariana775|Rutherford999|Williamson769|     F|             935630|               8756|2012-04-24T00:26:23Z|2013-04-19T00:26:23Z|8d4c4326-e9de-4f4...|b1c428d6-4f07-31e...|7253a9f9-6f6d-429...|748856|     Yaz 28 Day Pack|    43.32|          0.00|       12|   519.84|      null|                null|\n",
            "|10339b10-3cd1-4ac...|999-27-3385|S99972682|      Jayson808|     Fadel536|         null|     M|             574111|               2606|2011-05-13T12:58:08Z|2011-05-27T12:58:08Z|10339b10-3cd1-4ac...|d47b3510-2895-3b7...|e1ab4933-07a1-49f...|313782|Acetaminophen 325...|     8.14|          0.00|        1|     8.14|  10509002|Acute bronchitis ...|\n",
            "|1d604da9-9a81-4ba...|999-76-6866|S99984236|José Eduardo181|     Gómez206|         null|     M|             271227|               1334|2011-12-08T15:02:18Z|2011-12-22T15:02:18Z|1d604da9-9a81-4ba...|b1c428d6-4f07-31e...|792fae81-a007-44b...|562251|Amoxicillin 250 M...|    11.91|          0.00|        1|    11.91| 444814009|Viral sinusitis (...|\n",
            "+--------------------+-----------+---------+---------------+-------------+-------------+------+-------------------+-------------------+--------------------+--------------------+--------------------+--------------------+--------------------+------+--------------------+---------+--------------+---------+---------+----------+--------------------+\n",
            "only showing top 5 rows\n",
            "\n",
            "Rows count : 42989\n"
          ]
        }
      ]
    },
    {
      "cell_type": "code",
      "source": [
        "\n",
        "temp_RDD = df_patients.join(df_medications, trim(df_patients.PATIENT_ID) == trim(df_medications.PATIENT))\n",
        "temp_RDD.show(5)\n",
        "rows = temp_RDD.count()\n",
        "print(f\"Rows count : {rows}\")"
      ],
      "metadata": {
        "id": "STdyj_aiNODw",
        "colab": {
          "base_uri": "https://localhost:8080/"
        },
        "outputId": "61095fe6-0634-4a39-94a9-48a4af0fbd8a"
      },
      "execution_count": 41,
      "outputs": [
        {
          "output_type": "stream",
          "name": "stdout",
          "text": [
            "+--------------------+-----------+---------+---------------+-------------+-------------+------+-------------------+-------------------+--------------------+--------------------+--------------------+--------------------+--------------------+------+--------------------+---------+--------------+---------+---------+----------+--------------------+\n",
            "|          PATIENT_ID|        SSN|  DRIVERS|          FIRST|         LAST|       MAIDEN|GENDER|HEALTHCARE_EXPENSES|HEALTHCARE_COVERAGE|               START|                STOP|             PATIENT|               PAYER|           ENCOUNTER|  CODE|         DESCRIPTION|BASE_COST|PAYER_COVERAGE|DISPENSES|TOTALCOST|REASONCODE|   REASONDESCRIPTION|\n",
            "+--------------------+-----------+---------+---------------+-------------+-------------+------+-------------------+-------------------+--------------------+--------------------+--------------------+--------------------+--------------------+------+--------------------+---------+--------------+---------+---------+----------+--------------------+\n",
            "|8d4c4326-e9de-4f4...|999-85-4926|S99974448|     Mariana775|Rutherford999|Williamson769|     F|             935630|               8756|2010-05-05T00:26:23Z|2011-04-30T00:26:23Z|8d4c4326-e9de-4f4...|b1c428d6-4f07-31e...|1e0d6b0e-1711-4a2...|389221|Etonogestrel 68 M...|   677.08|          0.00|       12|  8124.96|      null|                null|\n",
            "|8d4c4326-e9de-4f4...|999-85-4926|S99974448|     Mariana775|Rutherford999|Williamson769|     F|             935630|               8756|2011-04-30T00:26:23Z|2012-04-24T00:26:23Z|8d4c4326-e9de-4f4...|b1c428d6-4f07-31e...|6aa37300-d1b4-48e...|389221|Etonogestrel 68 M...|   624.09|          0.00|       12|  7489.08|      null|                null|\n",
            "|8d4c4326-e9de-4f4...|999-85-4926|S99974448|     Mariana775|Rutherford999|Williamson769|     F|             935630|               8756|2012-04-24T00:26:23Z|2013-04-19T00:26:23Z|8d4c4326-e9de-4f4...|b1c428d6-4f07-31e...|7253a9f9-6f6d-429...|748856|     Yaz 28 Day Pack|    43.32|          0.00|       12|   519.84|      null|                null|\n",
            "|10339b10-3cd1-4ac...|999-27-3385|S99972682|      Jayson808|     Fadel536|         null|     M|             574111|               2606|2011-05-13T12:58:08Z|2011-05-27T12:58:08Z|10339b10-3cd1-4ac...|d47b3510-2895-3b7...|e1ab4933-07a1-49f...|313782|Acetaminophen 325...|     8.14|          0.00|        1|     8.14|  10509002|Acute bronchitis ...|\n",
            "|1d604da9-9a81-4ba...|999-76-6866|S99984236|José Eduardo181|     Gómez206|         null|     M|             271227|               1334|2011-12-08T15:02:18Z|2011-12-22T15:02:18Z|1d604da9-9a81-4ba...|b1c428d6-4f07-31e...|792fae81-a007-44b...|562251|Amoxicillin 250 M...|    11.91|          0.00|        1|    11.91| 444814009|Viral sinusitis (...|\n",
            "+--------------------+-----------+---------+---------------+-------------+-------------+------+-------------------+-------------------+--------------------+--------------------+--------------------+--------------------+--------------------+------+--------------------+---------+--------------+---------+---------+----------+--------------------+\n",
            "only showing top 5 rows\n",
            "\n",
            "Rows count : 42989\n"
          ]
        }
      ]
    },
    {
      "cell_type": "code",
      "source": [],
      "metadata": {
        "id": "Njtd7vLJNTfX"
      },
      "execution_count": 41,
      "outputs": []
    },
    {
      "cell_type": "markdown",
      "source": [
        "----"
      ],
      "metadata": {
        "id": "LmAa7VZHdmir"
      }
    },
    {
      "cell_type": "code",
      "source": [
        "#ta = df_conditions.alias('ta')\n",
        "#tb = df_immunizations.alias('tb')\n",
        "#inner_join = ta.join(tb, ta.name == tb.name)\n",
        "#inner_join.show()"
      ],
      "metadata": {
        "id": "kuCgYvqJxEg5"
      },
      "execution_count": 42,
      "outputs": []
    },
    {
      "cell_type": "code",
      "source": [
        "pat_enc.filter(\"PAYER_COVERAGE is null\").show()"
      ],
      "metadata": {
        "id": "_PapJ9Hn8Rz9",
        "colab": {
          "base_uri": "https://localhost:8080/"
        },
        "outputId": "92702a92-54f5-4d01-beaf-88290170b5b2"
      },
      "execution_count": 43,
      "outputs": [
        {
          "output_type": "stream",
          "name": "stdout",
          "text": [
            "+----------+---+-------+-----+----+------+------+-------------------+-------------------+-------------+-----+----+-------+------------+--------+-----+--------------+----+-----------+-------------------+----------------+--------------+----------+-----------------+\n",
            "|PATIENT_ID|SSN|DRIVERS|FIRST|LAST|MAIDEN|GENDER|HEALTHCARE_EXPENSES|HEALTHCARE_COVERAGE|ENCOUNTERS_ID|START|STOP|PATIENT|ORGANIZATION|PROVIDER|PAYER|ENCOUNTERCLASS|CODE|DESCRIPTION|BASE_ENCOUNTER_COST|TOTAL_CLAIM_COST|PAYER_COVERAGE|REASONCODE|REASONDESCRIPTION|\n",
            "+----------+---+-------+-----+----+------+------+-------------------+-------------------+-------------+-----+----+-------+------------+--------+-----+--------------+----+-----------+-------------------+----------------+--------------+----------+-----------------+\n",
            "+----------+---+-------+-----+----+------+------+-------------------+-------------------+-------------+-----+----+-------+------------+--------+-----+--------------+----+-----------+-------------------+----------------+--------------+----------+-----------------+\n",
            "\n"
          ]
        }
      ]
    }
  ]
}