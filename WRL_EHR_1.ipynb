{
  "nbformat": 4,
  "nbformat_minor": 0,
  "metadata": {
    "colab": {
      "provenance": [],
      "mount_file_id": "167_cIWHfqkVjLYM14l4Uzo1JrzGlPeO6",
      "authorship_tag": "ABX9TyOxknevmU1qDVQCbstbNP94",
      "include_colab_link": true
    },
    "kernelspec": {
      "name": "python3",
      "display_name": "Python 3"
    },
    "language_info": {
      "name": "python"
    }
  },
  "cells": [
    {
      "cell_type": "markdown",
      "metadata": {
        "id": "view-in-github",
        "colab_type": "text"
      },
      "source": [
        "<a href=\"https://colab.research.google.com/github/sunil-karki/EHR/blob/main/WRL_EHR_1.ipynb\" target=\"_parent\"><img src=\"https://colab.research.google.com/assets/colab-badge.svg\" alt=\"Open In Colab\"/></a>"
      ]
    },
    {
      "cell_type": "markdown",
      "source": [
        "# **WRL Work**"
      ],
      "metadata": {
        "id": "VtzyISNAxHD0"
      }
    },
    {
      "cell_type": "code",
      "source": [
        "# Install necessary packages for WRL\n",
        "\n",
        "# Install pyspark\n",
        "!pip install pyspark"
      ],
      "metadata": {
        "colab": {
          "base_uri": "https://localhost:8080/"
        },
        "id": "jVvROMd02XoG",
        "outputId": "d075520d-3231-41f3-914a-66a5d693c8d5"
      },
      "execution_count": 1,
      "outputs": [
        {
          "output_type": "stream",
          "name": "stdout",
          "text": [
            "Looking in indexes: https://pypi.org/simple, https://us-python.pkg.dev/colab-wheels/public/simple/\n",
            "Collecting pyspark\n",
            "  Downloading pyspark-3.3.1.tar.gz (281.4 MB)\n",
            "\u001b[K     |████████████████████████████████| 281.4 MB 46 kB/s \n",
            "\u001b[?25hCollecting py4j==0.10.9.5\n",
            "  Downloading py4j-0.10.9.5-py2.py3-none-any.whl (199 kB)\n",
            "\u001b[K     |████████████████████████████████| 199 kB 53.2 MB/s \n",
            "\u001b[?25hBuilding wheels for collected packages: pyspark\n",
            "  Building wheel for pyspark (setup.py) ... \u001b[?25l\u001b[?25hdone\n",
            "  Created wheel for pyspark: filename=pyspark-3.3.1-py2.py3-none-any.whl size=281845514 sha256=360fb22f8da9e306e2fa3f1ccb0b58d811f38c5081358f667ebeaeff39e0254c\n",
            "  Stored in directory: /root/.cache/pip/wheels/42/59/f5/79a5bf931714dcd201b26025347785f087370a10a3329a899c\n",
            "Successfully built pyspark\n",
            "Installing collected packages: py4j, pyspark\n",
            "Successfully installed py4j-0.10.9.5 pyspark-3.3.1\n"
          ]
        }
      ]
    },
    {
      "cell_type": "code",
      "source": [
        "# Import SparkSession\n",
        "from pyspark.sql import SparkSession\n",
        "# Import Spark functions\n",
        "from pyspark.sql.functions import trim, col\n",
        "#import IntegerType method from sql.types\n",
        "from pyspark.sql.types import IntegerType"
      ],
      "metadata": {
        "id": "cKhSJgq52J8s"
      },
      "execution_count": 2,
      "outputs": []
    },
    {
      "cell_type": "code",
      "source": [
        "# Create a Spark Session\n",
        "spark = SparkSession.builder.appName(\"WRL Test\").master(\"local[*]\").getOrCreate()\n",
        "# Check Spark Session Information\n",
        "spark"
      ],
      "metadata": {
        "colab": {
          "base_uri": "https://localhost:8080/",
          "height": 219
        },
        "id": "apErc3qO33VU",
        "outputId": "bffd2936-9107-4de5-9e6b-35397f8db3f2"
      },
      "execution_count": 3,
      "outputs": [
        {
          "output_type": "execute_result",
          "data": {
            "text/plain": [
              "<pyspark.sql.session.SparkSession at 0x7fecec7e0510>"
            ],
            "text/html": [
              "\n",
              "            <div>\n",
              "                <p><b>SparkSession - in-memory</b></p>\n",
              "                \n",
              "        <div>\n",
              "            <p><b>SparkContext</b></p>\n",
              "\n",
              "            <p><a href=\"http://8243c0b32f68:4040\">Spark UI</a></p>\n",
              "\n",
              "            <dl>\n",
              "              <dt>Version</dt>\n",
              "                <dd><code>v3.3.1</code></dd>\n",
              "              <dt>Master</dt>\n",
              "                <dd><code>local[*]</code></dd>\n",
              "              <dt>AppName</dt>\n",
              "                <dd><code>WRL Test</code></dd>\n",
              "            </dl>\n",
              "        </div>\n",
              "        \n",
              "            </div>\n",
              "        "
            ]
          },
          "metadata": {},
          "execution_count": 3
        }
      ]
    },
    {
      "cell_type": "code",
      "source": [
        "#spark.version"
      ],
      "metadata": {
        "id": "Z0OkzGhT2YoU"
      },
      "execution_count": 4,
      "outputs": []
    },
    {
      "cell_type": "markdown",
      "source": [
        "Import all source files\n",
        "-------------------------------------------------------\n",
        "Source data: Synthetic Patient Generation Realistic Health Data\n",
        "\n",
        "Link:-  https://synthetichealth.github.io/synthea/"
      ],
      "metadata": {
        "id": "x0RgihZl4MDH"
      }
    },
    {
      "cell_type": "code",
      "execution_count": 5,
      "metadata": {
        "id": "UZy3ClrPt7da"
      },
      "outputs": [],
      "source": [
        "#RDD_allergies = sc.textFile(\"/content/drive/MyDrive/Islington/Year 2 Sem 3/WRL/Work/synthea_sample_data_csv_apr2020/csv/allergies.csv\")\n",
        "df_allergies = spark.read.format(\"csv\").option(\"header\",\"true\").load(\"/content/drive/MyDrive/Islington/Year 2 Sem 3/WRL/Work/synthea_sample_data_csv_apr2020/csv/allergies.csv\")\n",
        "df_careplans = spark.read.format(\"csv\").option(\"header\",\"true\").load(\"/content/drive/MyDrive/Islington/Year 2 Sem 3/WRL/Work/synthea_sample_data_csv_apr2020/csv/careplans.csv\")\n",
        "df_conditions = spark.read.format(\"csv\").option(\"header\",\"true\").load(\"/content/drive/MyDrive/Islington/Year 2 Sem 3/WRL/Work/synthea_sample_data_csv_apr2020/csv/conditions.csv\")\n",
        "df_devices = spark.read.format(\"csv\").option(\"header\",\"true\").load(\"/content/drive/MyDrive/Islington/Year 2 Sem 3/WRL/Work/synthea_sample_data_csv_apr2020/csv/devices.csv\")\n",
        "df_encounters = spark.read.format(\"csv\").option(\"header\",\"true\").load(\"/content/drive/MyDrive/Islington/Year 2 Sem 3/WRL/Work/synthea_sample_data_csv_apr2020/csv/encounters.csv\")\n",
        "df_img_studies = spark.read.format(\"csv\").option(\"header\",\"true\").load(\"/content/drive/MyDrive/Islington/Year 2 Sem 3/WRL/Work/synthea_sample_data_csv_apr2020/csv/imaging_studies.csv\")\n",
        "df_immunizations = spark.read.format(\"csv\").option(\"header\",\"true\").load(\"/content/drive/MyDrive/Islington/Year 2 Sem 3/WRL/Work/synthea_sample_data_csv_apr2020/csv/immunizations.csv\")\n",
        "df_medications = spark.read.format(\"csv\").option(\"header\",\"true\").load(\"/content/drive/MyDrive/Islington/Year 2 Sem 3/WRL/Work/synthea_sample_data_csv_apr2020/csv/medications.csv\")\n",
        "df_observations = spark.read.format(\"csv\").option(\"header\",\"true\").load(\"/content/drive/MyDrive/Islington/Year 2 Sem 3/WRL/Work/synthea_sample_data_csv_apr2020/csv/observations.csv\")\n",
        "df_organizations = spark.read.format(\"csv\").option(\"header\",\"true\").load(\"/content/drive/MyDrive/Islington/Year 2 Sem 3/WRL/Work/synthea_sample_data_csv_apr2020/csv/organizations.csv\")\n",
        "df_patients = spark.read.format(\"csv\").option(\"header\",\"true\").load(\"/content/drive/MyDrive/Islington/Year 2 Sem 3/WRL/Work/synthea_sample_data_csv_apr2020/csv/patients.csv\")\n",
        "df_pyr_transitions = spark.read.format(\"csv\").option(\"header\",\"true\").load(\"/content/drive/MyDrive/Islington/Year 2 Sem 3/WRL/Work/synthea_sample_data_csv_apr2020/csv/payer_transitions.csv\")\n",
        "df_pyr = spark.read.format(\"csv\").option(\"header\",\"true\").load(\"/content/drive/MyDrive/Islington/Year 2 Sem 3/WRL/Work/synthea_sample_data_csv_apr2020/csv/payers.csv\")\n",
        "df_procedures = spark.read.format(\"csv\").option(\"header\",\"true\").load(\"/content/drive/MyDrive/Islington/Year 2 Sem 3/WRL/Work/synthea_sample_data_csv_apr2020/csv/procedures.csv\")\n",
        "df_providers = spark.read.format(\"csv\").option(\"header\",\"true\").load(\"/content/drive/MyDrive/Islington/Year 2 Sem 3/WRL/Work/synthea_sample_data_csv_apr2020/csv/providers.csv\")\n",
        "df_supplies = spark.read.format(\"csv\").option(\"header\",\"true\").load(\"/content/drive/MyDrive/Islington/Year 2 Sem 3/WRL/Work/synthea_sample_data_csv_apr2020/csv/supplies.csv\")"
      ]
    },
    {
      "cell_type": "code",
      "source": [
        "df_supplies"
      ],
      "metadata": {
        "colab": {
          "base_uri": "https://localhost:8080/"
        },
        "id": "0PvMx9piVOQN",
        "outputId": "54f0231d-85c5-4df3-debb-6136d18416f1"
      },
      "execution_count": 49,
      "outputs": [
        {
          "output_type": "execute_result",
          "data": {
            "text/plain": [
              "DataFrame[DATE: string, PATIENT: string, ENCOUNTER: string, CODE: string, DESCRIPTION: string, QUANTITY: string]"
            ]
          },
          "metadata": {},
          "execution_count": 49
        }
      ]
    },
    {
      "cell_type": "code",
      "source": [
        "df_allergies.show(5)\n",
        "rows = df_allergies.count()\n",
        "print(f\"Rows count : {rows}\")"
      ],
      "metadata": {
        "colab": {
          "base_uri": "https://localhost:8080/"
        },
        "id": "APyxUHxUFF6E",
        "outputId": "006f8ed7-09f1-425e-ebbf-19d6eb201d17"
      },
      "execution_count": 6,
      "outputs": [
        {
          "output_type": "stream",
          "name": "stdout",
          "text": [
            "+----------+----+--------------------+--------------------+---------+--------------------+\n",
            "|     START|STOP|             PATIENT|           ENCOUNTER|     CODE|         DESCRIPTION|\n",
            "+----------+----+--------------------+--------------------+---------+--------------------+\n",
            "|1982-10-25|null|76982e06-f8b8-450...|b896bf40-8b72-42b...|300916003|       Latex allergy|\n",
            "|1982-10-25|null|76982e06-f8b8-450...|b896bf40-8b72-42b...|300913006|   Shellfish allergy|\n",
            "|2002-01-25|null|71ba0469-f0cc-417...|7be1a590-4239-482...|419474003|    Allergy to mould|\n",
            "|2002-01-25|null|71ba0469-f0cc-417...|7be1a590-4239-482...|232347008|Dander (animal) a...|\n",
            "|2002-01-25|null|71ba0469-f0cc-417...|7be1a590-4239-482...|418689008|Allergy to grass ...|\n",
            "+----------+----+--------------------+--------------------+---------+--------------------+\n",
            "only showing top 5 rows\n",
            "\n",
            "Rows count : 597\n"
          ]
        }
      ]
    },
    {
      "cell_type": "code",
      "source": [
        "df_careplans.show(5)\n",
        "rows = df_careplans.count()\n",
        "print(f\"Rows count : {rows}\")"
      ],
      "metadata": {
        "colab": {
          "base_uri": "https://localhost:8080/"
        },
        "id": "DJikYM9JFGHd",
        "outputId": "d46db811-cb97-4983-f449-28c60518bda0"
      },
      "execution_count": 7,
      "outputs": [
        {
          "output_type": "stream",
          "name": "stdout",
          "text": [
            "+--------------------+----------+----------+--------------------+--------------------+---------+-------------------+----------+--------------------+\n",
            "|                  Id|     START|      STOP|             PATIENT|           ENCOUNTER|     CODE|        DESCRIPTION|REASONCODE|   REASONDESCRIPTION|\n",
            "+--------------------+----------+----------+--------------------+--------------------+---------+-------------------+----------+--------------------+\n",
            "|d2500b8c-e830-433...|2010-01-23|2012-01-23|034e9e3b-2def-455...|d0c40d10-8d87-447...| 53950000|Respiratory therapy|  10509002|Acute bronchitis ...|\n",
            "|07d9ddd8-dfa1-4e4...|2011-05-13|2011-08-02|10339b10-3cd1-4ac...|e1ab4933-07a1-49f...| 53950000|Respiratory therapy|  10509002|Acute bronchitis ...|\n",
            "|a3bb6e99-3b99-44b...|2011-12-31|2012-11-30|f5dcd418-09fe-4a2...|16300c56-a035-412...| 53950000|Respiratory therapy|  10509002|Acute bronchitis ...|\n",
            "|9f5284b7-425a-486...|2016-12-29|2017-01-05|034e9e3b-2def-455...|3b639086-5fbc-472...| 53950000|Respiratory therapy|  10509002|Acute bronchitis ...|\n",
            "|47ede16c-c216-4f8...|2017-01-22|2017-02-12|10339b10-3cd1-4ac...|4ec8d55b-05fc-42a...|225358003|         Wound care| 284551006|  Laceration of foot|\n",
            "+--------------------+----------+----------+--------------------+--------------------+---------+-------------------+----------+--------------------+\n",
            "only showing top 5 rows\n",
            "\n",
            "Rows count : 3483\n"
          ]
        }
      ]
    },
    {
      "cell_type": "code",
      "source": [
        "df_conditions.show(5)\n",
        "rows = df_conditions.count()\n",
        "print(f\"Rows count : {rows}\")"
      ],
      "metadata": {
        "colab": {
          "base_uri": "https://localhost:8080/"
        },
        "id": "c9ILHaE3FGTj",
        "outputId": "d88d054a-774d-4ea8-cbdc-64aa71ccac2d"
      },
      "execution_count": 8,
      "outputs": [
        {
          "output_type": "stream",
          "name": "stdout",
          "text": [
            "+----------+----------+--------------------+--------------------+---------+--------------------+\n",
            "|     START|      STOP|             PATIENT|           ENCOUNTER|     CODE|         DESCRIPTION|\n",
            "+----------+----------+--------------------+--------------------+---------+--------------------+\n",
            "|2001-05-01|      null|1d604da9-9a81-4ba...|8f104aa7-4ca9-447...| 40055000|Chronic sinusitis...|\n",
            "|2011-08-09|2011-08-16|8d4c4326-e9de-4f4...|9d35ec9f-352a-462...|444814009|Viral sinusitis (...|\n",
            "|2011-11-16|2011-11-26|8d4c4326-e9de-4f4...|ae7555a9-eaff-4c0...|195662009|Acute viral phary...|\n",
            "|2011-05-13|2011-05-27|10339b10-3cd1-4ac...|e1ab4933-07a1-49f...| 10509002|Acute bronchitis ...|\n",
            "|2011-02-06|2011-02-14|f5dcd418-09fe-4a2...|b8f76eba-7795-4dc...|195662009|Acute viral phary...|\n",
            "+----------+----------+--------------------+--------------------+---------+--------------------+\n",
            "only showing top 5 rows\n",
            "\n",
            "Rows count : 8376\n"
          ]
        }
      ]
    },
    {
      "cell_type": "code",
      "source": [
        "df_devices.show(5)\n",
        "rows = df_devices.count()\n",
        "print(f\"Rows count : {rows}\")"
      ],
      "metadata": {
        "colab": {
          "base_uri": "https://localhost:8080/"
        },
        "id": "GTsxxsUnFGfd",
        "outputId": "aa393a9d-cfc4-4fcf-869d-097afa6eb6ae"
      },
      "execution_count": 9,
      "outputs": [
        {
          "output_type": "stream",
          "name": "stdout",
          "text": [
            "+--------------------+----+--------------------+--------------------+---------+--------------------+--------------------+\n",
            "|               START|STOP|             PATIENT|           ENCOUNTER|     CODE|         DESCRIPTION|                 UDI|\n",
            "+--------------------+----+--------------------+--------------------+---------+--------------------+--------------------+\n",
            "|2001-07-04T08:42:44Z|null|d49f748f-928d-40e...|2500b8bd-dc98-44e...| 72506001|Implantable defib...|(01)6767798860646...|\n",
            "|2010-10-24T05:28:51Z|null|e05dd037-e45f-434...|83cda5b1-4653-432...| 72506001|Implantable defib...|(01)2018059525834...|\n",
            "|2017-06-04T11:11:47Z|null|0f5646bc-a156-4ec...|7302a9ce-5845-456...| 72506001|Implantable defib...|(01)8798892447844...|\n",
            "|1989-01-17T18:12:03Z|null|44c8b4c8-4457-4ba...|7db01f61-e637-4e4...|705643001|Coronary artery s...|(01)3083189516548...|\n",
            "|1973-07-19T04:25:46Z|null|89752052-a38b-45f...|e73fe5e1-1b13-436...| 72506001|Implantable defib...|(01)7176772223148...|\n",
            "+--------------------+----+--------------------+--------------------+---------+--------------------+--------------------+\n",
            "only showing top 5 rows\n",
            "\n",
            "Rows count : 78\n"
          ]
        }
      ]
    },
    {
      "cell_type": "code",
      "source": [
        "#An interaction between a patient and healthcare provider(s) for the purpose of providing healthcare service(s) or assessing the health status of a patient.\n",
        "df_encounters.show(5)\n",
        "rows = df_encounters.count()\n",
        "print(f\"Rows count : {rows}\")"
      ],
      "metadata": {
        "colab": {
          "base_uri": "https://localhost:8080/"
        },
        "id": "xw8M87tyFGpC",
        "outputId": "f57a0756-1011-4cd7-cd95-0d2320953292"
      },
      "execution_count": 10,
      "outputs": [
        {
          "output_type": "stream",
          "name": "stdout",
          "text": [
            "+--------------------+--------------------+--------------------+--------------------+--------------------+--------------------+--------------------+--------------+---------+--------------------+-------------------+----------------+--------------+----------+--------------------+\n",
            "|                  Id|               START|                STOP|             PATIENT|        ORGANIZATION|            PROVIDER|               PAYER|ENCOUNTERCLASS|     CODE|         DESCRIPTION|BASE_ENCOUNTER_COST|TOTAL_CLAIM_COST|PAYER_COVERAGE|REASONCODE|   REASONDESCRIPTION|\n",
            "+--------------------+--------------------+--------------------+--------------------+--------------------+--------------------+--------------------+--------------+---------+--------------------+-------------------+----------------+--------------+----------+--------------------+\n",
            "|d0c40d10-8d87-447...|2010-01-23T17:45:28Z|2010-01-23T18:10:28Z|034e9e3b-2def-455...|e002090d-4e92-300...|e6283e46-fd81-361...|6e2f1a2d-27bd-370...|    ambulatory|185345009|Encounter for sym...|             129.16|          129.16|         54.16|  10509002|Acute bronchitis ...|\n",
            "|e88bc3a9-007c-405...|2012-01-23T17:45:28Z|2012-01-23T18:00:28Z|034e9e3b-2def-455...|772ee193-bb9f-30e...|6f1d59a7-a5bd-3cf...|6e2f1a2d-27bd-370...|      wellness|162673000|General examinati...|             129.16|          129.16|        129.16|      null|                null|\n",
            "|8f104aa7-4ca9-447...|2001-05-01T15:02:18Z|2001-05-01T15:17:18Z|1d604da9-9a81-4ba...|5d4b9df1-93ae-3bc...|af01a385-31d3-3c7...|b1c428d6-4f07-31e...|    ambulatory|185345009|Encounter for sym...|             129.16|          129.16|          0.00|  36971009|Sinusitis (disorder)|\n",
            "|b85c339a-6076-43e...|2011-07-28T15:02:18Z|2011-07-28T15:17:18Z|1d604da9-9a81-4ba...|3dc9bb2d-5d66-3e6...|bb17e691-262b-354...|b1c428d6-4f07-31e...|      wellness|162673000|General examinati...|             129.16|          129.16|          0.00|      null|                null|\n",
            "|dae2b7cb-1316-4b7...|2010-07-27T12:58:08Z|2010-07-27T13:28:08Z|10339b10-3cd1-4ac...|b03dba4f-892f-365...|7ed6b84a-b847-374...|d47b3510-2895-3b7...|      wellness|162673000|General examinati...|             129.16|          129.16|        129.16|      null|                null|\n",
            "+--------------------+--------------------+--------------------+--------------------+--------------------+--------------------+--------------------+--------------+---------+--------------------+-------------------+----------------+--------------+----------+--------------------+\n",
            "only showing top 5 rows\n",
            "\n",
            "Rows count : 53346\n"
          ]
        }
      ]
    },
    {
      "cell_type": "code",
      "source": [
        "df_img_studies.show(5)\n",
        "rows = df_img_studies.count()\n",
        "print(f\"Rows count : {rows}\")"
      ],
      "metadata": {
        "colab": {
          "base_uri": "https://localhost:8080/"
        },
        "id": "t-mLDU4pFGx9",
        "outputId": "64e4afae-d4c0-4c5b-ff6b-2c80740c303e"
      },
      "execution_count": 11,
      "outputs": [
        {
          "output_type": "stream",
          "name": "stdout",
          "text": [
            "+--------------------+--------------------+--------------------+--------------------+-------------+--------------------+-------------+--------------------+--------------------+--------------------+\n",
            "|                  Id|                DATE|             PATIENT|           ENCOUNTER|BODYSITE_CODE|BODYSITE_DESCRIPTION|MODALITY_CODE|MODALITY_DESCRIPTION|            SOP_CODE|     SOP_DESCRIPTION|\n",
            "+--------------------+--------------------+--------------------+--------------------+-------------+--------------------+-------------+--------------------+--------------------+--------------------+\n",
            "|d3e49b38-7634-441...|2014-07-08T15:35:36Z|b58731cc-2d8b-4c2...|3a36836d-da25-4e7...|     40983000|                 Arm|           DX| Digital Radiography|1.2.840.10008.5.1...|Digital X-Ray Ima...|\n",
            "|46baf530-4941-40a...|2014-01-22T18:58:37Z|2ffe9369-24e4-414...|33b71e4b-0690-4fe...|     40983000|                 Arm|           DX| Digital Radiography|1.2.840.10008.5.1...|Digital X-Ray Ima...|\n",
            "|b8fb8a6e-a2f5-46c...|2001-12-01T02:08:27Z|86b97fc7-ae8f-4e0...|e42d1046-568d-46c...|      8205005|               Wrist|           DX| Digital Radiography|1.2.840.10008.5.1...|Digital X-Ray Ima...|\n",
            "|10c8a016-4504-465...|2004-07-03T20:46:46Z|71ba0469-f0cc-417...|323fca87-817f-4d5...|     51299004|            Clavicle|           DX| Digital Radiography|1.2.840.10008.5.1...|Digital X-Ray Ima...|\n",
            "|4221534c-d379-4c6...|2017-02-08T08:42:44Z|d49f748f-928d-40e...|cfef48b3-b769-479...|       344001|               Ankle|           DX| Digital Radiography|1.2.840.10008.5.1...|Digital X-Ray Ima...|\n",
            "+--------------------+--------------------+--------------------+--------------------+-------------+--------------------+-------------+--------------------+--------------------+--------------------+\n",
            "only showing top 5 rows\n",
            "\n",
            "Rows count : 855\n"
          ]
        }
      ]
    },
    {
      "cell_type": "code",
      "source": [
        "df_immunizations.show(5)\n",
        "rows = df_immunizations.count()\n",
        "print(f\"Rows count : {rows}\")"
      ],
      "metadata": {
        "colab": {
          "base_uri": "https://localhost:8080/"
        },
        "id": "unjRrr3BFG6z",
        "outputId": "032938bc-1fc7-4301-a7ff-fef32b362089"
      },
      "execution_count": 12,
      "outputs": [
        {
          "output_type": "stream",
          "name": "stdout",
          "text": [
            "+--------------------+--------------------+--------------------+----+--------------------+---------+\n",
            "|                DATE|             PATIENT|           ENCOUNTER|CODE|         DESCRIPTION|BASE_COST|\n",
            "+--------------------+--------------------+--------------------+----+--------------------+---------+\n",
            "|2010-07-27T12:58:08Z|10339b10-3cd1-4ac...|dae2b7cb-1316-4b7...| 140|Influenza  season...|   140.52|\n",
            "|2010-11-20T03:04:34Z|f5dcd418-09fe-4a2...|7ff86631-0378-4bf...| 140|Influenza  season...|   140.52|\n",
            "|2012-01-23T17:45:28Z|034e9e3b-2def-455...|e88bc3a9-007c-405...| 140|Influenza  season...|   140.52|\n",
            "|2011-11-26T03:04:34Z|f5dcd418-09fe-4a2...|1923c698-accd-4d7...| 140|Influenza  season...|   140.52|\n",
            "|2011-07-28T15:02:18Z|1d604da9-9a81-4ba...|b85c339a-6076-43e...| 140|Influenza  season...|   140.52|\n",
            "+--------------------+--------------------+--------------------+----+--------------------+---------+\n",
            "only showing top 5 rows\n",
            "\n",
            "Rows count : 15478\n"
          ]
        }
      ]
    },
    {
      "cell_type": "code",
      "source": [
        "df_medications.show(5)\n",
        "rows = df_medications.count()\n",
        "print(f\"Rows count : {rows}\")"
      ],
      "metadata": {
        "colab": {
          "base_uri": "https://localhost:8080/"
        },
        "id": "CIJikwShFHCv",
        "outputId": "030e10a2-31cc-4ec8-dbd6-74e37f010b10"
      },
      "execution_count": 13,
      "outputs": [
        {
          "output_type": "stream",
          "name": "stdout",
          "text": [
            "+--------------------+--------------------+--------------------+--------------------+--------------------+------+--------------------+---------+--------------+---------+---------+----------+--------------------+\n",
            "|               START|                STOP|             PATIENT|               PAYER|           ENCOUNTER|  CODE|         DESCRIPTION|BASE_COST|PAYER_COVERAGE|DISPENSES|TOTALCOST|REASONCODE|   REASONDESCRIPTION|\n",
            "+--------------------+--------------------+--------------------+--------------------+--------------------+------+--------------------+---------+--------------+---------+---------+----------+--------------------+\n",
            "|2010-05-05T00:26:23Z|2011-04-30T00:26:23Z|8d4c4326-e9de-4f4...|b1c428d6-4f07-31e...|1e0d6b0e-1711-4a2...|389221|Etonogestrel 68 M...|   677.08|          0.00|       12|  8124.96|      null|                null|\n",
            "|2011-04-30T00:26:23Z|2012-04-24T00:26:23Z|8d4c4326-e9de-4f4...|b1c428d6-4f07-31e...|6aa37300-d1b4-48e...|389221|Etonogestrel 68 M...|   624.09|          0.00|       12|  7489.08|      null|                null|\n",
            "|2012-04-24T00:26:23Z|2013-04-19T00:26:23Z|8d4c4326-e9de-4f4...|b1c428d6-4f07-31e...|7253a9f9-6f6d-429...|748856|     Yaz 28 Day Pack|    43.32|          0.00|       12|   519.84|      null|                null|\n",
            "|2011-05-13T12:58:08Z|2011-05-27T12:58:08Z|10339b10-3cd1-4ac...|d47b3510-2895-3b7...|e1ab4933-07a1-49f...|313782|Acetaminophen 325...|     8.14|          0.00|        1|     8.14|  10509002|Acute bronchitis ...|\n",
            "|2011-12-08T15:02:18Z|2011-12-22T15:02:18Z|1d604da9-9a81-4ba...|b1c428d6-4f07-31e...|792fae81-a007-44b...|562251|Amoxicillin 250 M...|    11.91|          0.00|        1|    11.91| 444814009|Viral sinusitis (...|\n",
            "+--------------------+--------------------+--------------------+--------------------+--------------------+------+--------------------+---------+--------------+---------+---------+----------+--------------------+\n",
            "only showing top 5 rows\n",
            "\n",
            "Rows count : 42989\n"
          ]
        }
      ]
    },
    {
      "cell_type": "code",
      "source": [
        "df_observations.show(5)\n",
        "rows = df_observations.count()\n",
        "print(f\"Rows count : {rows}\")"
      ],
      "metadata": {
        "colab": {
          "base_uri": "https://localhost:8080/"
        },
        "id": "kF7V9FGsFHJa",
        "outputId": "70594b43-bc39-4b9f-843f-1be46b42e004"
      },
      "execution_count": 14,
      "outputs": [
        {
          "output_type": "stream",
          "name": "stdout",
          "text": [
            "+--------------------+--------------------+--------------------+-------+--------------------+-----+-------+-------+\n",
            "|                DATE|             PATIENT|           ENCOUNTER|   CODE|         DESCRIPTION|VALUE|  UNITS|   TYPE|\n",
            "+--------------------+--------------------+--------------------+-------+--------------------+-----+-------+-------+\n",
            "|2012-01-23T17:45:28Z|034e9e3b-2def-455...|e88bc3a9-007c-405...| 8302-2|         Body Height|193.3|     cm|numeric|\n",
            "|2012-01-23T17:45:28Z|034e9e3b-2def-455...|e88bc3a9-007c-405...|72514-3|Pain severity - 0...|  2.0|{score}|numeric|\n",
            "|2012-01-23T17:45:28Z|034e9e3b-2def-455...|e88bc3a9-007c-405...|29463-7|         Body Weight| 87.8|     kg|numeric|\n",
            "|2012-01-23T17:45:28Z|034e9e3b-2def-455...|e88bc3a9-007c-405...|39156-5|     Body Mass Index| 23.5|  kg/m2|numeric|\n",
            "|2012-01-23T17:45:28Z|034e9e3b-2def-455...|e88bc3a9-007c-405...| 8462-4|Diastolic Blood P...| 82.0| mm[Hg]|numeric|\n",
            "+--------------------+--------------------+--------------------+-------+--------------------+-----+-------+-------+\n",
            "only showing top 5 rows\n",
            "\n",
            "Rows count : 299697\n"
          ]
        }
      ]
    },
    {
      "cell_type": "code",
      "source": [
        "df_organizations.show(5)\n",
        "rows = df_organizations.count()\n",
        "print(f\"Rows count : {rows}\")"
      ],
      "metadata": {
        "colab": {
          "base_uri": "https://localhost:8080/"
        },
        "id": "FCVwoVsDFHQ2",
        "outputId": "080bc810-783e-4ba2-c310-c9ec745d801d"
      },
      "execution_count": 15,
      "outputs": [
        {
          "output_type": "stream",
          "name": "stdout",
          "text": [
            "+--------------------+--------------------+--------------------+----------+-----+-----+---------+----------+----------+------------------+-----------+\n",
            "|                  Id|                NAME|             ADDRESS|      CITY|STATE|  ZIP|      LAT|       LON|     PHONE|           REVENUE|UTILIZATION|\n",
            "+--------------------+--------------------+--------------------+----------+-----+-----+---------+----------+----------+------------------+-----------+\n",
            "|ef58ea08-d883-395...|HEALTHALLIANCE HO...|    60 HOSPITAL ROAD|LEOMINSTER|   MA|01453|42.520838|-71.770876|9784662000|198002.28000000442|       1557|\n",
            "|69176529-fd1f-3b3...|MOUNT AUBURN HOSP...|330 MOUNT AUBURN ...| CAMBRIDGE|   MA|02138|42.375967|-71.118275|6174923500| 288569.1700000008|       2296|\n",
            "|5e765f2b-e908-388...|STURDY MEMORIAL H...|     211 PARK STREET| ATTLEBORO|   MA|02703|41.931653|-71.294503|5082225200|287355.03000000096|       2287|\n",
            "|f1fbcbfb-fcfa-3bd...|LAWRENCE GENERAL ...|  ONE GENERAL STREET|  LAWRENCE|   MA|01842|42.700273|-71.161357|9786834000| 163386.9800000027|       1327|\n",
            "|e002090d-4e92-300...|CAMBRIDGE HEALTH ...|1493 CAMBRIDGE ST...| CAMBRIDGE|   MA|02138|42.375967|-71.118275|6176652300|406053.18999997765|       3199|\n",
            "+--------------------+--------------------+--------------------+----------+-----+-----+---------+----------+----------+------------------+-----------+\n",
            "only showing top 5 rows\n",
            "\n",
            "Rows count : 1119\n"
          ]
        }
      ]
    },
    {
      "cell_type": "code",
      "source": [
        "df_patients.show(5)\n",
        "rows = df_patients.count()\n",
        "print(f\"Rows count : {rows}\")"
      ],
      "metadata": {
        "colab": {
          "base_uri": "https://localhost:8080/"
        },
        "id": "SulkYVlvFHYy",
        "outputId": "03ffde25-74ba-459b-8660-96cc3c3b90bf"
      },
      "execution_count": 16,
      "outputs": [
        {
          "output_type": "stream",
          "name": "stdout",
          "text": [
            "+--------------------+----------+---------+-----------+---------+----------+------+---------------+-------------+------+-------------+-------+-----+-----------+------+--------------------+--------------------+----------+-------------+----------------+-----+------------------+------------------+-------------------+-------------------+\n",
            "|                  Id| BIRTHDATE|DEATHDATE|        SSN|  DRIVERS|  PASSPORT|PREFIX|          FIRST|         LAST|SUFFIX|       MAIDEN|MARITAL| RACE|  ETHNICITY|GENDER|          BIRTHPLACE|             ADDRESS|      CITY|        STATE|          COUNTY|  ZIP|               LAT|               LON|HEALTHCARE_EXPENSES|HEALTHCARE_COVERAGE|\n",
            "+--------------------+----------+---------+-----------+---------+----------+------+---------------+-------------+------+-------------+-------+-----+-----------+------+--------------------+--------------------+----------+-------------+----------------+-----+------------------+------------------+-------------------+-------------------+\n",
            "|1d604da9-9a81-4ba...|1989-05-25|     null|999-76-6866|S99984236|X19277260X|   Mr.|José Eduardo181|     Gómez206|  null|         null|      M|white|   hispanic|     M|Marigot  Saint An...|427 Balistreri Wa...|  Chicopee|Massachusetts|  Hampden County|01013| 42.22835382315942|-72.56295055096882|          271227.08| 1334.8799999999999|\n",
            "|034e9e3b-2def-455...|1983-11-14|     null|999-73-5361|S99962402|X88275464X|   Mr.|        Milo271|      Feil794|  null|         null|      M|white|nonhispanic|     M|Danvers  Massachu...|422 Farrell Path ...|Somerville|Massachusetts|Middlesex County|02143| 42.36069732777065|-71.12653095133149|          793946.01|            3204.49|\n",
            "|10339b10-3cd1-4ac...|1992-06-02|     null|999-27-3385|S99972682|X73754411X|   Mr.|      Jayson808|     Fadel536|  null|         null|      M|white|nonhispanic|     M|Springfield  Mass...|1056 Harris Lane ...|  Chicopee|Massachusetts|  Hampden County|01020|42.181642300277424|-72.60884222581657|           574111.9| 2606.3999999999996|\n",
            "|8d4c4326-e9de-4f4...|1978-05-27|     null|999-85-4926|S99974448|X40915583X|  Mrs.|     Mariana775|Rutherford999|  null|Williamson769|      M|white|nonhispanic|     F|Yarmouth  Massach...|      999 Kuhn Forge|    Lowell|Massachusetts|Middlesex County|01851| 42.63614335069588| -71.3432549217789|           935630.3|  8756.189999999999|\n",
            "|f5dcd418-09fe-4a2...|1996-10-18|     null|999-60-7372|S99915787|X86772962X|   Mr.|    Gregorio366|       Auer97|  null|         null|   null|white|nonhispanic|     M|  Patras  Achaea  GR|1050 Lindgren Ext...|    Boston|Massachusetts|  Suffolk County|02135| 42.35243426303177|-71.02861042115062|          598763.07|             3772.2|\n",
            "+--------------------+----------+---------+-----------+---------+----------+------+---------------+-------------+------+-------------+-------+-----+-----------+------+--------------------+--------------------+----------+-------------+----------------+-----+------------------+------------------+-------------------+-------------------+\n",
            "only showing top 5 rows\n",
            "\n",
            "Rows count : 1171\n"
          ]
        }
      ]
    },
    {
      "cell_type": "code",
      "source": [
        "df_pyr_transitions.show(5)\n",
        "rows = df_pyr_transitions.count()\n",
        "print(f\"Rows count : {rows}\")"
      ],
      "metadata": {
        "colab": {
          "base_uri": "https://localhost:8080/"
        },
        "id": "2USvvPwVFHj2",
        "outputId": "4ec0831b-c43a-4d9c-9ad6-09e04b4edf4e"
      },
      "execution_count": 17,
      "outputs": [
        {
          "output_type": "stream",
          "name": "stdout",
          "text": [
            "+--------------------+----------+--------+--------------------+---------+\n",
            "|             PATIENT|START_YEAR|END_YEAR|               PAYER|OWNERSHIP|\n",
            "+--------------------+----------+--------+--------------------+---------+\n",
            "|1d604da9-9a81-4ba...|      1989|    1998|b1c428d6-4f07-31e...| Guardian|\n",
            "|034e9e3b-2def-455...|      1983|    2001|6e2f1a2d-27bd-370...| Guardian|\n",
            "|8d4c4326-e9de-4f4...|      1978|    1995|7c4411ce-02f1-39b...| Guardian|\n",
            "|8d4c4326-e9de-4f4...|      1996|    1996|5059a55e-5d6e-34d...|     Self|\n",
            "|8d4c4326-e9de-4f4...|      1997|    1999|7c4411ce-02f1-39b...|     Self|\n",
            "+--------------------+----------+--------+--------------------+---------+\n",
            "only showing top 5 rows\n",
            "\n",
            "Rows count : 3801\n"
          ]
        }
      ]
    },
    {
      "cell_type": "code",
      "source": [
        "df_pyr.show(5)\n",
        "rows = df_pyr.count()\n",
        "print(f\"Rows count : {rows}\")"
      ],
      "metadata": {
        "colab": {
          "base_uri": "https://localhost:8080/"
        },
        "id": "YsWsPPrnFHxW",
        "outputId": "dbbddd53-e0df-4d41-de10-81f7e9d54966"
      },
      "execution_count": 18,
      "outputs": [
        {
          "output_type": "stream",
          "name": "stdout",
          "text": [
            "+--------------------+--------------------+------------------+----------+-------------------+-----+--------------+--------------+----------------+------------+------------------+--------------------+-------------------+---------------------+------------------+--------------------+---------------------+-----------------------+----------------+-------------------+-------------+\n",
            "|                  Id|                NAME|           ADDRESS|      CITY|STATE_HEADQUARTERED|  ZIP|         PHONE|AMOUNT_COVERED|AMOUNT_UNCOVERED|     REVENUE|COVERED_ENCOUNTERS|UNCOVERED_ENCOUNTERS|COVERED_MEDICATIONS|UNCOVERED_MEDICATIONS|COVERED_PROCEDURES|UNCOVERED_PROCEDURES|COVERED_IMMUNIZATIONS|UNCOVERED_IMMUNIZATIONS|UNIQUE_CUSTOMERS|           QOLS_AVG|MEMBER_MONTHS|\n",
            "+--------------------+--------------------+------------------+----------+-------------------+-----+--------------+--------------+----------------+------------+------------------+--------------------+-------------------+---------------------+------------------+--------------------+---------------------+-----------------------+----------------+-------------------+-------------+\n",
            "|b3221cfc-24fb-339...|       Dual Eligible|7500 Security Blvd| Baltimore|                 MD|21244|1-877-267-2323|     141676.87|       119449.83|  1305000.00|               907|                   0|                556|                    0|               280|                   0|                  223|                      0|              25|0.36280967419034615|         3348|\n",
            "|7caa7254-5050-3b5...|            Medicare|7500 Security Blvd| Baltimore|                 MD|21244|1-800-633-4227|    4756720.13|       890394.37|  7122250.00|             11072|                   0|              13471|                    0|              7383|                   0|                 2557|                      0|             198| 0.7862229178329115|        29760|\n",
            "|7c4411ce-02f1-39b...|            Medicaid|7500 Security Blvd| Baltimore|                 MD|21244|1-877-267-2323|    3636994.03|      1814967.93| 20365500.00|             26878|                   0|               6382|                    0|             47611|                   0|                 7022|                      0|             507|  0.812136717075754|        84276|\n",
            "|d47b3510-2895-3b7...|              Humana|  500 West Main St|Louisville|                 KY|40018|1-844-330-7799|     716971.60|       842531.43|118500200.00|             12117|                1796|                  0|                 4985|             12718|                 550|                 6832|                    195|             281| 0.9118434431490968|        70308|\n",
            "|6e2f1a2d-27bd-370...|Blue Cross Blue S...|    Michigan Plaza|   Chicago|                 IL|60007|1-800-262-2583|    2741717.82|      1431463.91|140652000.00|             16168|                   0|               6159|                    0|             15312|                   0|                 7520|                      0|             307| 0.9072563661939262|        78768|\n",
            "+--------------------+--------------------+------------------+----------+-------------------+-----+--------------+--------------+----------------+------------+------------------+--------------------+-------------------+---------------------+------------------+--------------------+---------------------+-----------------------+----------------+-------------------+-------------+\n",
            "only showing top 5 rows\n",
            "\n",
            "Rows count : 10\n"
          ]
        }
      ]
    },
    {
      "cell_type": "code",
      "source": [
        "df_procedures.show(5)\n",
        "rows = df_procedures.count()\n",
        "print(f\"Rows count : {rows}\")"
      ],
      "metadata": {
        "colab": {
          "base_uri": "https://localhost:8080/"
        },
        "id": "xBv_U9IMFH-B",
        "outputId": "0e7c097b-e68d-4e45-aec9-ce20fc979252"
      },
      "execution_count": 19,
      "outputs": [
        {
          "output_type": "stream",
          "name": "stdout",
          "text": [
            "+--------------------+--------------------+--------------------+---------+--------------------+---------+----------+--------------------+\n",
            "|                DATE|             PATIENT|           ENCOUNTER|     CODE|         DESCRIPTION|BASE_COST|REASONCODE|   REASONDESCRIPTION|\n",
            "+--------------------+--------------------+--------------------+---------+--------------------+---------+----------+--------------------+\n",
            "|2011-04-30T00:26:23Z|8d4c4326-e9de-4f4...|6aa37300-d1b4-48e...|169553002|Insertion of subc...| 14896.56|      null|                null|\n",
            "|2010-07-27T12:58:08Z|10339b10-3cd1-4ac...|dae2b7cb-1316-4b7...|430193006|Medication Reconc...|   726.51|      null|                null|\n",
            "|2010-11-20T03:04:34Z|f5dcd418-09fe-4a2...|7ff86631-0378-4bf...|430193006|Medication Reconc...|   788.50|      null|                null|\n",
            "|2011-02-07T03:04:34Z|f5dcd418-09fe-4a2...|b8f76eba-7795-4dc...|117015009|Throat culture (p...|  2070.44| 195662009|Acute viral phary...|\n",
            "|2011-04-19T03:04:34Z|f5dcd418-09fe-4a2...|640837d9-845a-433...|117015009|Throat culture (p...|  2479.39| 195662009|Acute viral phary...|\n",
            "+--------------------+--------------------+--------------------+---------+--------------------+---------+----------+--------------------+\n",
            "only showing top 5 rows\n",
            "\n",
            "Rows count : 34981\n"
          ]
        }
      ]
    },
    {
      "cell_type": "code",
      "source": [
        "df_providers.show(5)\n",
        "rows = df_providers.count()\n",
        "print(f\"Rows count : {rows}\")"
      ],
      "metadata": {
        "colab": {
          "base_uri": "https://localhost:8080/"
        },
        "id": "LO9EzEhrFIHo",
        "outputId": "d360904c-6611-4d30-d0e8-7eb3edea3723"
      },
      "execution_count": 20,
      "outputs": [
        {
          "output_type": "stream",
          "name": "stdout",
          "text": [
            "+--------------------+--------------------+--------------------+------+----------------+--------------------+----------+-----+-----+---------+----------+-----------+\n",
            "|                  Id|        ORGANIZATION|                NAME|GENDER|      SPECIALITY|             ADDRESS|      CITY|STATE|  ZIP|      LAT|       LON|UTILIZATION|\n",
            "+--------------------+--------------------+--------------------+------+----------------+--------------------+----------+-----+-----+---------+----------+-----------+\n",
            "|3421aa75-dec7-378...|ef58ea08-d883-395...|   Tomas436 Sauer652|     M|GENERAL PRACTICE|    60 HOSPITAL ROAD|LEOMINSTER|   MA|01453|42.520838|-71.770876|       1557|\n",
            "|c9b3c857-2e24-320...|69176529-fd1f-3b3...|Suzette512 Monaha...|     F|GENERAL PRACTICE|330 MOUNT AUBURN ...| CAMBRIDGE|   MA|02138|42.375967|-71.118275|       2296|\n",
            "|0359f968-d1a6-30e...|5e765f2b-e908-388...|Gaynell126 Streic...|     F|GENERAL PRACTICE|     211 PARK STREET| ATTLEBORO|   MA|02703|41.931653|-71.294503|       2287|\n",
            "|446d1609-858f-3a5...|f1fbcbfb-fcfa-3bd...|Patricia625 Salga...|     F|GENERAL PRACTICE|  ONE GENERAL STREET|  LAWRENCE|   MA|01842|42.700273|-71.161357|       1327|\n",
            "|e6283e46-fd81-361...|e002090d-4e92-300...|Jeanmarie510 Beat...|     F|GENERAL PRACTICE|1493 CAMBRIDGE ST...| CAMBRIDGE|   MA|02138|42.375967|-71.118275|       3199|\n",
            "+--------------------+--------------------+--------------------+------+----------------+--------------------+----------+-----+-----+---------+----------+-----------+\n",
            "only showing top 5 rows\n",
            "\n",
            "Rows count : 5855\n"
          ]
        }
      ]
    },
    {
      "cell_type": "code",
      "source": [
        "df_supplies.show(5)\n",
        "rows = df_supplies.count()\n",
        "print(f\"Rows count : {rows}\")"
      ],
      "metadata": {
        "colab": {
          "base_uri": "https://localhost:8080/"
        },
        "id": "hSmtSolZFyja",
        "outputId": "c9508a51-9fb8-4133-e639-57b54b30396b"
      },
      "execution_count": 21,
      "outputs": [
        {
          "output_type": "stream",
          "name": "stdout",
          "text": [
            "+----+-------+---------+----+-----------+--------+\n",
            "|DATE|PATIENT|ENCOUNTER|CODE|DESCRIPTION|QUANTITY|\n",
            "+----+-------+---------+----+-----------+--------+\n",
            "+----+-------+---------+----+-----------+--------+\n",
            "\n",
            "Rows count : 0\n"
          ]
        }
      ]
    },
    {
      "cell_type": "markdown",
      "source": [
        "Cleaning/Preprocessing the data"
      ],
      "metadata": {
        "id": "flf69xYSB2PK"
      }
    },
    {
      "cell_type": "code",
      "source": [
        "# Change name of header in each dataframe to avoid ambiguity during analysis\n",
        "df_careplans = df_careplans.withColumnRenamed(\"Id\",\"CAREPLAN_ID\")\n",
        "df_encounters = df_encounters.withColumnRenamed(\"Id\",\"ENCOUNTERS_ID\")\n",
        "df_img_studies = df_img_studies.withColumnRenamed(\"Id\",\"IMGSTUDIES_ID\")\n",
        "df_organizations = df_organizations.withColumnRenamed(\"Id\",\"ORG_ID\")\n",
        "df_patients = df_patients.withColumnRenamed(\"Id\",\"PATIENT_ID\")\n",
        "df_pyr = df_pyr.withColumnRenamed(\"Id\",\"PYR_ID\")\n",
        "df_providers = df_providers.withColumnRenamed(\"Id\",\"PROV_ID\")\n",
        "df_careplans.printSchema()"
      ],
      "metadata": {
        "colab": {
          "base_uri": "https://localhost:8080/"
        },
        "id": "IFxXuuCTB-AL",
        "outputId": "642ba6fc-ac15-48ed-a9fc-ef090c01e897"
      },
      "execution_count": 22,
      "outputs": [
        {
          "output_type": "stream",
          "name": "stdout",
          "text": [
            "root\n",
            " |-- CAREPLAN_ID: string (nullable = true)\n",
            " |-- START: string (nullable = true)\n",
            " |-- STOP: string (nullable = true)\n",
            " |-- PATIENT: string (nullable = true)\n",
            " |-- ENCOUNTER: string (nullable = true)\n",
            " |-- CODE: string (nullable = true)\n",
            " |-- DESCRIPTION: string (nullable = true)\n",
            " |-- REASONCODE: string (nullable = true)\n",
            " |-- REASONDESCRIPTION: string (nullable = true)\n",
            "\n"
          ]
        }
      ]
    },
    {
      "cell_type": "code",
      "source": [
        "df_patients.printSchema()"
      ],
      "metadata": {
        "id": "SrSfoyMYEW1C",
        "colab": {
          "base_uri": "https://localhost:8080/"
        },
        "outputId": "8e0404d9-6e72-4f6c-ea5e-c6284cab8c8a"
      },
      "execution_count": 99,
      "outputs": [
        {
          "output_type": "stream",
          "name": "stdout",
          "text": [
            "root\n",
            " |-- PATIENT_ID: string (nullable = true)\n",
            " |-- SSN: string (nullable = true)\n",
            " |-- DRIVERS: string (nullable = true)\n",
            " |-- FIRST: string (nullable = true)\n",
            " |-- LAST: string (nullable = true)\n",
            " |-- MAIDEN: string (nullable = true)\n",
            " |-- GENDER: string (nullable = true)\n",
            " |-- HEALTHCARE_EXPENSES: integer (nullable = true)\n",
            " |-- HEALTHCARE_COVERAGE: integer (nullable = true)\n",
            "\n"
          ]
        }
      ]
    },
    {
      "cell_type": "code",
      "source": [
        "df_encounters.printSchema()"
      ],
      "metadata": {
        "colab": {
          "base_uri": "https://localhost:8080/"
        },
        "id": "JVUuc4oAP05w",
        "outputId": "09b59b62-bd15-41b2-c4b8-4d4afcda28bd"
      },
      "execution_count": 83,
      "outputs": [
        {
          "output_type": "stream",
          "name": "stdout",
          "text": [
            "root\n",
            " |-- ENCOUNTERS_ID: string (nullable = true)\n",
            " |-- START: string (nullable = true)\n",
            " |-- STOP: string (nullable = true)\n",
            " |-- PATIENT: string (nullable = true)\n",
            " |-- ORGANIZATION: string (nullable = true)\n",
            " |-- PROVIDER: string (nullable = true)\n",
            " |-- PAYER: string (nullable = true)\n",
            " |-- ENCOUNTERCLASS: string (nullable = true)\n",
            " |-- CODE: string (nullable = true)\n",
            " |-- DESCRIPTION: string (nullable = true)\n",
            " |-- BASE_ENCOUNTER_COST: integer (nullable = true)\n",
            " |-- TOTAL_CLAIM_COST: integer (nullable = true)\n",
            " |-- PAYER_COVERAGE: integer (nullable = true)\n",
            " |-- REASONCODE: string (nullable = true)\n",
            " |-- REASONDESCRIPTION: string (nullable = true)\n",
            "\n"
          ]
        }
      ]
    },
    {
      "cell_type": "code",
      "source": [
        "# Converting field type from string to numeric for df_patients\n",
        "df_patients = df_patients.withColumn(\"HEALTHCARE_EXPENSES\",df_patients.HEALTHCARE_EXPENSES.cast(IntegerType())) \\\n",
        "                         .withColumn(\"HEALTHCARE_COVERAGE\",df_patients.HEALTHCARE_COVERAGE.cast(IntegerType()))"
      ],
      "metadata": {
        "id": "5VH-SfiCg6bk"
      },
      "execution_count": 98,
      "outputs": []
    },
    {
      "cell_type": "code",
      "source": [
        "# Converting field type from string to numeric for df_encounter\n",
        "df_encounters = df_encounters.withColumn(\"BASE_ENCOUNTER_COST\",df_encounters.BASE_ENCOUNTER_COST.cast(IntegerType())) \\\n",
        "                             .withColumn(\"TOTAL_CLAIM_COST\",df_encounters.TOTAL_CLAIM_COST.cast(IntegerType())) \\\n",
        "                             .withColumn(\"PAYER_COVERAGE\",df_encounters.PAYER_COVERAGE.cast(IntegerType()))"
      ],
      "metadata": {
        "id": "GWeBTYIvXI3H"
      },
      "execution_count": 82,
      "outputs": []
    },
    {
      "cell_type": "code",
      "source": [],
      "metadata": {
        "id": "EBQJNsxRhYqe"
      },
      "execution_count": null,
      "outputs": []
    },
    {
      "cell_type": "code",
      "source": [
        "# Selecting selective columns like ID, NAME, EXPENSES for patients\n",
        "df_patients = df_patients.select(\"PATIENT_ID\",\"SSN\",\"DRIVERS\",\"FIRST\",\"LAST\",\"MAIDEN\",\"GENDER\",\"HEALTHCARE_EXPENSES\",\"HEALTHCARE_COVERAGE\")\n",
        "df_patients.show(5)"
      ],
      "metadata": {
        "colab": {
          "base_uri": "https://localhost:8080/"
        },
        "id": "Zu-8BHELN0bF",
        "outputId": "0b981c4a-67ae-45b4-80da-6448313616e9"
      },
      "execution_count": 44,
      "outputs": [
        {
          "output_type": "stream",
          "name": "stdout",
          "text": [
            "+--------------------+-----------+---------+---------------+-------------+-------------+------+-------------------+-------------------+\n",
            "|          PATIENT_ID|        SSN|  DRIVERS|          FIRST|         LAST|       MAIDEN|GENDER|HEALTHCARE_EXPENSES|HEALTHCARE_COVERAGE|\n",
            "+--------------------+-----------+---------+---------------+-------------+-------------+------+-------------------+-------------------+\n",
            "|1d604da9-9a81-4ba...|999-76-6866|S99984236|José Eduardo181|     Gómez206|         null|     M|          271227.08| 1334.8799999999999|\n",
            "|034e9e3b-2def-455...|999-73-5361|S99962402|        Milo271|      Feil794|         null|     M|          793946.01|            3204.49|\n",
            "|10339b10-3cd1-4ac...|999-27-3385|S99972682|      Jayson808|     Fadel536|         null|     M|           574111.9| 2606.3999999999996|\n",
            "|8d4c4326-e9de-4f4...|999-85-4926|S99974448|     Mariana775|Rutherford999|Williamson769|     F|           935630.3|  8756.189999999999|\n",
            "|f5dcd418-09fe-4a2...|999-60-7372|S99915787|    Gregorio366|       Auer97|         null|     M|          598763.07|             3772.2|\n",
            "+--------------------+-----------+---------+---------------+-------------+-------------+------+-------------------+-------------------+\n",
            "only showing top 5 rows\n",
            "\n"
          ]
        }
      ]
    },
    {
      "cell_type": "markdown",
      "source": [
        "Data Joins"
      ],
      "metadata": {
        "id": "_P-Gg5zz9RvW"
      }
    },
    {
      "cell_type": "code",
      "source": [
        "pat_enc = df_patients.join(df_encounters, trim(df_patients.PATIENT_ID) == trim(df_encounters.PATIENT))\n",
        "pat_enc.show(5)\n",
        "rows = pat_enc.count()\n",
        "print(f\"Rows count : {rows}\")"
      ],
      "metadata": {
        "colab": {
          "base_uri": "https://localhost:8080/"
        },
        "id": "r0iXZhmbxCpk",
        "outputId": "0b93156a-8c5f-486e-c935-fd2187122d8a"
      },
      "execution_count": 100,
      "outputs": [
        {
          "output_type": "stream",
          "name": "stdout",
          "text": [
            "+--------------------+-----------+---------+---------------+--------+------+------+-------------------+-------------------+--------------------+--------------------+--------------------+--------------------+--------------------+--------------------+--------------------+--------------+---------+--------------------+-------------------+----------------+--------------+----------+--------------------+\n",
            "|          PATIENT_ID|        SSN|  DRIVERS|          FIRST|    LAST|MAIDEN|GENDER|HEALTHCARE_EXPENSES|HEALTHCARE_COVERAGE|       ENCOUNTERS_ID|               START|                STOP|             PATIENT|        ORGANIZATION|            PROVIDER|               PAYER|ENCOUNTERCLASS|     CODE|         DESCRIPTION|BASE_ENCOUNTER_COST|TOTAL_CLAIM_COST|PAYER_COVERAGE|REASONCODE|   REASONDESCRIPTION|\n",
            "+--------------------+-----------+---------+---------------+--------+------+------+-------------------+-------------------+--------------------+--------------------+--------------------+--------------------+--------------------+--------------------+--------------------+--------------+---------+--------------------+-------------------+----------------+--------------+----------+--------------------+\n",
            "|034e9e3b-2def-455...|999-73-5361|S99962402|        Milo271| Feil794|  null|     M|             793946|               3204|d0c40d10-8d87-447...|2010-01-23T17:45:28Z|2010-01-23T18:10:28Z|034e9e3b-2def-455...|e002090d-4e92-300...|e6283e46-fd81-361...|6e2f1a2d-27bd-370...|    ambulatory|185345009|Encounter for sym...|                129|             129|            54|  10509002|Acute bronchitis ...|\n",
            "|034e9e3b-2def-455...|999-73-5361|S99962402|        Milo271| Feil794|  null|     M|             793946|               3204|e88bc3a9-007c-405...|2012-01-23T17:45:28Z|2012-01-23T18:00:28Z|034e9e3b-2def-455...|772ee193-bb9f-30e...|6f1d59a7-a5bd-3cf...|6e2f1a2d-27bd-370...|      wellness|162673000|General examinati...|                129|             129|           129|      null|                null|\n",
            "|1d604da9-9a81-4ba...|999-76-6866|S99984236|José Eduardo181|Gómez206|  null|     M|             271227|               1334|8f104aa7-4ca9-447...|2001-05-01T15:02:18Z|2001-05-01T15:17:18Z|1d604da9-9a81-4ba...|5d4b9df1-93ae-3bc...|af01a385-31d3-3c7...|b1c428d6-4f07-31e...|    ambulatory|185345009|Encounter for sym...|                129|             129|             0|  36971009|Sinusitis (disorder)|\n",
            "|1d604da9-9a81-4ba...|999-76-6866|S99984236|José Eduardo181|Gómez206|  null|     M|             271227|               1334|b85c339a-6076-43e...|2011-07-28T15:02:18Z|2011-07-28T15:17:18Z|1d604da9-9a81-4ba...|3dc9bb2d-5d66-3e6...|bb17e691-262b-354...|b1c428d6-4f07-31e...|      wellness|162673000|General examinati...|                129|             129|             0|      null|                null|\n",
            "|10339b10-3cd1-4ac...|999-27-3385|S99972682|      Jayson808|Fadel536|  null|     M|             574111|               2606|dae2b7cb-1316-4b7...|2010-07-27T12:58:08Z|2010-07-27T13:28:08Z|10339b10-3cd1-4ac...|b03dba4f-892f-365...|7ed6b84a-b847-374...|d47b3510-2895-3b7...|      wellness|162673000|General examinati...|                129|             129|           129|      null|                null|\n",
            "+--------------------+-----------+---------+---------------+--------+------+------+-------------------+-------------------+--------------------+--------------------+--------------------+--------------------+--------------------+--------------------+--------------------+--------------+---------+--------------------+-------------------+----------------+--------------+----------+--------------------+\n",
            "only showing top 5 rows\n",
            "\n",
            "Rows count : 53346\n"
          ]
        }
      ]
    },
    {
      "cell_type": "code",
      "source": [
        "temp_RDD = pat_enc.groupBy(\"REASONCODE\").sum(\"BASE_ENCOUNTER_COST\", \"TOTAL_CLAIM_COST\", \"PAYER_COVERAGE\", \"HEALTHCARE_EXPENSES\", \"HEALTHCARE_COVERAGE\")\n",
        "temp_RDD.show(5)\n",
        "print(f\"Rows count : {temp_RDD.count()}\")"
      ],
      "metadata": {
        "colab": {
          "base_uri": "https://localhost:8080/"
        },
        "id": "xucLhyJWQgXh",
        "outputId": "5b5f3dee-919f-449a-b494-e35757f34fca"
      },
      "execution_count": 101,
      "outputs": [
        {
          "output_type": "stream",
          "name": "stdout",
          "text": [
            "+----------+------------------------+---------------------+-------------------+------------------------+------------------------+\n",
            "|REASONCODE|sum(BASE_ENCOUNTER_COST)|sum(TOTAL_CLAIM_COST)|sum(PAYER_COVERAGE)|sum(HEALTHCARE_EXPENSES)|sum(HEALTHCARE_COVERAGE)|\n",
            "+----------+------------------------+---------------------+-------------------+------------------------+------------------------+\n",
            "| 301011002|                    7482|                 7482|               2582|                51873681|                  574753|\n",
            "| 359817006|                    1419|                 1419|                695|                 7867530|                  256877|\n",
            "|  26929004|                    5676|                 5676|               3647|                58494741|                 1036959|\n",
            "|  62564004|                    2967|                 2967|               1226|                14788644|                  270229|\n",
            "|  65275009|                     129|                  129|                 69|                  201672|                   17259|\n",
            "+----------+------------------------+---------------------+-------------------+------------------------+------------------------+\n",
            "only showing top 5 rows\n",
            "\n",
            "Rows count : 81\n"
          ]
        }
      ]
    },
    {
      "cell_type": "code",
      "source": [
        "temp_RDD = pat_enc.groupBy(\"ENCOUNTERCLASS\").sum(\"BASE_ENCOUNTER_COST\", \"TOTAL_CLAIM_COST\", \"PAYER_COVERAGE\", \"HEALTHCARE_EXPENSES\", \"HEALTHCARE_COVERAGE\")\n",
        "temp_RDD.show(7)\n",
        "print(f\"Rows count : {temp_RDD.count()}\")"
      ],
      "metadata": {
        "colab": {
          "base_uri": "https://localhost:8080/"
        },
        "id": "p0sVuB62gGal",
        "outputId": "ca63c87c-3518-4d50-a9db-0e90bbd23056"
      },
      "execution_count": 102,
      "outputs": [
        {
          "output_type": "stream",
          "name": "stdout",
          "text": [
            "+--------------+------------------------+---------------------+-------------------+------------------------+------------------------+\n",
            "|ENCOUNTERCLASS|sum(BASE_ENCOUNTER_COST)|sum(TOTAL_CLAIM_COST)|sum(PAYER_COVERAGE)|sum(HEALTHCARE_EXPENSES)|sum(HEALTHCARE_COVERAGE)|\n",
            "+--------------+------------------------+---------------------+-------------------+------------------------+------------------------+\n",
            "|      wellness|                 2464674|              2464674|            1768169|             17852261350|               442254240|\n",
            "|    outpatient|                 1161387|              1161387|             265231|              8614823270|               729466798|\n",
            "|     emergency|                  269610|               269610|             122801|              1931719609|               190217699|\n",
            "|     inpatient|                  215106|               215106|              81045|              1695314453|               152263991|\n",
            "|    urgentcare|                  306117|               306117|                  0|              3125283327|               468767121|\n",
            "|    ambulatory|                 2442744|              2442744|            1063619|             20320412270|              2302065075|\n",
            "+--------------+------------------------+---------------------+-------------------+------------------------+------------------------+\n",
            "\n",
            "Rows count : 6\n"
          ]
        }
      ]
    },
    {
      "cell_type": "code",
      "source": [
        "temp_RDD = df_patients.join(df_careplans, trim(df_patients.PATIENT_ID) == trim(df_careplans.PATIENT))\n",
        "temp_RDD.show(5)\n",
        "rows = temp_RDD.count()\n",
        "print(f\"Rows count : {rows}\")"
      ],
      "metadata": {
        "colab": {
          "base_uri": "https://localhost:8080/"
        },
        "id": "CPzXUVRVVK_w",
        "outputId": "939b4f5d-38f7-4d4c-9b6f-1c60232c928f"
      },
      "execution_count": 24,
      "outputs": [
        {
          "output_type": "stream",
          "name": "stdout",
          "text": [
            "+--------------------+----------+---------+-----------+---------+----------+------+-----------+--------+------+------+-------+-----+-----------+------+--------------------+--------------------+----------+-------------+----------------+-----+------------------+------------------+-------------------+-------------------+--------------------+----------+----------+--------------------+--------------------+---------+-------------------+----------+--------------------+\n",
            "|          PATIENT_ID| BIRTHDATE|DEATHDATE|        SSN|  DRIVERS|  PASSPORT|PREFIX|      FIRST|    LAST|SUFFIX|MAIDEN|MARITAL| RACE|  ETHNICITY|GENDER|          BIRTHPLACE|             ADDRESS|      CITY|        STATE|          COUNTY|  ZIP|               LAT|               LON|HEALTHCARE_EXPENSES|HEALTHCARE_COVERAGE|         CAREPLAN_ID|     START|      STOP|             PATIENT|           ENCOUNTER|     CODE|        DESCRIPTION|REASONCODE|   REASONDESCRIPTION|\n",
            "+--------------------+----------+---------+-----------+---------+----------+------+-----------+--------+------+------+-------+-----+-----------+------+--------------------+--------------------+----------+-------------+----------------+-----+------------------+------------------+-------------------+-------------------+--------------------+----------+----------+--------------------+--------------------+---------+-------------------+----------+--------------------+\n",
            "|034e9e3b-2def-455...|1983-11-14|     null|999-73-5361|S99962402|X88275464X|   Mr.|    Milo271| Feil794|  null|  null|      M|white|nonhispanic|     M|Danvers  Massachu...|422 Farrell Path ...|Somerville|Massachusetts|Middlesex County|02143| 42.36069732777065|-71.12653095133149|          793946.01|            3204.49|d2500b8c-e830-433...|2010-01-23|2012-01-23|034e9e3b-2def-455...|d0c40d10-8d87-447...| 53950000|Respiratory therapy|  10509002|Acute bronchitis ...|\n",
            "|10339b10-3cd1-4ac...|1992-06-02|     null|999-27-3385|S99972682|X73754411X|   Mr.|  Jayson808|Fadel536|  null|  null|      M|white|nonhispanic|     M|Springfield  Mass...|1056 Harris Lane ...|  Chicopee|Massachusetts|  Hampden County|01020|42.181642300277424|-72.60884222581657|           574111.9| 2606.3999999999996|07d9ddd8-dfa1-4e4...|2011-05-13|2011-08-02|10339b10-3cd1-4ac...|e1ab4933-07a1-49f...| 53950000|Respiratory therapy|  10509002|Acute bronchitis ...|\n",
            "|f5dcd418-09fe-4a2...|1996-10-18|     null|999-60-7372|S99915787|X86772962X|   Mr.|Gregorio366|  Auer97|  null|  null|   null|white|nonhispanic|     M|  Patras  Achaea  GR|1050 Lindgren Ext...|    Boston|Massachusetts|  Suffolk County|02135| 42.35243426303177|-71.02861042115062|          598763.07|             3772.2|a3bb6e99-3b99-44b...|2011-12-31|2012-11-30|f5dcd418-09fe-4a2...|16300c56-a035-412...| 53950000|Respiratory therapy|  10509002|Acute bronchitis ...|\n",
            "|034e9e3b-2def-455...|1983-11-14|     null|999-73-5361|S99962402|X88275464X|   Mr.|    Milo271| Feil794|  null|  null|      M|white|nonhispanic|     M|Danvers  Massachu...|422 Farrell Path ...|Somerville|Massachusetts|Middlesex County|02143| 42.36069732777065|-71.12653095133149|          793946.01|            3204.49|9f5284b7-425a-486...|2016-12-29|2017-01-05|034e9e3b-2def-455...|3b639086-5fbc-472...| 53950000|Respiratory therapy|  10509002|Acute bronchitis ...|\n",
            "|10339b10-3cd1-4ac...|1992-06-02|     null|999-27-3385|S99972682|X73754411X|   Mr.|  Jayson808|Fadel536|  null|  null|      M|white|nonhispanic|     M|Springfield  Mass...|1056 Harris Lane ...|  Chicopee|Massachusetts|  Hampden County|01020|42.181642300277424|-72.60884222581657|           574111.9| 2606.3999999999996|47ede16c-c216-4f8...|2017-01-22|2017-02-12|10339b10-3cd1-4ac...|4ec8d55b-05fc-42a...|225358003|         Wound care| 284551006|  Laceration of foot|\n",
            "+--------------------+----------+---------+-----------+---------+----------+------+-----------+--------+------+------+-------+-----+-----------+------+--------------------+--------------------+----------+-------------+----------------+-----+------------------+------------------+-------------------+-------------------+--------------------+----------+----------+--------------------+--------------------+---------+-------------------+----------+--------------------+\n",
            "only showing top 5 rows\n",
            "\n",
            "Rows count : 3483\n"
          ]
        }
      ]
    },
    {
      "cell_type": "code",
      "source": [],
      "metadata": {
        "id": "DlGM7QPyQep1"
      },
      "execution_count": null,
      "outputs": []
    },
    {
      "cell_type": "code",
      "source": [
        "temp_RDD = df_patients.join(df_pyr_transitions, trim(df_patients.PATIENT_ID) == trim(df_pyr_transitions.PATIENT))\n",
        "temp_RDD.show(5)\n",
        "rows = temp_RDD.count()\n",
        "print(f\"Rows count : {rows}\")"
      ],
      "metadata": {
        "colab": {
          "base_uri": "https://localhost:8080/"
        },
        "id": "ObdclkaNa5go",
        "outputId": "947bfd61-4879-4eeb-84cf-cd185dd69f59"
      },
      "execution_count": 25,
      "outputs": [
        {
          "output_type": "stream",
          "name": "stdout",
          "text": [
            "+--------------------+----------+---------+-----------+---------+----------+------+---------------+-------------+------+-------------+-------+-----+-----------+------+--------------------+--------------------+----------+-------------+----------------+-----+-----------------+------------------+-------------------+-------------------+--------------------+----------+--------+--------------------+---------+\n",
            "|          PATIENT_ID| BIRTHDATE|DEATHDATE|        SSN|  DRIVERS|  PASSPORT|PREFIX|          FIRST|         LAST|SUFFIX|       MAIDEN|MARITAL| RACE|  ETHNICITY|GENDER|          BIRTHPLACE|             ADDRESS|      CITY|        STATE|          COUNTY|  ZIP|              LAT|               LON|HEALTHCARE_EXPENSES|HEALTHCARE_COVERAGE|             PATIENT|START_YEAR|END_YEAR|               PAYER|OWNERSHIP|\n",
            "+--------------------+----------+---------+-----------+---------+----------+------+---------------+-------------+------+-------------+-------+-----+-----------+------+--------------------+--------------------+----------+-------------+----------------+-----+-----------------+------------------+-------------------+-------------------+--------------------+----------+--------+--------------------+---------+\n",
            "|1d604da9-9a81-4ba...|1989-05-25|     null|999-76-6866|S99984236|X19277260X|   Mr.|José Eduardo181|     Gómez206|  null|         null|      M|white|   hispanic|     M|Marigot  Saint An...|427 Balistreri Wa...|  Chicopee|Massachusetts|  Hampden County|01013|42.22835382315942|-72.56295055096882|          271227.08| 1334.8799999999999|1d604da9-9a81-4ba...|      1989|    1998|b1c428d6-4f07-31e...| Guardian|\n",
            "|034e9e3b-2def-455...|1983-11-14|     null|999-73-5361|S99962402|X88275464X|   Mr.|        Milo271|      Feil794|  null|         null|      M|white|nonhispanic|     M|Danvers  Massachu...|422 Farrell Path ...|Somerville|Massachusetts|Middlesex County|02143|42.36069732777065|-71.12653095133149|          793946.01|            3204.49|034e9e3b-2def-455...|      1983|    2001|6e2f1a2d-27bd-370...| Guardian|\n",
            "|8d4c4326-e9de-4f4...|1978-05-27|     null|999-85-4926|S99974448|X40915583X|  Mrs.|     Mariana775|Rutherford999|  null|Williamson769|      M|white|nonhispanic|     F|Yarmouth  Massach...|      999 Kuhn Forge|    Lowell|Massachusetts|Middlesex County|01851|42.63614335069588| -71.3432549217789|           935630.3|  8756.189999999999|8d4c4326-e9de-4f4...|      1978|    1995|7c4411ce-02f1-39b...| Guardian|\n",
            "|8d4c4326-e9de-4f4...|1978-05-27|     null|999-85-4926|S99974448|X40915583X|  Mrs.|     Mariana775|Rutherford999|  null|Williamson769|      M|white|nonhispanic|     F|Yarmouth  Massach...|      999 Kuhn Forge|    Lowell|Massachusetts|Middlesex County|01851|42.63614335069588| -71.3432549217789|           935630.3|  8756.189999999999|8d4c4326-e9de-4f4...|      1996|    1996|5059a55e-5d6e-34d...|     Self|\n",
            "|8d4c4326-e9de-4f4...|1978-05-27|     null|999-85-4926|S99974448|X40915583X|  Mrs.|     Mariana775|Rutherford999|  null|Williamson769|      M|white|nonhispanic|     F|Yarmouth  Massach...|      999 Kuhn Forge|    Lowell|Massachusetts|Middlesex County|01851|42.63614335069588| -71.3432549217789|           935630.3|  8756.189999999999|8d4c4326-e9de-4f4...|      1997|    1999|7c4411ce-02f1-39b...|     Self|\n",
            "+--------------------+----------+---------+-----------+---------+----------+------+---------------+-------------+------+-------------+-------+-----+-----------+------+--------------------+--------------------+----------+-------------+----------------+-----+-----------------+------------------+-------------------+-------------------+--------------------+----------+--------+--------------------+---------+\n",
            "only showing top 5 rows\n",
            "\n",
            "Rows count : 3801\n"
          ]
        }
      ]
    },
    {
      "cell_type": "code",
      "source": [
        "temp_RDD = df_patients.join(df_observations, trim(df_patients.PATIENT_ID) == trim(df_observations.PATIENT))\n",
        "temp_RDD.show(5)\n",
        "rows = temp_RDD.count()\n",
        "print(f\"Rows count : {rows}\")"
      ],
      "metadata": {
        "colab": {
          "base_uri": "https://localhost:8080/"
        },
        "id": "a_332qQZ4sJa",
        "outputId": "cff44970-3e96-42e9-ea2c-f0351946bf2d"
      },
      "execution_count": 26,
      "outputs": [
        {
          "output_type": "stream",
          "name": "stdout",
          "text": [
            "+--------------------+----------+---------+-----------+---------+----------+------+-------+-------+------+------+-------+-----+-----------+------+--------------------+--------------------+----------+-------------+----------------+-----+-----------------+------------------+-------------------+-------------------+--------------------+--------------------+--------------------+-------+--------------------+-----+-------+-------+\n",
            "|          PATIENT_ID| BIRTHDATE|DEATHDATE|        SSN|  DRIVERS|  PASSPORT|PREFIX|  FIRST|   LAST|SUFFIX|MAIDEN|MARITAL| RACE|  ETHNICITY|GENDER|          BIRTHPLACE|             ADDRESS|      CITY|        STATE|          COUNTY|  ZIP|              LAT|               LON|HEALTHCARE_EXPENSES|HEALTHCARE_COVERAGE|                DATE|             PATIENT|           ENCOUNTER|   CODE|         DESCRIPTION|VALUE|  UNITS|   TYPE|\n",
            "+--------------------+----------+---------+-----------+---------+----------+------+-------+-------+------+------+-------+-----+-----------+------+--------------------+--------------------+----------+-------------+----------------+-----+-----------------+------------------+-------------------+-------------------+--------------------+--------------------+--------------------+-------+--------------------+-----+-------+-------+\n",
            "|034e9e3b-2def-455...|1983-11-14|     null|999-73-5361|S99962402|X88275464X|   Mr.|Milo271|Feil794|  null|  null|      M|white|nonhispanic|     M|Danvers  Massachu...|422 Farrell Path ...|Somerville|Massachusetts|Middlesex County|02143|42.36069732777065|-71.12653095133149|          793946.01|            3204.49|2012-01-23T17:45:28Z|034e9e3b-2def-455...|e88bc3a9-007c-405...| 8302-2|         Body Height|193.3|     cm|numeric|\n",
            "|034e9e3b-2def-455...|1983-11-14|     null|999-73-5361|S99962402|X88275464X|   Mr.|Milo271|Feil794|  null|  null|      M|white|nonhispanic|     M|Danvers  Massachu...|422 Farrell Path ...|Somerville|Massachusetts|Middlesex County|02143|42.36069732777065|-71.12653095133149|          793946.01|            3204.49|2012-01-23T17:45:28Z|034e9e3b-2def-455...|e88bc3a9-007c-405...|72514-3|Pain severity - 0...|  2.0|{score}|numeric|\n",
            "|034e9e3b-2def-455...|1983-11-14|     null|999-73-5361|S99962402|X88275464X|   Mr.|Milo271|Feil794|  null|  null|      M|white|nonhispanic|     M|Danvers  Massachu...|422 Farrell Path ...|Somerville|Massachusetts|Middlesex County|02143|42.36069732777065|-71.12653095133149|          793946.01|            3204.49|2012-01-23T17:45:28Z|034e9e3b-2def-455...|e88bc3a9-007c-405...|29463-7|         Body Weight| 87.8|     kg|numeric|\n",
            "|034e9e3b-2def-455...|1983-11-14|     null|999-73-5361|S99962402|X88275464X|   Mr.|Milo271|Feil794|  null|  null|      M|white|nonhispanic|     M|Danvers  Massachu...|422 Farrell Path ...|Somerville|Massachusetts|Middlesex County|02143|42.36069732777065|-71.12653095133149|          793946.01|            3204.49|2012-01-23T17:45:28Z|034e9e3b-2def-455...|e88bc3a9-007c-405...|39156-5|     Body Mass Index| 23.5|  kg/m2|numeric|\n",
            "|034e9e3b-2def-455...|1983-11-14|     null|999-73-5361|S99962402|X88275464X|   Mr.|Milo271|Feil794|  null|  null|      M|white|nonhispanic|     M|Danvers  Massachu...|422 Farrell Path ...|Somerville|Massachusetts|Middlesex County|02143|42.36069732777065|-71.12653095133149|          793946.01|            3204.49|2012-01-23T17:45:28Z|034e9e3b-2def-455...|e88bc3a9-007c-405...| 8462-4|Diastolic Blood P...| 82.0| mm[Hg]|numeric|\n",
            "+--------------------+----------+---------+-----------+---------+----------+------+-------+-------+------+------+-------+-----+-----------+------+--------------------+--------------------+----------+-------------+----------------+-----+-----------------+------------------+-------------------+-------------------+--------------------+--------------------+--------------------+-------+--------------------+-----+-------+-------+\n",
            "only showing top 5 rows\n",
            "\n",
            "Rows count : 299697\n"
          ]
        }
      ]
    },
    {
      "cell_type": "code",
      "source": [
        "temp_RDD = df_patients.join(df_immunizations, trim(df_patients.PATIENT_ID) == trim(df_immunizations.PATIENT))\n",
        "temp_RDD.show(5)\n",
        "rows = temp_RDD.count()\n",
        "print(f\"Rows count : {rows}\")"
      ],
      "metadata": {
        "colab": {
          "base_uri": "https://localhost:8080/"
        },
        "id": "aqmQbETs4shz",
        "outputId": "7ce7e4d7-4e2f-4efa-93a6-0c1fbe63bd46"
      },
      "execution_count": 27,
      "outputs": [
        {
          "output_type": "stream",
          "name": "stdout",
          "text": [
            "+--------------------+----------+---------+-----------+---------+----------+------+---------------+--------+------+------+-------+-----+-----------+------+--------------------+--------------------+----------+-------------+----------------+-----+------------------+------------------+-------------------+-------------------+--------------------+--------------------+--------------------+----+--------------------+---------+\n",
            "|          PATIENT_ID| BIRTHDATE|DEATHDATE|        SSN|  DRIVERS|  PASSPORT|PREFIX|          FIRST|    LAST|SUFFIX|MAIDEN|MARITAL| RACE|  ETHNICITY|GENDER|          BIRTHPLACE|             ADDRESS|      CITY|        STATE|          COUNTY|  ZIP|               LAT|               LON|HEALTHCARE_EXPENSES|HEALTHCARE_COVERAGE|                DATE|             PATIENT|           ENCOUNTER|CODE|         DESCRIPTION|BASE_COST|\n",
            "+--------------------+----------+---------+-----------+---------+----------+------+---------------+--------+------+------+-------+-----+-----------+------+--------------------+--------------------+----------+-------------+----------------+-----+------------------+------------------+-------------------+-------------------+--------------------+--------------------+--------------------+----+--------------------+---------+\n",
            "|10339b10-3cd1-4ac...|1992-06-02|     null|999-27-3385|S99972682|X73754411X|   Mr.|      Jayson808|Fadel536|  null|  null|      M|white|nonhispanic|     M|Springfield  Mass...|1056 Harris Lane ...|  Chicopee|Massachusetts|  Hampden County|01020|42.181642300277424|-72.60884222581657|           574111.9| 2606.3999999999996|2010-07-27T12:58:08Z|10339b10-3cd1-4ac...|dae2b7cb-1316-4b7...| 140|Influenza  season...|   140.52|\n",
            "|f5dcd418-09fe-4a2...|1996-10-18|     null|999-60-7372|S99915787|X86772962X|   Mr.|    Gregorio366|  Auer97|  null|  null|   null|white|nonhispanic|     M|  Patras  Achaea  GR|1050 Lindgren Ext...|    Boston|Massachusetts|  Suffolk County|02135| 42.35243426303177|-71.02861042115062|          598763.07|             3772.2|2010-11-20T03:04:34Z|f5dcd418-09fe-4a2...|7ff86631-0378-4bf...| 140|Influenza  season...|   140.52|\n",
            "|034e9e3b-2def-455...|1983-11-14|     null|999-73-5361|S99962402|X88275464X|   Mr.|        Milo271| Feil794|  null|  null|      M|white|nonhispanic|     M|Danvers  Massachu...|422 Farrell Path ...|Somerville|Massachusetts|Middlesex County|02143| 42.36069732777065|-71.12653095133149|          793946.01|            3204.49|2012-01-23T17:45:28Z|034e9e3b-2def-455...|e88bc3a9-007c-405...| 140|Influenza  season...|   140.52|\n",
            "|f5dcd418-09fe-4a2...|1996-10-18|     null|999-60-7372|S99915787|X86772962X|   Mr.|    Gregorio366|  Auer97|  null|  null|   null|white|nonhispanic|     M|  Patras  Achaea  GR|1050 Lindgren Ext...|    Boston|Massachusetts|  Suffolk County|02135| 42.35243426303177|-71.02861042115062|          598763.07|             3772.2|2011-11-26T03:04:34Z|f5dcd418-09fe-4a2...|1923c698-accd-4d7...| 140|Influenza  season...|   140.52|\n",
            "|1d604da9-9a81-4ba...|1989-05-25|     null|999-76-6866|S99984236|X19277260X|   Mr.|José Eduardo181|Gómez206|  null|  null|      M|white|   hispanic|     M|Marigot  Saint An...|427 Balistreri Wa...|  Chicopee|Massachusetts|  Hampden County|01013| 42.22835382315942|-72.56295055096882|          271227.08| 1334.8799999999999|2011-07-28T15:02:18Z|1d604da9-9a81-4ba...|b85c339a-6076-43e...| 140|Influenza  season...|   140.52|\n",
            "+--------------------+----------+---------+-----------+---------+----------+------+---------------+--------+------+------+-------+-----+-----------+------+--------------------+--------------------+----------+-------------+----------------+-----+------------------+------------------+-------------------+-------------------+--------------------+--------------------+--------------------+----+--------------------+---------+\n",
            "only showing top 5 rows\n",
            "\n",
            "Rows count : 15478\n"
          ]
        }
      ]
    },
    {
      "cell_type": "code",
      "source": [
        "temp_RDD = df_patients.join(df_procedures, trim(df_patients.PATIENT_ID) == trim(df_procedures.PATIENT))\n",
        "temp_RDD.show(5)\n",
        "rows = temp_RDD.count()\n",
        "print(f\"Rows count : {rows}\")"
      ],
      "metadata": {
        "colab": {
          "base_uri": "https://localhost:8080/"
        },
        "id": "Tlz0rHPm79b4",
        "outputId": "be24cc73-587d-40b1-dfe3-67bee114f44c"
      },
      "execution_count": 28,
      "outputs": [
        {
          "output_type": "stream",
          "name": "stdout",
          "text": [
            "+--------------------+----------+---------+-----------+---------+----------+------+-----------+-------------+------+-------------+-------+-----+-----------+------+--------------------+--------------------+--------+-------------+----------------+-----+------------------+------------------+-------------------+-------------------+--------------------+--------------------+--------------------+---------+--------------------+---------+----------+--------------------+\n",
            "|          PATIENT_ID| BIRTHDATE|DEATHDATE|        SSN|  DRIVERS|  PASSPORT|PREFIX|      FIRST|         LAST|SUFFIX|       MAIDEN|MARITAL| RACE|  ETHNICITY|GENDER|          BIRTHPLACE|             ADDRESS|    CITY|        STATE|          COUNTY|  ZIP|               LAT|               LON|HEALTHCARE_EXPENSES|HEALTHCARE_COVERAGE|                DATE|             PATIENT|           ENCOUNTER|     CODE|         DESCRIPTION|BASE_COST|REASONCODE|   REASONDESCRIPTION|\n",
            "+--------------------+----------+---------+-----------+---------+----------+------+-----------+-------------+------+-------------+-------+-----+-----------+------+--------------------+--------------------+--------+-------------+----------------+-----+------------------+------------------+-------------------+-------------------+--------------------+--------------------+--------------------+---------+--------------------+---------+----------+--------------------+\n",
            "|8d4c4326-e9de-4f4...|1978-05-27|     null|999-85-4926|S99974448|X40915583X|  Mrs.| Mariana775|Rutherford999|  null|Williamson769|      M|white|nonhispanic|     F|Yarmouth  Massach...|      999 Kuhn Forge|  Lowell|Massachusetts|Middlesex County|01851| 42.63614335069588| -71.3432549217789|           935630.3|  8756.189999999999|2011-04-30T00:26:23Z|8d4c4326-e9de-4f4...|6aa37300-d1b4-48e...|169553002|Insertion of subc...| 14896.56|      null|                null|\n",
            "|10339b10-3cd1-4ac...|1992-06-02|     null|999-27-3385|S99972682|X73754411X|   Mr.|  Jayson808|     Fadel536|  null|         null|      M|white|nonhispanic|     M|Springfield  Mass...|1056 Harris Lane ...|Chicopee|Massachusetts|  Hampden County|01020|42.181642300277424|-72.60884222581657|           574111.9| 2606.3999999999996|2010-07-27T12:58:08Z|10339b10-3cd1-4ac...|dae2b7cb-1316-4b7...|430193006|Medication Reconc...|   726.51|      null|                null|\n",
            "|f5dcd418-09fe-4a2...|1996-10-18|     null|999-60-7372|S99915787|X86772962X|   Mr.|Gregorio366|       Auer97|  null|         null|   null|white|nonhispanic|     M|  Patras  Achaea  GR|1050 Lindgren Ext...|  Boston|Massachusetts|  Suffolk County|02135| 42.35243426303177|-71.02861042115062|          598763.07|             3772.2|2010-11-20T03:04:34Z|f5dcd418-09fe-4a2...|7ff86631-0378-4bf...|430193006|Medication Reconc...|   788.50|      null|                null|\n",
            "|f5dcd418-09fe-4a2...|1996-10-18|     null|999-60-7372|S99915787|X86772962X|   Mr.|Gregorio366|       Auer97|  null|         null|   null|white|nonhispanic|     M|  Patras  Achaea  GR|1050 Lindgren Ext...|  Boston|Massachusetts|  Suffolk County|02135| 42.35243426303177|-71.02861042115062|          598763.07|             3772.2|2011-02-07T03:04:34Z|f5dcd418-09fe-4a2...|b8f76eba-7795-4dc...|117015009|Throat culture (p...|  2070.44| 195662009|Acute viral phary...|\n",
            "|f5dcd418-09fe-4a2...|1996-10-18|     null|999-60-7372|S99915787|X86772962X|   Mr.|Gregorio366|       Auer97|  null|         null|   null|white|nonhispanic|     M|  Patras  Achaea  GR|1050 Lindgren Ext...|  Boston|Massachusetts|  Suffolk County|02135| 42.35243426303177|-71.02861042115062|          598763.07|             3772.2|2011-04-19T03:04:34Z|f5dcd418-09fe-4a2...|640837d9-845a-433...|117015009|Throat culture (p...|  2479.39| 195662009|Acute viral phary...|\n",
            "+--------------------+----------+---------+-----------+---------+----------+------+-----------+-------------+------+-------------+-------+-----+-----------+------+--------------------+--------------------+--------+-------------+----------------+-----+------------------+------------------+-------------------+-------------------+--------------------+--------------------+--------------------+---------+--------------------+---------+----------+--------------------+\n",
            "only showing top 5 rows\n",
            "\n",
            "Rows count : 34981\n"
          ]
        }
      ]
    },
    {
      "cell_type": "code",
      "source": [
        "temp_RDD = df_patients.join(df_devices, trim(df_patients.PATIENT_ID) == trim(df_devices.PATIENT))\n",
        "temp_RDD.show(5)\n",
        "rows = temp_RDD.count()\n",
        "print(f\"Rows count : {rows}\")"
      ],
      "metadata": {
        "colab": {
          "base_uri": "https://localhost:8080/"
        },
        "id": "Jynkj25m79uT",
        "outputId": "9f1df133-727a-4d2d-8569-c4623f693ec8"
      },
      "execution_count": 29,
      "outputs": [
        {
          "output_type": "stream",
          "name": "stdout",
          "text": [
            "+--------------------+----------+----------+-----------+---------+----------+------+---------+-------------+------+---------------+-------+-----+-----------+------+--------------------+--------------------+-----------+-------------+----------------+----+------------------+------------------+-------------------+-------------------+--------------------+----+--------------------+--------------------+---------+--------------------+--------------------+\n",
            "|          PATIENT_ID| BIRTHDATE| DEATHDATE|        SSN|  DRIVERS|  PASSPORT|PREFIX|    FIRST|         LAST|SUFFIX|         MAIDEN|MARITAL| RACE|  ETHNICITY|GENDER|          BIRTHPLACE|             ADDRESS|       CITY|        STATE|          COUNTY| ZIP|               LAT|               LON|HEALTHCARE_EXPENSES|HEALTHCARE_COVERAGE|               START|STOP|             PATIENT|           ENCOUNTER|     CODE|         DESCRIPTION|                 UDI|\n",
            "+--------------------+----------+----------+-----------+---------+----------+------+---------+-------------+------+---------------+-------+-----+-----------+------+--------------------+--------------------+-----------+-------------+----------------+----+------------------+------------------+-------------------+-------------------+--------------------+----+--------------------+--------------------+---------+--------------------+--------------------+\n",
            "|d49f748f-928d-40e...|1967-06-14|      null|999-15-5162|S99979086|X15362198X|   Mr.|Wesley533|       Rau926|  null|           null|      S|white|nonhispanic|     M|Chicopee  Massach...|  788 Wilderman Vale|New Bedford|Massachusetts|  Bristol County|null|41.651828069867825|-70.98799740134385|         1096170.87| 5593.5599999999995|2001-07-04T08:42:44Z|null|d49f748f-928d-40e...|2500b8bd-dc98-44e...| 72506001|Implantable defib...|(01)6767798860646...|\n",
            "|e05dd037-e45f-434...|1986-08-24|      null|999-55-3968|S99953884|X47091743X|  Mrs.| Jesus702|    Hickle134|  null|Christiansen251|      M|white|nonhispanic|     F|Chicopee  Massach...|    1097 Nader Vista| Framingham|Massachusetts|Middlesex County|null| 42.25807558564613|-71.44884098984971|          691393.45|            9822.64|2010-10-24T05:28:51Z|null|e05dd037-e45f-434...|83cda5b1-4653-432...| 72506001|Implantable defib...|(01)2018059525834...|\n",
            "|0f5646bc-a156-4ec...|1997-12-14|      null|999-45-8311|S99971449|X22361696X|   Mr.|Mickey576|     Crist667|  null|           null|   null|white|nonhispanic|     M|Leominster  Massa...|777 McDermott Pat...|       Lynn|Massachusetts|    Essex County|null|  42.4676385782019|-70.92435306412334|          482002.73|            3627.16|2017-06-04T11:11:47Z|null|0f5646bc-a156-4ec...|7302a9ce-5845-456...| 72506001|Implantable defib...|(01)8798892447844...|\n",
            "|44c8b4c8-4457-4ba...|1941-03-25|1989-01-17|999-33-7429|S99993402|X83558016X|   Mr.| Jamey282|  Hermiston71|  null|           null|      M|asian|nonhispanic|     M|New Bedford  Mass...|780 Okuneva Annex...|    Concord|Massachusetts|Middlesex County|null|  42.4937745084856| -71.4128121495033|          986340.62|            3392.04|1989-01-17T18:12:03Z|null|44c8b4c8-4457-4ba...|7db01f61-e637-4e4...|705643001|Coronary artery s...|(01)3083189516548...|\n",
            "|89752052-a38b-45f...|1954-07-29|      null|999-15-6463|S99971913|X43982733X|  Mrs.|Laverna97|Cartwright189|  null|      Mayert710|      M|white|nonhispanic|     F|Brockton  Massach...|  261 Weber Crossing|  Rochester|Massachusetts| Plymouth County|null|41.783430936595146|-70.82655138321977|          1322856.0|           12597.56|1973-07-19T04:25:46Z|null|89752052-a38b-45f...|e73fe5e1-1b13-436...| 72506001|Implantable defib...|(01)7176772223148...|\n",
            "+--------------------+----------+----------+-----------+---------+----------+------+---------+-------------+------+---------------+-------+-----+-----------+------+--------------------+--------------------+-----------+-------------+----------------+----+------------------+------------------+-------------------+-------------------+--------------------+----+--------------------+--------------------+---------+--------------------+--------------------+\n",
            "only showing top 5 rows\n",
            "\n",
            "Rows count : 78\n"
          ]
        }
      ]
    },
    {
      "cell_type": "code",
      "source": [
        "temp_RDD = df_patients.join(df_allergies, trim(df_patients.PATIENT_ID) == trim(df_allergies.PATIENT))\n",
        "temp_RDD.show(5)\n",
        "rows = temp_RDD.count()\n",
        "print(f\"Rows count : {rows}\")"
      ],
      "metadata": {
        "colab": {
          "base_uri": "https://localhost:8080/"
        },
        "id": "G5Y72cLt9nCy",
        "outputId": "aa47bc32-645f-4f5d-a65d-e12d023f5681"
      },
      "execution_count": 30,
      "outputs": [
        {
          "output_type": "stream",
          "name": "stdout",
          "text": [
            "+--------------------+----------+----------+-----------+---------+----------+------+-----------+-------------+------+------+-------+-----+-----------+------+--------------------+--------------------+-------+-------------+----------------+-----+------------------+------------------+-------------------+-------------------+----------+----+--------------------+--------------------+---------+--------------------+\n",
            "|          PATIENT_ID| BIRTHDATE| DEATHDATE|        SSN|  DRIVERS|  PASSPORT|PREFIX|      FIRST|         LAST|SUFFIX|MAIDEN|MARITAL| RACE|  ETHNICITY|GENDER|          BIRTHPLACE|             ADDRESS|   CITY|        STATE|          COUNTY|  ZIP|               LAT|               LON|HEALTHCARE_EXPENSES|HEALTHCARE_COVERAGE|     START|STOP|             PATIENT|           ENCOUNTER|     CODE|         DESCRIPTION|\n",
            "+--------------------+----------+----------+-----------+---------+----------+------+-----------+-------------+------+------+-------+-----+-----------+------+--------------------+--------------------+-------+-------------+----------------+-----+------------------+------------------+-------------------+-------------------+----------+----+--------------------+--------------------+---------+--------------------+\n",
            "|76982e06-f8b8-450...|1982-09-01|      null|999-21-5604|S99957470|X55072337X|   Ms.|Christal240|      Brown30|  null|  null|      S|white|nonhispanic|     F|Bellingham  Massa...|1060 Hansen Overp...| Boston|Massachusetts|  Suffolk County|02118|42.284598473357775|-71.13449674876126|          779464.29| 11713.809999999998|1982-10-25|null|76982e06-f8b8-450...|b896bf40-8b72-42b...|300913006|   Shellfish allergy|\n",
            "|76982e06-f8b8-450...|1982-09-01|      null|999-21-5604|S99957470|X55072337X|   Ms.|Christal240|      Brown30|  null|  null|      S|white|nonhispanic|     F|Bellingham  Massa...|1060 Hansen Overp...| Boston|Massachusetts|  Suffolk County|02118|42.284598473357775|-71.13449674876126|          779464.29| 11713.809999999998|1982-10-25|null|76982e06-f8b8-450...|b896bf40-8b72-42b...|300916003|       Latex allergy|\n",
            "|71ba0469-f0cc-417...|2000-11-21|2012-11-21|999-28-2716|     null|      null|  null|Carmelia328|Konopelski743|  null|  null|   null|white|nonhispanic|     F|Lee  Massachusett...| 1025 Collier Arcade|Ashland|Massachusetts|Middlesex County| null|  42.2919859634347| -71.4637238426449|          268920.58|  9406.689999999995|2002-01-25|null|71ba0469-f0cc-417...|7be1a590-4239-482...|417532002|     Allergy to fish|\n",
            "|71ba0469-f0cc-417...|2000-11-21|2012-11-21|999-28-2716|     null|      null|  null|Carmelia328|Konopelski743|  null|  null|   null|white|nonhispanic|     F|Lee  Massachusett...| 1025 Collier Arcade|Ashland|Massachusetts|Middlesex County| null|  42.2919859634347| -71.4637238426449|          268920.58|  9406.689999999995|2002-01-25|null|71ba0469-f0cc-417...|7be1a590-4239-482...|714035009|     Allergy to soya|\n",
            "|71ba0469-f0cc-417...|2000-11-21|2012-11-21|999-28-2716|     null|      null|  null|Carmelia328|Konopelski743|  null|  null|   null|white|nonhispanic|     F|Lee  Massachusett...| 1025 Collier Arcade|Ashland|Massachusetts|Middlesex County| null|  42.2919859634347| -71.4637238426449|          268920.58|  9406.689999999995|2002-01-25|null|71ba0469-f0cc-417...|7be1a590-4239-482...|419263009|Allergy to tree p...|\n",
            "+--------------------+----------+----------+-----------+---------+----------+------+-----------+-------------+------+------+-------+-----+-----------+------+--------------------+--------------------+-------+-------------+----------------+-----+------------------+------------------+-------------------+-------------------+----------+----+--------------------+--------------------+---------+--------------------+\n",
            "only showing top 5 rows\n",
            "\n",
            "Rows count : 597\n"
          ]
        }
      ]
    },
    {
      "cell_type": "code",
      "source": [
        "temp_RDD = df_patients.join(df_conditions, trim(df_patients.PATIENT_ID) == trim(df_conditions.PATIENT))\n",
        "temp_RDD.show(5)\n",
        "rows = temp_RDD.count()\n",
        "print(f\"Rows count : {rows}\")"
      ],
      "metadata": {
        "colab": {
          "base_uri": "https://localhost:8080/"
        },
        "id": "BFqLbj7G9nU1",
        "outputId": "b54caf2d-a3b3-4660-f689-c13548a38648"
      },
      "execution_count": 31,
      "outputs": [
        {
          "output_type": "stream",
          "name": "stdout",
          "text": [
            "+--------------------+----------+---------+-----------+---------+----------+------+---------------+-------------+------+-------------+-------+-----+-----------+------+--------------------+--------------------+--------+-------------+----------------+-----+------------------+------------------+-------------------+-------------------+----------+----------+--------------------+--------------------+---------+--------------------+\n",
            "|          PATIENT_ID| BIRTHDATE|DEATHDATE|        SSN|  DRIVERS|  PASSPORT|PREFIX|          FIRST|         LAST|SUFFIX|       MAIDEN|MARITAL| RACE|  ETHNICITY|GENDER|          BIRTHPLACE|             ADDRESS|    CITY|        STATE|          COUNTY|  ZIP|               LAT|               LON|HEALTHCARE_EXPENSES|HEALTHCARE_COVERAGE|     START|      STOP|             PATIENT|           ENCOUNTER|     CODE|         DESCRIPTION|\n",
            "+--------------------+----------+---------+-----------+---------+----------+------+---------------+-------------+------+-------------+-------+-----+-----------+------+--------------------+--------------------+--------+-------------+----------------+-----+------------------+------------------+-------------------+-------------------+----------+----------+--------------------+--------------------+---------+--------------------+\n",
            "|1d604da9-9a81-4ba...|1989-05-25|     null|999-76-6866|S99984236|X19277260X|   Mr.|José Eduardo181|     Gómez206|  null|         null|      M|white|   hispanic|     M|Marigot  Saint An...|427 Balistreri Wa...|Chicopee|Massachusetts|  Hampden County|01013| 42.22835382315942|-72.56295055096882|          271227.08| 1334.8799999999999|2001-05-01|      null|1d604da9-9a81-4ba...|8f104aa7-4ca9-447...| 40055000|Chronic sinusitis...|\n",
            "|8d4c4326-e9de-4f4...|1978-05-27|     null|999-85-4926|S99974448|X40915583X|  Mrs.|     Mariana775|Rutherford999|  null|Williamson769|      M|white|nonhispanic|     F|Yarmouth  Massach...|      999 Kuhn Forge|  Lowell|Massachusetts|Middlesex County|01851| 42.63614335069588| -71.3432549217789|           935630.3|  8756.189999999999|2011-08-09|2011-08-16|8d4c4326-e9de-4f4...|9d35ec9f-352a-462...|444814009|Viral sinusitis (...|\n",
            "|8d4c4326-e9de-4f4...|1978-05-27|     null|999-85-4926|S99974448|X40915583X|  Mrs.|     Mariana775|Rutherford999|  null|Williamson769|      M|white|nonhispanic|     F|Yarmouth  Massach...|      999 Kuhn Forge|  Lowell|Massachusetts|Middlesex County|01851| 42.63614335069588| -71.3432549217789|           935630.3|  8756.189999999999|2011-11-16|2011-11-26|8d4c4326-e9de-4f4...|ae7555a9-eaff-4c0...|195662009|Acute viral phary...|\n",
            "|10339b10-3cd1-4ac...|1992-06-02|     null|999-27-3385|S99972682|X73754411X|   Mr.|      Jayson808|     Fadel536|  null|         null|      M|white|nonhispanic|     M|Springfield  Mass...|1056 Harris Lane ...|Chicopee|Massachusetts|  Hampden County|01020|42.181642300277424|-72.60884222581657|           574111.9| 2606.3999999999996|2011-05-13|2011-05-27|10339b10-3cd1-4ac...|e1ab4933-07a1-49f...| 10509002|Acute bronchitis ...|\n",
            "|f5dcd418-09fe-4a2...|1996-10-18|     null|999-60-7372|S99915787|X86772962X|   Mr.|    Gregorio366|       Auer97|  null|         null|   null|white|nonhispanic|     M|  Patras  Achaea  GR|1050 Lindgren Ext...|  Boston|Massachusetts|  Suffolk County|02135| 42.35243426303177|-71.02861042115062|          598763.07|             3772.2|2011-02-06|2011-02-14|f5dcd418-09fe-4a2...|b8f76eba-7795-4dc...|195662009|Acute viral phary...|\n",
            "+--------------------+----------+---------+-----------+---------+----------+------+---------------+-------------+------+-------------+-------+-----+-----------+------+--------------------+--------------------+--------+-------------+----------------+-----+------------------+------------------+-------------------+-------------------+----------+----------+--------------------+--------------------+---------+--------------------+\n",
            "only showing top 5 rows\n",
            "\n",
            "Rows count : 8376\n"
          ]
        }
      ]
    },
    {
      "cell_type": "code",
      "source": [
        "temp_RDD = df_patients.join(df_medications, trim(df_patients.PATIENT_ID) == trim(df_medications.PATIENT))\n",
        "temp_RDD.show(5)\n",
        "rows = temp_RDD.count()\n",
        "print(f\"Rows count : {rows}\")"
      ],
      "metadata": {
        "colab": {
          "base_uri": "https://localhost:8080/"
        },
        "id": "Cxsc9Rxp-Xqm",
        "outputId": "d3710edd-a285-4d75-f024-ee2452b7b76d"
      },
      "execution_count": 32,
      "outputs": [
        {
          "output_type": "stream",
          "name": "stdout",
          "text": [
            "+--------------------+----------+---------+-----------+---------+----------+------+---------------+-------------+------+-------------+-------+-----+-----------+------+--------------------+--------------------+--------+-------------+----------------+-----+------------------+------------------+-------------------+-------------------+--------------------+--------------------+--------------------+--------------------+--------------------+------+--------------------+---------+--------------+---------+---------+----------+--------------------+\n",
            "|          PATIENT_ID| BIRTHDATE|DEATHDATE|        SSN|  DRIVERS|  PASSPORT|PREFIX|          FIRST|         LAST|SUFFIX|       MAIDEN|MARITAL| RACE|  ETHNICITY|GENDER|          BIRTHPLACE|             ADDRESS|    CITY|        STATE|          COUNTY|  ZIP|               LAT|               LON|HEALTHCARE_EXPENSES|HEALTHCARE_COVERAGE|               START|                STOP|             PATIENT|               PAYER|           ENCOUNTER|  CODE|         DESCRIPTION|BASE_COST|PAYER_COVERAGE|DISPENSES|TOTALCOST|REASONCODE|   REASONDESCRIPTION|\n",
            "+--------------------+----------+---------+-----------+---------+----------+------+---------------+-------------+------+-------------+-------+-----+-----------+------+--------------------+--------------------+--------+-------------+----------------+-----+------------------+------------------+-------------------+-------------------+--------------------+--------------------+--------------------+--------------------+--------------------+------+--------------------+---------+--------------+---------+---------+----------+--------------------+\n",
            "|8d4c4326-e9de-4f4...|1978-05-27|     null|999-85-4926|S99974448|X40915583X|  Mrs.|     Mariana775|Rutherford999|  null|Williamson769|      M|white|nonhispanic|     F|Yarmouth  Massach...|      999 Kuhn Forge|  Lowell|Massachusetts|Middlesex County|01851| 42.63614335069588| -71.3432549217789|           935630.3|  8756.189999999999|2010-05-05T00:26:23Z|2011-04-30T00:26:23Z|8d4c4326-e9de-4f4...|b1c428d6-4f07-31e...|1e0d6b0e-1711-4a2...|389221|Etonogestrel 68 M...|   677.08|          0.00|       12|  8124.96|      null|                null|\n",
            "|8d4c4326-e9de-4f4...|1978-05-27|     null|999-85-4926|S99974448|X40915583X|  Mrs.|     Mariana775|Rutherford999|  null|Williamson769|      M|white|nonhispanic|     F|Yarmouth  Massach...|      999 Kuhn Forge|  Lowell|Massachusetts|Middlesex County|01851| 42.63614335069588| -71.3432549217789|           935630.3|  8756.189999999999|2011-04-30T00:26:23Z|2012-04-24T00:26:23Z|8d4c4326-e9de-4f4...|b1c428d6-4f07-31e...|6aa37300-d1b4-48e...|389221|Etonogestrel 68 M...|   624.09|          0.00|       12|  7489.08|      null|                null|\n",
            "|8d4c4326-e9de-4f4...|1978-05-27|     null|999-85-4926|S99974448|X40915583X|  Mrs.|     Mariana775|Rutherford999|  null|Williamson769|      M|white|nonhispanic|     F|Yarmouth  Massach...|      999 Kuhn Forge|  Lowell|Massachusetts|Middlesex County|01851| 42.63614335069588| -71.3432549217789|           935630.3|  8756.189999999999|2012-04-24T00:26:23Z|2013-04-19T00:26:23Z|8d4c4326-e9de-4f4...|b1c428d6-4f07-31e...|7253a9f9-6f6d-429...|748856|     Yaz 28 Day Pack|    43.32|          0.00|       12|   519.84|      null|                null|\n",
            "|10339b10-3cd1-4ac...|1992-06-02|     null|999-27-3385|S99972682|X73754411X|   Mr.|      Jayson808|     Fadel536|  null|         null|      M|white|nonhispanic|     M|Springfield  Mass...|1056 Harris Lane ...|Chicopee|Massachusetts|  Hampden County|01020|42.181642300277424|-72.60884222581657|           574111.9| 2606.3999999999996|2011-05-13T12:58:08Z|2011-05-27T12:58:08Z|10339b10-3cd1-4ac...|d47b3510-2895-3b7...|e1ab4933-07a1-49f...|313782|Acetaminophen 325...|     8.14|          0.00|        1|     8.14|  10509002|Acute bronchitis ...|\n",
            "|1d604da9-9a81-4ba...|1989-05-25|     null|999-76-6866|S99984236|X19277260X|   Mr.|José Eduardo181|     Gómez206|  null|         null|      M|white|   hispanic|     M|Marigot  Saint An...|427 Balistreri Wa...|Chicopee|Massachusetts|  Hampden County|01013| 42.22835382315942|-72.56295055096882|          271227.08| 1334.8799999999999|2011-12-08T15:02:18Z|2011-12-22T15:02:18Z|1d604da9-9a81-4ba...|b1c428d6-4f07-31e...|792fae81-a007-44b...|562251|Amoxicillin 250 M...|    11.91|          0.00|        1|    11.91| 444814009|Viral sinusitis (...|\n",
            "+--------------------+----------+---------+-----------+---------+----------+------+---------------+-------------+------+-------------+-------+-----+-----------+------+--------------------+--------------------+--------+-------------+----------------+-----+------------------+------------------+-------------------+-------------------+--------------------+--------------------+--------------------+--------------------+--------------------+------+--------------------+---------+--------------+---------+---------+----------+--------------------+\n",
            "only showing top 5 rows\n",
            "\n",
            "Rows count : 42989\n"
          ]
        }
      ]
    },
    {
      "cell_type": "code",
      "source": [
        "\n",
        "temp_RDD = df_patients.join(df_medications, trim(df_patients.PATIENT_ID) == trim(df_medications.PATIENT))\n",
        "temp_RDD.show(5)\n",
        "rows = temp_RDD.count()\n",
        "print(f\"Rows count : {rows}\")"
      ],
      "metadata": {
        "id": "STdyj_aiNODw"
      },
      "execution_count": null,
      "outputs": []
    },
    {
      "cell_type": "code",
      "source": [],
      "metadata": {
        "id": "Njtd7vLJNTfX"
      },
      "execution_count": null,
      "outputs": []
    },
    {
      "cell_type": "markdown",
      "source": [
        "----"
      ],
      "metadata": {
        "id": "LmAa7VZHdmir"
      }
    },
    {
      "cell_type": "code",
      "source": [
        "#ta = df_conditions.alias('ta')\n",
        "#tb = df_immunizations.alias('tb')\n",
        "#inner_join = ta.join(tb, ta.name == tb.name)\n",
        "#inner_join.show()"
      ],
      "metadata": {
        "id": "kuCgYvqJxEg5"
      },
      "execution_count": 33,
      "outputs": []
    },
    {
      "cell_type": "code",
      "source": [
        "pat_enc.filter(\"PAYER_COVERAGE is null\").show()"
      ],
      "metadata": {
        "id": "_PapJ9Hn8Rz9"
      },
      "execution_count": 33,
      "outputs": []
    }
  ]
}