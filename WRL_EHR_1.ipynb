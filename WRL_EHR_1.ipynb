{
  "nbformat": 4,
  "nbformat_minor": 0,
  "metadata": {
    "colab": {
      "provenance": [],
      "mount_file_id": "167_cIWHfqkVjLYM14l4Uzo1JrzGlPeO6",
      "authorship_tag": "ABX9TyOCJt8Mej0NzDTWT1UzeOu7",
      "include_colab_link": true
    },
    "kernelspec": {
      "name": "python3",
      "display_name": "Python 3"
    },
    "language_info": {
      "name": "python"
    }
  },
  "cells": [
    {
      "cell_type": "markdown",
      "metadata": {
        "id": "view-in-github",
        "colab_type": "text"
      },
      "source": [
        "<a href=\"https://colab.research.google.com/github/sunil-karki/EHR/blob/main/WRL_EHR_1.ipynb\" target=\"_parent\"><img src=\"https://colab.research.google.com/assets/colab-badge.svg\" alt=\"Open In Colab\"/></a>"
      ]
    },
    {
      "cell_type": "markdown",
      "source": [
        "##  Coursework on module \"Work Related Learning(WRL)\"\n",
        "----\n",
        "###  _WRL Task on \"US Electronic Health Record(EHR data)\"_\n",
        "\\\n",
        "#### Islington College, Kathmandu\n",
        "#### London Metropolitan University\n",
        "\\\n",
        "##### Prepared by:  Sunil Karki\n",
        "#####               LondonMet ID: \n",
        "#####               College ID:"
      ],
      "metadata": {
        "id": "WeYBe_kQLKJ6"
      }
    },
    {
      "cell_type": "code",
      "source": [
        "# Install necessary packages for WRL\n",
        "\n",
        "# Install pyspark\n",
        "!pip install pyspark"
      ],
      "metadata": {
        "colab": {
          "base_uri": "https://localhost:8080/"
        },
        "id": "jVvROMd02XoG",
        "outputId": "0a91cd25-2312-4381-c884-dbeb177cc63d"
      },
      "execution_count": 1,
      "outputs": [
        {
          "output_type": "stream",
          "name": "stdout",
          "text": [
            "Looking in indexes: https://pypi.org/simple, https://us-python.pkg.dev/colab-wheels/public/simple/\n",
            "Collecting pyspark\n",
            "  Downloading pyspark-3.3.1.tar.gz (281.4 MB)\n",
            "\u001b[K     |████████████████████████████████| 281.4 MB 57 kB/s \n",
            "\u001b[?25hCollecting py4j==0.10.9.5\n",
            "  Downloading py4j-0.10.9.5-py2.py3-none-any.whl (199 kB)\n",
            "\u001b[K     |████████████████████████████████| 199 kB 87.4 MB/s \n",
            "\u001b[?25hBuilding wheels for collected packages: pyspark\n",
            "  Building wheel for pyspark (setup.py) ... \u001b[?25l\u001b[?25hdone\n",
            "  Created wheel for pyspark: filename=pyspark-3.3.1-py2.py3-none-any.whl size=281845512 sha256=a4edd7b641c05db424f97c77e1db32f2308df250ecf9e5ec9a3213eba2f6a5cd\n",
            "  Stored in directory: /root/.cache/pip/wheels/42/59/f5/79a5bf931714dcd201b26025347785f087370a10a3329a899c\n",
            "Successfully built pyspark\n",
            "Installing collected packages: py4j, pyspark\n",
            "Successfully installed py4j-0.10.9.5 pyspark-3.3.1\n"
          ]
        }
      ]
    },
    {
      "cell_type": "code",
      "source": [
        "# Import SparkSession\n",
        "from pyspark.sql import SparkSession\n",
        "# Import Spark functions\n",
        "from pyspark.sql.functions import trim, col, floor, datediff, current_timestamp, \\\n",
        "                                  to_date, lit, when, round, udf\n",
        "#import IntegerType method from sql.types\n",
        "from pyspark.sql.types import IntegerType\n",
        "\n",
        "#Import seaborn\n",
        "import seaborn as sns\n",
        "sns.set(rc = {'figure.figsize':(14,5)})"
      ],
      "metadata": {
        "id": "cKhSJgq52J8s"
      },
      "execution_count": 2,
      "outputs": []
    },
    {
      "cell_type": "code",
      "source": [
        "# Create a Spark Session\n",
        "spark = SparkSession.builder.appName(\"WRL Test\").master(\"local[*]\").getOrCreate()\n",
        "# Check Spark Session Information\n",
        "spark"
      ],
      "metadata": {
        "colab": {
          "base_uri": "https://localhost:8080/",
          "height": 219
        },
        "id": "apErc3qO33VU",
        "outputId": "36293439-b5d2-492c-c7f8-fbfd10dc0e35"
      },
      "execution_count": 3,
      "outputs": [
        {
          "output_type": "execute_result",
          "data": {
            "text/plain": [
              "<pyspark.sql.session.SparkSession at 0x7f36352fd5d0>"
            ],
            "text/html": [
              "\n",
              "            <div>\n",
              "                <p><b>SparkSession - in-memory</b></p>\n",
              "                \n",
              "        <div>\n",
              "            <p><b>SparkContext</b></p>\n",
              "\n",
              "            <p><a href=\"http://58cd54265532:4040\">Spark UI</a></p>\n",
              "\n",
              "            <dl>\n",
              "              <dt>Version</dt>\n",
              "                <dd><code>v3.3.1</code></dd>\n",
              "              <dt>Master</dt>\n",
              "                <dd><code>local[*]</code></dd>\n",
              "              <dt>AppName</dt>\n",
              "                <dd><code>WRL Test</code></dd>\n",
              "            </dl>\n",
              "        </div>\n",
              "        \n",
              "            </div>\n",
              "        "
            ]
          },
          "metadata": {},
          "execution_count": 3
        }
      ]
    },
    {
      "cell_type": "code",
      "source": [
        "#spark.version"
      ],
      "metadata": {
        "id": "Z0OkzGhT2YoU"
      },
      "execution_count": 4,
      "outputs": []
    },
    {
      "cell_type": "code",
      "source": [
        "sns.set(color_codes=True)\n",
        "sns.set(style=\"whitegrid\", palette=\"pastel\")"
      ],
      "metadata": {
        "id": "3hDjUhefeAmF"
      },
      "execution_count": null,
      "outputs": []
    },
    {
      "cell_type": "markdown",
      "source": [
        "Import all source files\n",
        "-------------------------------------------------------\n",
        "Source data: Synthetic Patient Generation Realistic Health Data\n",
        "\n",
        "Link:-  https://synthetichealth.github.io/synthea/"
      ],
      "metadata": {
        "id": "x0RgihZl4MDH"
      }
    },
    {
      "cell_type": "code",
      "execution_count": 5,
      "metadata": {
        "id": "UZy3ClrPt7da"
      },
      "outputs": [],
      "source": [
        "#RDD_allergies = sc.textFile(\"/content/drive/MyDrive/Islington/Year 2 Sem 3/WRL/Work/synthea_sample_data_csv_apr2020/csv/allergies.csv\")\n",
        "df_allergies = spark.read.format(\"csv\").option(\"header\",\"true\").load(\"/content/drive/MyDrive/Islington/Year 2 Sem 3/WRL/Work/synthea_sample_data_csv_apr2020/csv/allergies.csv\")\n",
        "df_careplans = spark.read.format(\"csv\").option(\"header\",\"true\").load(\"/content/drive/MyDrive/Islington/Year 2 Sem 3/WRL/Work/synthea_sample_data_csv_apr2020/csv/careplans.csv\")\n",
        "df_conditions = spark.read.format(\"csv\").option(\"header\",\"true\").load(\"/content/drive/MyDrive/Islington/Year 2 Sem 3/WRL/Work/synthea_sample_data_csv_apr2020/csv/conditions.csv\")\n",
        "df_devices = spark.read.format(\"csv\").option(\"header\",\"true\").load(\"/content/drive/MyDrive/Islington/Year 2 Sem 3/WRL/Work/synthea_sample_data_csv_apr2020/csv/devices.csv\")\n",
        "df_encounters = spark.read.format(\"csv\").option(\"header\",\"true\").load(\"/content/drive/MyDrive/Islington/Year 2 Sem 3/WRL/Work/synthea_sample_data_csv_apr2020/csv/encounters.csv\")\n",
        "df_img_studies = spark.read.format(\"csv\").option(\"header\",\"true\").load(\"/content/drive/MyDrive/Islington/Year 2 Sem 3/WRL/Work/synthea_sample_data_csv_apr2020/csv/imaging_studies.csv\")\n",
        "df_immunizations = spark.read.format(\"csv\").option(\"header\",\"true\").load(\"/content/drive/MyDrive/Islington/Year 2 Sem 3/WRL/Work/synthea_sample_data_csv_apr2020/csv/immunizations.csv\")\n",
        "df_medications = spark.read.format(\"csv\").option(\"header\",\"true\").load(\"/content/drive/MyDrive/Islington/Year 2 Sem 3/WRL/Work/synthea_sample_data_csv_apr2020/csv/medications.csv\")\n",
        "df_observations = spark.read.format(\"csv\").option(\"header\",\"true\").load(\"/content/drive/MyDrive/Islington/Year 2 Sem 3/WRL/Work/synthea_sample_data_csv_apr2020/csv/observations.csv\")\n",
        "df_organizations = spark.read.format(\"csv\").option(\"header\",\"true\").load(\"/content/drive/MyDrive/Islington/Year 2 Sem 3/WRL/Work/synthea_sample_data_csv_apr2020/csv/organizations.csv\")\n",
        "df_patients = spark.read.format(\"csv\").option(\"header\",\"true\").load(\"/content/drive/MyDrive/Islington/Year 2 Sem 3/WRL/Work/synthea_sample_data_csv_apr2020/csv/patients.csv\")\n",
        "df_pyr_transitions = spark.read.format(\"csv\").option(\"header\",\"true\").load(\"/content/drive/MyDrive/Islington/Year 2 Sem 3/WRL/Work/synthea_sample_data_csv_apr2020/csv/payer_transitions.csv\")\n",
        "df_pyr = spark.read.format(\"csv\").option(\"header\",\"true\").load(\"/content/drive/MyDrive/Islington/Year 2 Sem 3/WRL/Work/synthea_sample_data_csv_apr2020/csv/payers.csv\")\n",
        "df_procedures = spark.read.format(\"csv\").option(\"header\",\"true\").load(\"/content/drive/MyDrive/Islington/Year 2 Sem 3/WRL/Work/synthea_sample_data_csv_apr2020/csv/procedures.csv\")\n",
        "df_providers = spark.read.format(\"csv\").option(\"header\",\"true\").load(\"/content/drive/MyDrive/Islington/Year 2 Sem 3/WRL/Work/synthea_sample_data_csv_apr2020/csv/providers.csv\")\n",
        "df_supplies = spark.read.format(\"csv\").option(\"header\",\"true\").load(\"/content/drive/MyDrive/Islington/Year 2 Sem 3/WRL/Work/synthea_sample_data_csv_apr2020/csv/supplies.csv\")"
      ]
    },
    {
      "cell_type": "code",
      "source": [
        "#df_patients = spark.read.format(\"csv\").option(\"header\",\"true\").load(\"/content/drive/MyDrive/Islington/Year 2 Sem 3/WRL/Work/synthea_sample_data_csv_apr2020/csv/patients.csv\")"
      ],
      "metadata": {
        "id": "3jQH_8u70IHC"
      },
      "execution_count": 63,
      "outputs": []
    },
    {
      "cell_type": "code",
      "source": [
        "df_supplies"
      ],
      "metadata": {
        "colab": {
          "base_uri": "https://localhost:8080/"
        },
        "id": "0PvMx9piVOQN",
        "outputId": "56f07703-be88-4e8e-f26d-1dc71ea52b5c"
      },
      "execution_count": 7,
      "outputs": [
        {
          "output_type": "execute_result",
          "data": {
            "text/plain": [
              "DataFrame[DATE: string, PATIENT: string, ENCOUNTER: string, CODE: string, DESCRIPTION: string, QUANTITY: string]"
            ]
          },
          "metadata": {},
          "execution_count": 7
        }
      ]
    },
    {
      "cell_type": "code",
      "source": [
        "df_allergies.show(5)\n",
        "rows = df_allergies.count()\n",
        "print(f\"Rows count : {rows}\")"
      ],
      "metadata": {
        "colab": {
          "base_uri": "https://localhost:8080/"
        },
        "id": "APyxUHxUFF6E",
        "outputId": "f97396ca-a452-4834-9847-1d2bab9705b3"
      },
      "execution_count": 8,
      "outputs": [
        {
          "output_type": "stream",
          "name": "stdout",
          "text": [
            "+----------+----+--------------------+--------------------+---------+--------------------+\n",
            "|     START|STOP|             PATIENT|           ENCOUNTER|     CODE|         DESCRIPTION|\n",
            "+----------+----+--------------------+--------------------+---------+--------------------+\n",
            "|1982-10-25|null|76982e06-f8b8-450...|b896bf40-8b72-42b...|300916003|       Latex allergy|\n",
            "|1982-10-25|null|76982e06-f8b8-450...|b896bf40-8b72-42b...|300913006|   Shellfish allergy|\n",
            "|2002-01-25|null|71ba0469-f0cc-417...|7be1a590-4239-482...|419474003|    Allergy to mould|\n",
            "|2002-01-25|null|71ba0469-f0cc-417...|7be1a590-4239-482...|232347008|Dander (animal) a...|\n",
            "|2002-01-25|null|71ba0469-f0cc-417...|7be1a590-4239-482...|418689008|Allergy to grass ...|\n",
            "+----------+----+--------------------+--------------------+---------+--------------------+\n",
            "only showing top 5 rows\n",
            "\n",
            "Rows count : 597\n"
          ]
        }
      ]
    },
    {
      "cell_type": "code",
      "source": [
        "df_careplans.show(5)\n",
        "rows = df_careplans.count()\n",
        "print(f\"Rows count : {rows}\")"
      ],
      "metadata": {
        "colab": {
          "base_uri": "https://localhost:8080/"
        },
        "id": "DJikYM9JFGHd",
        "outputId": "f58092f1-d129-48ee-c21b-64f9c837d8a8"
      },
      "execution_count": 9,
      "outputs": [
        {
          "output_type": "stream",
          "name": "stdout",
          "text": [
            "+--------------------+----------+----------+--------------------+--------------------+---------+-------------------+----------+--------------------+\n",
            "|                  Id|     START|      STOP|             PATIENT|           ENCOUNTER|     CODE|        DESCRIPTION|REASONCODE|   REASONDESCRIPTION|\n",
            "+--------------------+----------+----------+--------------------+--------------------+---------+-------------------+----------+--------------------+\n",
            "|d2500b8c-e830-433...|2010-01-23|2012-01-23|034e9e3b-2def-455...|d0c40d10-8d87-447...| 53950000|Respiratory therapy|  10509002|Acute bronchitis ...|\n",
            "|07d9ddd8-dfa1-4e4...|2011-05-13|2011-08-02|10339b10-3cd1-4ac...|e1ab4933-07a1-49f...| 53950000|Respiratory therapy|  10509002|Acute bronchitis ...|\n",
            "|a3bb6e99-3b99-44b...|2011-12-31|2012-11-30|f5dcd418-09fe-4a2...|16300c56-a035-412...| 53950000|Respiratory therapy|  10509002|Acute bronchitis ...|\n",
            "|9f5284b7-425a-486...|2016-12-29|2017-01-05|034e9e3b-2def-455...|3b639086-5fbc-472...| 53950000|Respiratory therapy|  10509002|Acute bronchitis ...|\n",
            "|47ede16c-c216-4f8...|2017-01-22|2017-02-12|10339b10-3cd1-4ac...|4ec8d55b-05fc-42a...|225358003|         Wound care| 284551006|  Laceration of foot|\n",
            "+--------------------+----------+----------+--------------------+--------------------+---------+-------------------+----------+--------------------+\n",
            "only showing top 5 rows\n",
            "\n",
            "Rows count : 3483\n"
          ]
        }
      ]
    },
    {
      "cell_type": "code",
      "source": [
        "df_conditions.show(5)\n",
        "rows = df_conditions.count()\n",
        "print(f\"Rows count : {rows}\")"
      ],
      "metadata": {
        "colab": {
          "base_uri": "https://localhost:8080/"
        },
        "id": "c9ILHaE3FGTj",
        "outputId": "fdb83940-4660-4cee-96ca-8ebb043990ac"
      },
      "execution_count": 10,
      "outputs": [
        {
          "output_type": "stream",
          "name": "stdout",
          "text": [
            "+----------+----------+--------------------+--------------------+---------+--------------------+\n",
            "|     START|      STOP|             PATIENT|           ENCOUNTER|     CODE|         DESCRIPTION|\n",
            "+----------+----------+--------------------+--------------------+---------+--------------------+\n",
            "|2001-05-01|      null|1d604da9-9a81-4ba...|8f104aa7-4ca9-447...| 40055000|Chronic sinusitis...|\n",
            "|2011-08-09|2011-08-16|8d4c4326-e9de-4f4...|9d35ec9f-352a-462...|444814009|Viral sinusitis (...|\n",
            "|2011-11-16|2011-11-26|8d4c4326-e9de-4f4...|ae7555a9-eaff-4c0...|195662009|Acute viral phary...|\n",
            "|2011-05-13|2011-05-27|10339b10-3cd1-4ac...|e1ab4933-07a1-49f...| 10509002|Acute bronchitis ...|\n",
            "|2011-02-06|2011-02-14|f5dcd418-09fe-4a2...|b8f76eba-7795-4dc...|195662009|Acute viral phary...|\n",
            "+----------+----------+--------------------+--------------------+---------+--------------------+\n",
            "only showing top 5 rows\n",
            "\n",
            "Rows count : 8376\n"
          ]
        }
      ]
    },
    {
      "cell_type": "code",
      "source": [
        "df_devices.show(5)\n",
        "rows = df_devices.count()\n",
        "print(f\"Rows count : {rows}\")"
      ],
      "metadata": {
        "colab": {
          "base_uri": "https://localhost:8080/"
        },
        "id": "GTsxxsUnFGfd",
        "outputId": "98d3dde2-b55a-4b1f-8277-24824235ecf4"
      },
      "execution_count": 11,
      "outputs": [
        {
          "output_type": "stream",
          "name": "stdout",
          "text": [
            "+--------------------+----+--------------------+--------------------+---------+--------------------+--------------------+\n",
            "|               START|STOP|             PATIENT|           ENCOUNTER|     CODE|         DESCRIPTION|                 UDI|\n",
            "+--------------------+----+--------------------+--------------------+---------+--------------------+--------------------+\n",
            "|2001-07-04T08:42:44Z|null|d49f748f-928d-40e...|2500b8bd-dc98-44e...| 72506001|Implantable defib...|(01)6767798860646...|\n",
            "|2010-10-24T05:28:51Z|null|e05dd037-e45f-434...|83cda5b1-4653-432...| 72506001|Implantable defib...|(01)2018059525834...|\n",
            "|2017-06-04T11:11:47Z|null|0f5646bc-a156-4ec...|7302a9ce-5845-456...| 72506001|Implantable defib...|(01)8798892447844...|\n",
            "|1989-01-17T18:12:03Z|null|44c8b4c8-4457-4ba...|7db01f61-e637-4e4...|705643001|Coronary artery s...|(01)3083189516548...|\n",
            "|1973-07-19T04:25:46Z|null|89752052-a38b-45f...|e73fe5e1-1b13-436...| 72506001|Implantable defib...|(01)7176772223148...|\n",
            "+--------------------+----+--------------------+--------------------+---------+--------------------+--------------------+\n",
            "only showing top 5 rows\n",
            "\n",
            "Rows count : 78\n"
          ]
        }
      ]
    },
    {
      "cell_type": "code",
      "source": [
        "#An interaction between a patient and healthcare provider(s) for the purpose of providing healthcare service(s) or assessing the health status of a patient.\n",
        "df_encounters.show(5)\n",
        "rows = df_encounters.count()\n",
        "print(f\"Rows count : {rows}\")"
      ],
      "metadata": {
        "colab": {
          "base_uri": "https://localhost:8080/"
        },
        "id": "xw8M87tyFGpC",
        "outputId": "eb4ad557-68a5-4964-df07-453ba91da300"
      },
      "execution_count": 12,
      "outputs": [
        {
          "output_type": "stream",
          "name": "stdout",
          "text": [
            "+--------------------+--------------------+--------------------+--------------------+--------------------+--------------------+--------------------+--------------+---------+--------------------+-------------------+----------------+--------------+----------+--------------------+\n",
            "|                  Id|               START|                STOP|             PATIENT|        ORGANIZATION|            PROVIDER|               PAYER|ENCOUNTERCLASS|     CODE|         DESCRIPTION|BASE_ENCOUNTER_COST|TOTAL_CLAIM_COST|PAYER_COVERAGE|REASONCODE|   REASONDESCRIPTION|\n",
            "+--------------------+--------------------+--------------------+--------------------+--------------------+--------------------+--------------------+--------------+---------+--------------------+-------------------+----------------+--------------+----------+--------------------+\n",
            "|d0c40d10-8d87-447...|2010-01-23T17:45:28Z|2010-01-23T18:10:28Z|034e9e3b-2def-455...|e002090d-4e92-300...|e6283e46-fd81-361...|6e2f1a2d-27bd-370...|    ambulatory|185345009|Encounter for sym...|             129.16|          129.16|         54.16|  10509002|Acute bronchitis ...|\n",
            "|e88bc3a9-007c-405...|2012-01-23T17:45:28Z|2012-01-23T18:00:28Z|034e9e3b-2def-455...|772ee193-bb9f-30e...|6f1d59a7-a5bd-3cf...|6e2f1a2d-27bd-370...|      wellness|162673000|General examinati...|             129.16|          129.16|        129.16|      null|                null|\n",
            "|8f104aa7-4ca9-447...|2001-05-01T15:02:18Z|2001-05-01T15:17:18Z|1d604da9-9a81-4ba...|5d4b9df1-93ae-3bc...|af01a385-31d3-3c7...|b1c428d6-4f07-31e...|    ambulatory|185345009|Encounter for sym...|             129.16|          129.16|          0.00|  36971009|Sinusitis (disorder)|\n",
            "|b85c339a-6076-43e...|2011-07-28T15:02:18Z|2011-07-28T15:17:18Z|1d604da9-9a81-4ba...|3dc9bb2d-5d66-3e6...|bb17e691-262b-354...|b1c428d6-4f07-31e...|      wellness|162673000|General examinati...|             129.16|          129.16|          0.00|      null|                null|\n",
            "|dae2b7cb-1316-4b7...|2010-07-27T12:58:08Z|2010-07-27T13:28:08Z|10339b10-3cd1-4ac...|b03dba4f-892f-365...|7ed6b84a-b847-374...|d47b3510-2895-3b7...|      wellness|162673000|General examinati...|             129.16|          129.16|        129.16|      null|                null|\n",
            "+--------------------+--------------------+--------------------+--------------------+--------------------+--------------------+--------------------+--------------+---------+--------------------+-------------------+----------------+--------------+----------+--------------------+\n",
            "only showing top 5 rows\n",
            "\n",
            "Rows count : 53346\n"
          ]
        }
      ]
    },
    {
      "cell_type": "code",
      "source": [
        "df_img_studies.show(5)\n",
        "rows = df_img_studies.count()\n",
        "print(f\"Rows count : {rows}\")"
      ],
      "metadata": {
        "colab": {
          "base_uri": "https://localhost:8080/"
        },
        "id": "t-mLDU4pFGx9",
        "outputId": "0b043188-1f08-438b-d33b-60a24abce54a"
      },
      "execution_count": 13,
      "outputs": [
        {
          "output_type": "stream",
          "name": "stdout",
          "text": [
            "+--------------------+--------------------+--------------------+--------------------+-------------+--------------------+-------------+--------------------+--------------------+--------------------+\n",
            "|                  Id|                DATE|             PATIENT|           ENCOUNTER|BODYSITE_CODE|BODYSITE_DESCRIPTION|MODALITY_CODE|MODALITY_DESCRIPTION|            SOP_CODE|     SOP_DESCRIPTION|\n",
            "+--------------------+--------------------+--------------------+--------------------+-------------+--------------------+-------------+--------------------+--------------------+--------------------+\n",
            "|d3e49b38-7634-441...|2014-07-08T15:35:36Z|b58731cc-2d8b-4c2...|3a36836d-da25-4e7...|     40983000|                 Arm|           DX| Digital Radiography|1.2.840.10008.5.1...|Digital X-Ray Ima...|\n",
            "|46baf530-4941-40a...|2014-01-22T18:58:37Z|2ffe9369-24e4-414...|33b71e4b-0690-4fe...|     40983000|                 Arm|           DX| Digital Radiography|1.2.840.10008.5.1...|Digital X-Ray Ima...|\n",
            "|b8fb8a6e-a2f5-46c...|2001-12-01T02:08:27Z|86b97fc7-ae8f-4e0...|e42d1046-568d-46c...|      8205005|               Wrist|           DX| Digital Radiography|1.2.840.10008.5.1...|Digital X-Ray Ima...|\n",
            "|10c8a016-4504-465...|2004-07-03T20:46:46Z|71ba0469-f0cc-417...|323fca87-817f-4d5...|     51299004|            Clavicle|           DX| Digital Radiography|1.2.840.10008.5.1...|Digital X-Ray Ima...|\n",
            "|4221534c-d379-4c6...|2017-02-08T08:42:44Z|d49f748f-928d-40e...|cfef48b3-b769-479...|       344001|               Ankle|           DX| Digital Radiography|1.2.840.10008.5.1...|Digital X-Ray Ima...|\n",
            "+--------------------+--------------------+--------------------+--------------------+-------------+--------------------+-------------+--------------------+--------------------+--------------------+\n",
            "only showing top 5 rows\n",
            "\n",
            "Rows count : 855\n"
          ]
        }
      ]
    },
    {
      "cell_type": "code",
      "source": [
        "df_immunizations.show(5)\n",
        "print(f\"Rows count : {df_immunizations.count()}\")"
      ],
      "metadata": {
        "colab": {
          "base_uri": "https://localhost:8080/"
        },
        "id": "unjRrr3BFG6z",
        "outputId": "5e20de79-2378-4f60-b6ac-e7694284401a"
      },
      "execution_count": 14,
      "outputs": [
        {
          "output_type": "stream",
          "name": "stdout",
          "text": [
            "+--------------------+--------------------+--------------------+----+--------------------+---------+\n",
            "|                DATE|             PATIENT|           ENCOUNTER|CODE|         DESCRIPTION|BASE_COST|\n",
            "+--------------------+--------------------+--------------------+----+--------------------+---------+\n",
            "|2010-07-27T12:58:08Z|10339b10-3cd1-4ac...|dae2b7cb-1316-4b7...| 140|Influenza  season...|   140.52|\n",
            "|2010-11-20T03:04:34Z|f5dcd418-09fe-4a2...|7ff86631-0378-4bf...| 140|Influenza  season...|   140.52|\n",
            "|2012-01-23T17:45:28Z|034e9e3b-2def-455...|e88bc3a9-007c-405...| 140|Influenza  season...|   140.52|\n",
            "|2011-11-26T03:04:34Z|f5dcd418-09fe-4a2...|1923c698-accd-4d7...| 140|Influenza  season...|   140.52|\n",
            "|2011-07-28T15:02:18Z|1d604da9-9a81-4ba...|b85c339a-6076-43e...| 140|Influenza  season...|   140.52|\n",
            "+--------------------+--------------------+--------------------+----+--------------------+---------+\n",
            "only showing top 5 rows\n",
            "\n",
            "Rows count : 15478\n"
          ]
        }
      ]
    },
    {
      "cell_type": "code",
      "source": [
        "df_medications.show(5)\n",
        "rows = df_medications.count()\n",
        "print(f\"Rows count : {rows}\")"
      ],
      "metadata": {
        "colab": {
          "base_uri": "https://localhost:8080/"
        },
        "id": "CIJikwShFHCv",
        "outputId": "334b769f-1626-44de-9dbb-ced997937be2"
      },
      "execution_count": 15,
      "outputs": [
        {
          "output_type": "stream",
          "name": "stdout",
          "text": [
            "+--------------------+--------------------+--------------------+--------------------+--------------------+------+--------------------+---------+--------------+---------+---------+----------+--------------------+\n",
            "|               START|                STOP|             PATIENT|               PAYER|           ENCOUNTER|  CODE|         DESCRIPTION|BASE_COST|PAYER_COVERAGE|DISPENSES|TOTALCOST|REASONCODE|   REASONDESCRIPTION|\n",
            "+--------------------+--------------------+--------------------+--------------------+--------------------+------+--------------------+---------+--------------+---------+---------+----------+--------------------+\n",
            "|2010-05-05T00:26:23Z|2011-04-30T00:26:23Z|8d4c4326-e9de-4f4...|b1c428d6-4f07-31e...|1e0d6b0e-1711-4a2...|389221|Etonogestrel 68 M...|   677.08|          0.00|       12|  8124.96|      null|                null|\n",
            "|2011-04-30T00:26:23Z|2012-04-24T00:26:23Z|8d4c4326-e9de-4f4...|b1c428d6-4f07-31e...|6aa37300-d1b4-48e...|389221|Etonogestrel 68 M...|   624.09|          0.00|       12|  7489.08|      null|                null|\n",
            "|2012-04-24T00:26:23Z|2013-04-19T00:26:23Z|8d4c4326-e9de-4f4...|b1c428d6-4f07-31e...|7253a9f9-6f6d-429...|748856|     Yaz 28 Day Pack|    43.32|          0.00|       12|   519.84|      null|                null|\n",
            "|2011-05-13T12:58:08Z|2011-05-27T12:58:08Z|10339b10-3cd1-4ac...|d47b3510-2895-3b7...|e1ab4933-07a1-49f...|313782|Acetaminophen 325...|     8.14|          0.00|        1|     8.14|  10509002|Acute bronchitis ...|\n",
            "|2011-12-08T15:02:18Z|2011-12-22T15:02:18Z|1d604da9-9a81-4ba...|b1c428d6-4f07-31e...|792fae81-a007-44b...|562251|Amoxicillin 250 M...|    11.91|          0.00|        1|    11.91| 444814009|Viral sinusitis (...|\n",
            "+--------------------+--------------------+--------------------+--------------------+--------------------+------+--------------------+---------+--------------+---------+---------+----------+--------------------+\n",
            "only showing top 5 rows\n",
            "\n",
            "Rows count : 42989\n"
          ]
        }
      ]
    },
    {
      "cell_type": "code",
      "source": [
        "df_observations.show(5)\n",
        "rows = df_observations.count()\n",
        "print(f\"Rows count : {rows}\")"
      ],
      "metadata": {
        "colab": {
          "base_uri": "https://localhost:8080/"
        },
        "id": "kF7V9FGsFHJa",
        "outputId": "1b1d353e-1e38-4af2-ba64-00c338d2720e"
      },
      "execution_count": 16,
      "outputs": [
        {
          "output_type": "stream",
          "name": "stdout",
          "text": [
            "+--------------------+--------------------+--------------------+-------+--------------------+-----+-------+-------+\n",
            "|                DATE|             PATIENT|           ENCOUNTER|   CODE|         DESCRIPTION|VALUE|  UNITS|   TYPE|\n",
            "+--------------------+--------------------+--------------------+-------+--------------------+-----+-------+-------+\n",
            "|2012-01-23T17:45:28Z|034e9e3b-2def-455...|e88bc3a9-007c-405...| 8302-2|         Body Height|193.3|     cm|numeric|\n",
            "|2012-01-23T17:45:28Z|034e9e3b-2def-455...|e88bc3a9-007c-405...|72514-3|Pain severity - 0...|  2.0|{score}|numeric|\n",
            "|2012-01-23T17:45:28Z|034e9e3b-2def-455...|e88bc3a9-007c-405...|29463-7|         Body Weight| 87.8|     kg|numeric|\n",
            "|2012-01-23T17:45:28Z|034e9e3b-2def-455...|e88bc3a9-007c-405...|39156-5|     Body Mass Index| 23.5|  kg/m2|numeric|\n",
            "|2012-01-23T17:45:28Z|034e9e3b-2def-455...|e88bc3a9-007c-405...| 8462-4|Diastolic Blood P...| 82.0| mm[Hg]|numeric|\n",
            "+--------------------+--------------------+--------------------+-------+--------------------+-----+-------+-------+\n",
            "only showing top 5 rows\n",
            "\n",
            "Rows count : 299697\n"
          ]
        }
      ]
    },
    {
      "cell_type": "code",
      "source": [
        "df_organizations.show(5)\n",
        "rows = df_organizations.count()\n",
        "print(f\"Rows count : {rows}\")"
      ],
      "metadata": {
        "colab": {
          "base_uri": "https://localhost:8080/"
        },
        "id": "FCVwoVsDFHQ2",
        "outputId": "4bd57a47-bf79-47c4-e989-1ed69e5c742c"
      },
      "execution_count": 17,
      "outputs": [
        {
          "output_type": "stream",
          "name": "stdout",
          "text": [
            "+--------------------+--------------------+--------------------+----------+-----+-----+---------+----------+----------+------------------+-----------+\n",
            "|                  Id|                NAME|             ADDRESS|      CITY|STATE|  ZIP|      LAT|       LON|     PHONE|           REVENUE|UTILIZATION|\n",
            "+--------------------+--------------------+--------------------+----------+-----+-----+---------+----------+----------+------------------+-----------+\n",
            "|ef58ea08-d883-395...|HEALTHALLIANCE HO...|    60 HOSPITAL ROAD|LEOMINSTER|   MA|01453|42.520838|-71.770876|9784662000|198002.28000000442|       1557|\n",
            "|69176529-fd1f-3b3...|MOUNT AUBURN HOSP...|330 MOUNT AUBURN ...| CAMBRIDGE|   MA|02138|42.375967|-71.118275|6174923500| 288569.1700000008|       2296|\n",
            "|5e765f2b-e908-388...|STURDY MEMORIAL H...|     211 PARK STREET| ATTLEBORO|   MA|02703|41.931653|-71.294503|5082225200|287355.03000000096|       2287|\n",
            "|f1fbcbfb-fcfa-3bd...|LAWRENCE GENERAL ...|  ONE GENERAL STREET|  LAWRENCE|   MA|01842|42.700273|-71.161357|9786834000| 163386.9800000027|       1327|\n",
            "|e002090d-4e92-300...|CAMBRIDGE HEALTH ...|1493 CAMBRIDGE ST...| CAMBRIDGE|   MA|02138|42.375967|-71.118275|6176652300|406053.18999997765|       3199|\n",
            "+--------------------+--------------------+--------------------+----------+-----+-----+---------+----------+----------+------------------+-----------+\n",
            "only showing top 5 rows\n",
            "\n",
            "Rows count : 1119\n"
          ]
        }
      ]
    },
    {
      "cell_type": "code",
      "source": [
        "df_patients.show(5)\n",
        "rows = df_patients.count()\n",
        "print(f\"Rows count : {rows}\")"
      ],
      "metadata": {
        "colab": {
          "base_uri": "https://localhost:8080/"
        },
        "id": "SulkYVlvFHYy",
        "outputId": "de725779-acde-4852-ac48-c55a3f43d101"
      },
      "execution_count": 18,
      "outputs": [
        {
          "output_type": "stream",
          "name": "stdout",
          "text": [
            "+--------------------+----------+---------+-----------+---------+----------+------+---------------+-------------+------+-------------+-------+-----+-----------+------+--------------------+--------------------+----------+-------------+----------------+-----+------------------+------------------+-------------------+-------------------+\n",
            "|                  Id| BIRTHDATE|DEATHDATE|        SSN|  DRIVERS|  PASSPORT|PREFIX|          FIRST|         LAST|SUFFIX|       MAIDEN|MARITAL| RACE|  ETHNICITY|GENDER|          BIRTHPLACE|             ADDRESS|      CITY|        STATE|          COUNTY|  ZIP|               LAT|               LON|HEALTHCARE_EXPENSES|HEALTHCARE_COVERAGE|\n",
            "+--------------------+----------+---------+-----------+---------+----------+------+---------------+-------------+------+-------------+-------+-----+-----------+------+--------------------+--------------------+----------+-------------+----------------+-----+------------------+------------------+-------------------+-------------------+\n",
            "|1d604da9-9a81-4ba...|1989-05-25|     null|999-76-6866|S99984236|X19277260X|   Mr.|José Eduardo181|     Gómez206|  null|         null|      M|white|   hispanic|     M|Marigot  Saint An...|427 Balistreri Wa...|  Chicopee|Massachusetts|  Hampden County|01013| 42.22835382315942|-72.56295055096882|          271227.08| 1334.8799999999999|\n",
            "|034e9e3b-2def-455...|1983-11-14|     null|999-73-5361|S99962402|X88275464X|   Mr.|        Milo271|      Feil794|  null|         null|      M|white|nonhispanic|     M|Danvers  Massachu...|422 Farrell Path ...|Somerville|Massachusetts|Middlesex County|02143| 42.36069732777065|-71.12653095133149|          793946.01|            3204.49|\n",
            "|10339b10-3cd1-4ac...|1992-06-02|     null|999-27-3385|S99972682|X73754411X|   Mr.|      Jayson808|     Fadel536|  null|         null|      M|white|nonhispanic|     M|Springfield  Mass...|1056 Harris Lane ...|  Chicopee|Massachusetts|  Hampden County|01020|42.181642300277424|-72.60884222581657|           574111.9| 2606.3999999999996|\n",
            "|8d4c4326-e9de-4f4...|1978-05-27|     null|999-85-4926|S99974448|X40915583X|  Mrs.|     Mariana775|Rutherford999|  null|Williamson769|      M|white|nonhispanic|     F|Yarmouth  Massach...|      999 Kuhn Forge|    Lowell|Massachusetts|Middlesex County|01851| 42.63614335069588| -71.3432549217789|           935630.3|  8756.189999999999|\n",
            "|f5dcd418-09fe-4a2...|1996-10-18|     null|999-60-7372|S99915787|X86772962X|   Mr.|    Gregorio366|       Auer97|  null|         null|   null|white|nonhispanic|     M|  Patras  Achaea  GR|1050 Lindgren Ext...|    Boston|Massachusetts|  Suffolk County|02135| 42.35243426303177|-71.02861042115062|          598763.07|             3772.2|\n",
            "+--------------------+----------+---------+-----------+---------+----------+------+---------------+-------------+------+-------------+-------+-----+-----------+------+--------------------+--------------------+----------+-------------+----------------+-----+------------------+------------------+-------------------+-------------------+\n",
            "only showing top 5 rows\n",
            "\n",
            "Rows count : 1171\n"
          ]
        }
      ]
    },
    {
      "cell_type": "code",
      "source": [
        "df_pyr_transitions.show(5)\n",
        "rows = df_pyr_transitions.count()\n",
        "print(f\"Rows count : {rows}\")"
      ],
      "metadata": {
        "colab": {
          "base_uri": "https://localhost:8080/"
        },
        "id": "2USvvPwVFHj2",
        "outputId": "7b6ec62d-ceb9-4cf8-91de-fcf58632a981"
      },
      "execution_count": 19,
      "outputs": [
        {
          "output_type": "stream",
          "name": "stdout",
          "text": [
            "+--------------------+----------+--------+--------------------+---------+\n",
            "|             PATIENT|START_YEAR|END_YEAR|               PAYER|OWNERSHIP|\n",
            "+--------------------+----------+--------+--------------------+---------+\n",
            "|1d604da9-9a81-4ba...|      1989|    1998|b1c428d6-4f07-31e...| Guardian|\n",
            "|034e9e3b-2def-455...|      1983|    2001|6e2f1a2d-27bd-370...| Guardian|\n",
            "|8d4c4326-e9de-4f4...|      1978|    1995|7c4411ce-02f1-39b...| Guardian|\n",
            "|8d4c4326-e9de-4f4...|      1996|    1996|5059a55e-5d6e-34d...|     Self|\n",
            "|8d4c4326-e9de-4f4...|      1997|    1999|7c4411ce-02f1-39b...|     Self|\n",
            "+--------------------+----------+--------+--------------------+---------+\n",
            "only showing top 5 rows\n",
            "\n",
            "Rows count : 3801\n"
          ]
        }
      ]
    },
    {
      "cell_type": "code",
      "source": [
        "df_pyr.show(5)\n",
        "rows = df_pyr.count()\n",
        "print(f\"Rows count : {rows}\")"
      ],
      "metadata": {
        "colab": {
          "base_uri": "https://localhost:8080/"
        },
        "id": "YsWsPPrnFHxW",
        "outputId": "d5be0e79-d569-4619-9e95-7e538589906e"
      },
      "execution_count": 20,
      "outputs": [
        {
          "output_type": "stream",
          "name": "stdout",
          "text": [
            "+--------------------+--------------------+------------------+----------+-------------------+-----+--------------+--------------+----------------+------------+------------------+--------------------+-------------------+---------------------+------------------+--------------------+---------------------+-----------------------+----------------+-------------------+-------------+\n",
            "|                  Id|                NAME|           ADDRESS|      CITY|STATE_HEADQUARTERED|  ZIP|         PHONE|AMOUNT_COVERED|AMOUNT_UNCOVERED|     REVENUE|COVERED_ENCOUNTERS|UNCOVERED_ENCOUNTERS|COVERED_MEDICATIONS|UNCOVERED_MEDICATIONS|COVERED_PROCEDURES|UNCOVERED_PROCEDURES|COVERED_IMMUNIZATIONS|UNCOVERED_IMMUNIZATIONS|UNIQUE_CUSTOMERS|           QOLS_AVG|MEMBER_MONTHS|\n",
            "+--------------------+--------------------+------------------+----------+-------------------+-----+--------------+--------------+----------------+------------+------------------+--------------------+-------------------+---------------------+------------------+--------------------+---------------------+-----------------------+----------------+-------------------+-------------+\n",
            "|b3221cfc-24fb-339...|       Dual Eligible|7500 Security Blvd| Baltimore|                 MD|21244|1-877-267-2323|     141676.87|       119449.83|  1305000.00|               907|                   0|                556|                    0|               280|                   0|                  223|                      0|              25|0.36280967419034615|         3348|\n",
            "|7caa7254-5050-3b5...|            Medicare|7500 Security Blvd| Baltimore|                 MD|21244|1-800-633-4227|    4756720.13|       890394.37|  7122250.00|             11072|                   0|              13471|                    0|              7383|                   0|                 2557|                      0|             198| 0.7862229178329115|        29760|\n",
            "|7c4411ce-02f1-39b...|            Medicaid|7500 Security Blvd| Baltimore|                 MD|21244|1-877-267-2323|    3636994.03|      1814967.93| 20365500.00|             26878|                   0|               6382|                    0|             47611|                   0|                 7022|                      0|             507|  0.812136717075754|        84276|\n",
            "|d47b3510-2895-3b7...|              Humana|  500 West Main St|Louisville|                 KY|40018|1-844-330-7799|     716971.60|       842531.43|118500200.00|             12117|                1796|                  0|                 4985|             12718|                 550|                 6832|                    195|             281| 0.9118434431490968|        70308|\n",
            "|6e2f1a2d-27bd-370...|Blue Cross Blue S...|    Michigan Plaza|   Chicago|                 IL|60007|1-800-262-2583|    2741717.82|      1431463.91|140652000.00|             16168|                   0|               6159|                    0|             15312|                   0|                 7520|                      0|             307| 0.9072563661939262|        78768|\n",
            "+--------------------+--------------------+------------------+----------+-------------------+-----+--------------+--------------+----------------+------------+------------------+--------------------+-------------------+---------------------+------------------+--------------------+---------------------+-----------------------+----------------+-------------------+-------------+\n",
            "only showing top 5 rows\n",
            "\n",
            "Rows count : 10\n"
          ]
        }
      ]
    },
    {
      "cell_type": "code",
      "source": [
        "df_procedures.show(5)\n",
        "rows = df_procedures.count()\n",
        "print(f\"Rows count : {rows}\")"
      ],
      "metadata": {
        "colab": {
          "base_uri": "https://localhost:8080/"
        },
        "id": "xBv_U9IMFH-B",
        "outputId": "e396d074-4c40-409f-ef76-6a2b8903baed"
      },
      "execution_count": 21,
      "outputs": [
        {
          "output_type": "stream",
          "name": "stdout",
          "text": [
            "+--------------------+--------------------+--------------------+---------+--------------------+---------+----------+--------------------+\n",
            "|                DATE|             PATIENT|           ENCOUNTER|     CODE|         DESCRIPTION|BASE_COST|REASONCODE|   REASONDESCRIPTION|\n",
            "+--------------------+--------------------+--------------------+---------+--------------------+---------+----------+--------------------+\n",
            "|2011-04-30T00:26:23Z|8d4c4326-e9de-4f4...|6aa37300-d1b4-48e...|169553002|Insertion of subc...| 14896.56|      null|                null|\n",
            "|2010-07-27T12:58:08Z|10339b10-3cd1-4ac...|dae2b7cb-1316-4b7...|430193006|Medication Reconc...|   726.51|      null|                null|\n",
            "|2010-11-20T03:04:34Z|f5dcd418-09fe-4a2...|7ff86631-0378-4bf...|430193006|Medication Reconc...|   788.50|      null|                null|\n",
            "|2011-02-07T03:04:34Z|f5dcd418-09fe-4a2...|b8f76eba-7795-4dc...|117015009|Throat culture (p...|  2070.44| 195662009|Acute viral phary...|\n",
            "|2011-04-19T03:04:34Z|f5dcd418-09fe-4a2...|640837d9-845a-433...|117015009|Throat culture (p...|  2479.39| 195662009|Acute viral phary...|\n",
            "+--------------------+--------------------+--------------------+---------+--------------------+---------+----------+--------------------+\n",
            "only showing top 5 rows\n",
            "\n",
            "Rows count : 34981\n"
          ]
        }
      ]
    },
    {
      "cell_type": "code",
      "source": [
        "df_providers.show(5)\n",
        "rows = df_providers.count()\n",
        "print(f\"Rows count : {rows}\")"
      ],
      "metadata": {
        "colab": {
          "base_uri": "https://localhost:8080/"
        },
        "id": "LO9EzEhrFIHo",
        "outputId": "81127848-47de-4d59-93f8-56ec160bab04"
      },
      "execution_count": 22,
      "outputs": [
        {
          "output_type": "stream",
          "name": "stdout",
          "text": [
            "+--------------------+--------------------+--------------------+------+----------------+--------------------+----------+-----+-----+---------+----------+-----------+\n",
            "|                  Id|        ORGANIZATION|                NAME|GENDER|      SPECIALITY|             ADDRESS|      CITY|STATE|  ZIP|      LAT|       LON|UTILIZATION|\n",
            "+--------------------+--------------------+--------------------+------+----------------+--------------------+----------+-----+-----+---------+----------+-----------+\n",
            "|3421aa75-dec7-378...|ef58ea08-d883-395...|   Tomas436 Sauer652|     M|GENERAL PRACTICE|    60 HOSPITAL ROAD|LEOMINSTER|   MA|01453|42.520838|-71.770876|       1557|\n",
            "|c9b3c857-2e24-320...|69176529-fd1f-3b3...|Suzette512 Monaha...|     F|GENERAL PRACTICE|330 MOUNT AUBURN ...| CAMBRIDGE|   MA|02138|42.375967|-71.118275|       2296|\n",
            "|0359f968-d1a6-30e...|5e765f2b-e908-388...|Gaynell126 Streic...|     F|GENERAL PRACTICE|     211 PARK STREET| ATTLEBORO|   MA|02703|41.931653|-71.294503|       2287|\n",
            "|446d1609-858f-3a5...|f1fbcbfb-fcfa-3bd...|Patricia625 Salga...|     F|GENERAL PRACTICE|  ONE GENERAL STREET|  LAWRENCE|   MA|01842|42.700273|-71.161357|       1327|\n",
            "|e6283e46-fd81-361...|e002090d-4e92-300...|Jeanmarie510 Beat...|     F|GENERAL PRACTICE|1493 CAMBRIDGE ST...| CAMBRIDGE|   MA|02138|42.375967|-71.118275|       3199|\n",
            "+--------------------+--------------------+--------------------+------+----------------+--------------------+----------+-----+-----+---------+----------+-----------+\n",
            "only showing top 5 rows\n",
            "\n",
            "Rows count : 5855\n"
          ]
        }
      ]
    },
    {
      "cell_type": "code",
      "source": [
        "df_supplies.show(5)\n",
        "rows = df_supplies.count()\n",
        "print(f\"Rows count : {rows}\")"
      ],
      "metadata": {
        "colab": {
          "base_uri": "https://localhost:8080/"
        },
        "id": "hSmtSolZFyja",
        "outputId": "fbec3740-effe-46bf-a902-a1bf78d7aa94"
      },
      "execution_count": 23,
      "outputs": [
        {
          "output_type": "stream",
          "name": "stdout",
          "text": [
            "+----+-------+---------+----+-----------+--------+\n",
            "|DATE|PATIENT|ENCOUNTER|CODE|DESCRIPTION|QUANTITY|\n",
            "+----+-------+---------+----+-----------+--------+\n",
            "+----+-------+---------+----+-----------+--------+\n",
            "\n",
            "Rows count : 0\n"
          ]
        }
      ]
    },
    {
      "cell_type": "markdown",
      "source": [
        "Cleaning/Preprocessing the data"
      ],
      "metadata": {
        "id": "flf69xYSB2PK"
      }
    },
    {
      "cell_type": "markdown",
      "source": [
        "----------------"
      ],
      "metadata": {
        "id": "tgBQ-odZquXX"
      }
    },
    {
      "cell_type": "code",
      "source": [
        "# Change name of header in each dataframe to avoid ambiguity during analysis\n",
        "df_careplans = df_careplans.withColumnRenamed(\"Id\",\"CAREPLAN_ID\")\n",
        "df_encounters = df_encounters.withColumnRenamed(\"Id\",\"ENCOUNTERS_ID\")\n",
        "df_img_studies = df_img_studies.withColumnRenamed(\"Id\",\"IMGSTUDIES_ID\")\n",
        "df_organizations = df_organizations.withColumnRenamed(\"Id\",\"ORG_ID\")\n",
        "df_patients = df_patients.withColumnRenamed(\"Id\",\"PATIENT_ID\")\n",
        "df_pyr = df_pyr.withColumnRenamed(\"Id\",\"PYR_ID\")\n",
        "df_providers = df_providers.withColumnRenamed(\"Id\",\"PROV_ID\")\n",
        "df_careplans.printSchema()"
      ],
      "metadata": {
        "colab": {
          "base_uri": "https://localhost:8080/"
        },
        "id": "IFxXuuCTB-AL",
        "outputId": "72e1f837-ede0-459a-aded-e10852f3c842"
      },
      "execution_count": 24,
      "outputs": [
        {
          "output_type": "stream",
          "name": "stdout",
          "text": [
            "root\n",
            " |-- CAREPLAN_ID: string (nullable = true)\n",
            " |-- START: string (nullable = true)\n",
            " |-- STOP: string (nullable = true)\n",
            " |-- PATIENT: string (nullable = true)\n",
            " |-- ENCOUNTER: string (nullable = true)\n",
            " |-- CODE: string (nullable = true)\n",
            " |-- DESCRIPTION: string (nullable = true)\n",
            " |-- REASONCODE: string (nullable = true)\n",
            " |-- REASONDESCRIPTION: string (nullable = true)\n",
            "\n"
          ]
        }
      ]
    },
    {
      "cell_type": "code",
      "source": [
        "#df_patients = df_patients.withColumnRenamed(\"Id\",\"PATIENT_ID\")"
      ],
      "metadata": {
        "id": "OWSiWDP60QOO"
      },
      "execution_count": 64,
      "outputs": []
    },
    {
      "cell_type": "code",
      "source": [
        "df_patients.printSchema()"
      ],
      "metadata": {
        "id": "SrSfoyMYEW1C",
        "colab": {
          "base_uri": "https://localhost:8080/"
        },
        "outputId": "956fccff-8ff2-4046-c493-4bc6a0bfcb24"
      },
      "execution_count": 26,
      "outputs": [
        {
          "output_type": "stream",
          "name": "stdout",
          "text": [
            "root\n",
            " |-- PATIENT_ID: string (nullable = true)\n",
            " |-- BIRTHDATE: string (nullable = true)\n",
            " |-- DEATHDATE: string (nullable = true)\n",
            " |-- SSN: string (nullable = true)\n",
            " |-- DRIVERS: string (nullable = true)\n",
            " |-- PASSPORT: string (nullable = true)\n",
            " |-- PREFIX: string (nullable = true)\n",
            " |-- FIRST: string (nullable = true)\n",
            " |-- LAST: string (nullable = true)\n",
            " |-- SUFFIX: string (nullable = true)\n",
            " |-- MAIDEN: string (nullable = true)\n",
            " |-- MARITAL: string (nullable = true)\n",
            " |-- RACE: string (nullable = true)\n",
            " |-- ETHNICITY: string (nullable = true)\n",
            " |-- GENDER: string (nullable = true)\n",
            " |-- BIRTHPLACE: string (nullable = true)\n",
            " |-- ADDRESS: string (nullable = true)\n",
            " |-- CITY: string (nullable = true)\n",
            " |-- STATE: string (nullable = true)\n",
            " |-- COUNTY: string (nullable = true)\n",
            " |-- ZIP: string (nullable = true)\n",
            " |-- LAT: string (nullable = true)\n",
            " |-- LON: string (nullable = true)\n",
            " |-- HEALTHCARE_EXPENSES: string (nullable = true)\n",
            " |-- HEALTHCARE_COVERAGE: string (nullable = true)\n",
            "\n"
          ]
        }
      ]
    },
    {
      "cell_type": "code",
      "source": [
        "# Checking any duplicate patient entry in df_patients\n",
        "temp_RDD = df_patients.groupBy(\"PATIENT_ID\").count()\n",
        "temp_RDD.filter(\"PATIENT_ID > 1\").show()"
      ],
      "metadata": {
        "colab": {
          "base_uri": "https://localhost:8080/"
        },
        "id": "C_1fkoRZwfg1",
        "outputId": "896df776-2b8c-4d2d-8582-59cd87b224b0"
      },
      "execution_count": 27,
      "outputs": [
        {
          "output_type": "stream",
          "name": "stdout",
          "text": [
            "+----------+-----+\n",
            "|PATIENT_ID|count|\n",
            "+----------+-----+\n",
            "+----------+-----+\n",
            "\n"
          ]
        }
      ]
    },
    {
      "cell_type": "markdown",
      "source": [
        "Conclusion: This states that there are unique patient per each record in the df_patients dataframe.\n",
        "\n",
        "No cleaning needed for duplicate record."
      ],
      "metadata": {
        "id": "hLuCqXMPw3jG"
      }
    },
    {
      "cell_type": "code",
      "source": [
        "df_encounters.printSchema()"
      ],
      "metadata": {
        "colab": {
          "base_uri": "https://localhost:8080/"
        },
        "id": "JVUuc4oAP05w",
        "outputId": "b470798e-3ca9-425c-d14d-7ab6942c945e"
      },
      "execution_count": 28,
      "outputs": [
        {
          "output_type": "stream",
          "name": "stdout",
          "text": [
            "root\n",
            " |-- ENCOUNTERS_ID: string (nullable = true)\n",
            " |-- START: string (nullable = true)\n",
            " |-- STOP: string (nullable = true)\n",
            " |-- PATIENT: string (nullable = true)\n",
            " |-- ORGANIZATION: string (nullable = true)\n",
            " |-- PROVIDER: string (nullable = true)\n",
            " |-- PAYER: string (nullable = true)\n",
            " |-- ENCOUNTERCLASS: string (nullable = true)\n",
            " |-- CODE: string (nullable = true)\n",
            " |-- DESCRIPTION: string (nullable = true)\n",
            " |-- BASE_ENCOUNTER_COST: string (nullable = true)\n",
            " |-- TOTAL_CLAIM_COST: string (nullable = true)\n",
            " |-- PAYER_COVERAGE: string (nullable = true)\n",
            " |-- REASONCODE: string (nullable = true)\n",
            " |-- REASONDESCRIPTION: string (nullable = true)\n",
            "\n"
          ]
        }
      ]
    },
    {
      "cell_type": "code",
      "source": [
        "df_immunizations.select(\"DESCRIPTION\").distinct().show(20, False)"
      ],
      "metadata": {
        "colab": {
          "base_uri": "https://localhost:8080/"
        },
        "id": "jgZ0uOzY0Nay",
        "outputId": "0e678396-ce44-4c4a-ae3d-5a1c956a6eb2"
      },
      "execution_count": 29,
      "outputs": [
        {
          "output_type": "stream",
          "name": "stdout",
          "text": [
            "+--------------------------------------------------+\n",
            "|DESCRIPTION                                       |\n",
            "+--------------------------------------------------+\n",
            "|IPV                                               |\n",
            "|Influenza  seasonal  injectable  preservative free|\n",
            "|Tdap                                              |\n",
            "|pneumococcal polysaccharide vaccine  23 valent    |\n",
            "|Hep A  adult                                      |\n",
            "|Hep B  adult                                      |\n",
            "|HPV  quadrivalent                                 |\n",
            "|Hep B  adolescent or pediatric                    |\n",
            "|meningococcal MCV4P                               |\n",
            "|Td (adult) preservative free                      |\n",
            "|Hep A  ped/adol  2 dose                           |\n",
            "|DTaP                                              |\n",
            "|rotavirus  monovalent                             |\n",
            "|varicella                                         |\n",
            "|Pneumococcal conjugate PCV 13                     |\n",
            "|zoster                                            |\n",
            "|Hib (PRP-OMP)                                     |\n",
            "|MMR                                               |\n",
            "+--------------------------------------------------+\n",
            "\n"
          ]
        }
      ]
    },
    {
      "cell_type": "code",
      "source": [
        "# df3 = df_immunizations.withColumn(\"DESCRIPTION\", \\\n",
        "            #     when(df_immunizations.DESCRIPTION == \"pneumococcal polysaccharide vaccine  23 valent\",\"Pneumococcal vaccine\") \\\n",
        "            # .when(df_immunizations.DESCRIPTION == \"F\",\"Female\") \\\n",
        "            # .otherwise(df.gender))"
      ],
      "metadata": {
        "id": "aLSBQgOS0cd1"
      },
      "execution_count": 30,
      "outputs": []
    },
    {
      "cell_type": "code",
      "source": [
        "# Converting field type from string to numeric for df_patients\n",
        "df_patients = df_patients.withColumn(\"HEALTHCARE_EXPENSES\",df_patients.HEALTHCARE_EXPENSES.cast(IntegerType())) \\\n",
        "                         .withColumn(\"HEALTHCARE_COVERAGE\",df_patients.HEALTHCARE_COVERAGE.cast(IntegerType()))"
      ],
      "metadata": {
        "id": "5VH-SfiCg6bk"
      },
      "execution_count": 65,
      "outputs": []
    },
    {
      "cell_type": "code",
      "source": [
        "# Adding new field to df_patients called 'AGE'\n",
        "# If DEATHDATE is NOT null Then AGE = DEATHDATE - BIRTHDATE \n",
        "# Else AGE = 2020/04/01 - BIRTHDATE\n",
        "\n",
        "df_patients = df_patients.withColumn(\"AGE\", \\\n",
        "                                     when( col(\"DEATHDATE\").isNotNull() , floor(datediff(col(\"DEATHDATE\"), col(\"BIRTHDATE\"))/365.25) ) \\\n",
        "                                     .otherwise( floor(datediff(to_date(lit(\"2020-04-01\")), col(\"BIRTHDATE\"))/365.25) ) \\\n",
        "                                    )"
      ],
      "metadata": {
        "id": "EBQJNsxRhYqe"
      },
      "execution_count": 66,
      "outputs": []
    },
    {
      "cell_type": "markdown",
      "source": [
        "**Note:** The source data is from April 2020. So calculating patient's age w.r.t this date."
      ],
      "metadata": {
        "id": "D99UhRFa0hzp"
      }
    },
    {
      "cell_type": "code",
      "source": [
        "df_patients.filter(\"AGE > 100\").select(\"AGE\").distinct().show()"
      ],
      "metadata": {
        "colab": {
          "base_uri": "https://localhost:8080/"
        },
        "id": "MJZ1anuvAdOs",
        "outputId": "ce902034-05bb-4c21-a5a1-b2bbbd52252b"
      },
      "execution_count": 33,
      "outputs": [
        {
          "output_type": "stream",
          "name": "stdout",
          "text": [
            "+---+\n",
            "|AGE|\n",
            "+---+\n",
            "|110|\n",
            "|104|\n",
            "|106|\n",
            "|105|\n",
            "|108|\n",
            "|102|\n",
            "+---+\n",
            "\n"
          ]
        }
      ]
    },
    {
      "cell_type": "markdown",
      "source": [
        "**Conclusion:** There are patient who are with age above 100. It could also mean their deathdate might not have been recorded."
      ],
      "metadata": {
        "id": "IJXcogwlAt1u"
      }
    },
    {
      "cell_type": "code",
      "source": [
        "# Adding new field to df_patients called 'DEATH' to determine if patient\n",
        "df_patients = df_patients.withColumn(\"DEATH\", \\\n",
        "                                     when( col(\"DEATHDATE\").isNotNull() , \"Y\" ) \\\n",
        "                                     .otherwise( \"N\") \\\n",
        "                                    )\n",
        "#df_patients.filter(\"DEATH == 'Y'\").show()"
      ],
      "metadata": {
        "id": "e6TMNhH8CgE-"
      },
      "execution_count": 67,
      "outputs": []
    },
    {
      "cell_type": "code",
      "source": [
        "# Adding new field to df_patients called 'age_category' to group the age of patients\n",
        "age_group = udf(lambda age: '< 10' if age < 10 else \\\n",
        "                       '10-19' if (age >= 10 and age < 20) else \\\n",
        "                       '20-29' if (age >= 20 and age < 30) else \\\n",
        "                       '30-39' if (age >= 30 and age < 40) else \\\n",
        "                       '40-49' if (age >= 40 and age < 50) else \\\n",
        "                       '50-59' if (age >= 50 and age < 60) else \\\n",
        "                       '60-69' if (age >= 60 and age < 70) else \\\n",
        "                       '70-79' if (age >= 70 and age < 80) else \\\n",
        "                       '80-89' if (age >= 80 and age < 90) else \\\n",
        "                       '90-99' if (age >= 90 and age < 100) else \\\n",
        "                       '100+'  if (age >= 100) else '')\n",
        "\n",
        "df_patients = df_patients.withColumn('AGE_CATEGORY', age_group(df_patients.AGE))\n",
        "df_patients.show()"
      ],
      "metadata": {
        "colab": {
          "base_uri": "https://localhost:8080/"
        },
        "id": "s4NrVWcQOsOj",
        "outputId": "4abcc722-cbd0-490e-b5b4-59ae603d2a74"
      },
      "execution_count": 68,
      "outputs": [
        {
          "output_type": "stream",
          "name": "stdout",
          "text": [
            "+--------------------+----------+---------+-----------+---------+----------+------+---------------+--------------+------+-------------+-------+-----+-----------+------+--------------------+--------------------+-----------+-------------+----------------+-----+------------------+------------------+-------------------+-------------------+---+-----+------------+\n",
            "|          PATIENT_ID| BIRTHDATE|DEATHDATE|        SSN|  DRIVERS|  PASSPORT|PREFIX|          FIRST|          LAST|SUFFIX|       MAIDEN|MARITAL| RACE|  ETHNICITY|GENDER|          BIRTHPLACE|             ADDRESS|       CITY|        STATE|          COUNTY|  ZIP|               LAT|               LON|HEALTHCARE_EXPENSES|HEALTHCARE_COVERAGE|AGE|DEATH|age_category|\n",
            "+--------------------+----------+---------+-----------+---------+----------+------+---------------+--------------+------+-------------+-------+-----+-----------+------+--------------------+--------------------+-----------+-------------+----------------+-----+------------------+------------------+-------------------+-------------------+---+-----+------------+\n",
            "|1d604da9-9a81-4ba...|1989-05-25|     null|999-76-6866|S99984236|X19277260X|   Mr.|José Eduardo181|      Gómez206|  null|         null|      M|white|   hispanic|     M|Marigot  Saint An...|427 Balistreri Wa...|   Chicopee|Massachusetts|  Hampden County|01013| 42.22835382315942|-72.56295055096882|             271227|               1334| 30|    N|       30-39|\n",
            "|034e9e3b-2def-455...|1983-11-14|     null|999-73-5361|S99962402|X88275464X|   Mr.|        Milo271|       Feil794|  null|         null|      M|white|nonhispanic|     M|Danvers  Massachu...|422 Farrell Path ...| Somerville|Massachusetts|Middlesex County|02143| 42.36069732777065|-71.12653095133149|             793946|               3204| 36|    N|       30-39|\n",
            "|10339b10-3cd1-4ac...|1992-06-02|     null|999-27-3385|S99972682|X73754411X|   Mr.|      Jayson808|      Fadel536|  null|         null|      M|white|nonhispanic|     M|Springfield  Mass...|1056 Harris Lane ...|   Chicopee|Massachusetts|  Hampden County|01020|42.181642300277424|-72.60884222581657|             574111|               2606| 27|    N|       20-29|\n",
            "|8d4c4326-e9de-4f4...|1978-05-27|     null|999-85-4926|S99974448|X40915583X|  Mrs.|     Mariana775| Rutherford999|  null|Williamson769|      M|white|nonhispanic|     F|Yarmouth  Massach...|      999 Kuhn Forge|     Lowell|Massachusetts|Middlesex County|01851| 42.63614335069588| -71.3432549217789|             935630|               8756| 41|    N|       40-49|\n",
            "|f5dcd418-09fe-4a2...|1996-10-18|     null|999-60-7372|S99915787|X86772962X|   Mr.|    Gregorio366|        Auer97|  null|         null|   null|white|nonhispanic|     M|  Patras  Achaea  GR|1050 Lindgren Ext...|     Boston|Massachusetts|  Suffolk County|02135| 42.35243426303177|-71.02861042115062|             598763|               3772| 23|    N|       20-29|\n",
            "|72c0b9ce-7aa4-430...|2017-07-27|     null|999-68-6630|     null|      null|  null|     Jacinto644|       Kris249|  null|         null|   null|white|nonhispanic|     M|Beverly  Massachu...|888 Hickle Ferry ...|Springfield|Massachusetts|  Hampden County|01106|42.151961474963535|-72.59895940376188|               8718|               1499|  2|    N|        < 10|\n",
            "|b1e9b0b9-da6e-4f6...|2003-12-13|     null|999-73-2461|S99954048|      null|  null|       Jimmie93|     Harris789|  null|         null|   null|white|nonhispanic|     F|Worcester  Massac...|201 Mitchell Lodg...|   Pembroke|Massachusetts| Plymouth County| null| 42.07529152717956|-70.75703466334431|             397548|               3093| 16|    N|       10-19|\n",
            "|01207ecd-9dff-475...|2019-05-15|     null|999-81-4349|     null|      null|  null|       Karyn217|    Mueller846|  null|         null|   null|white|nonhispanic|     F|New Bedford  Mass...|570 Abshire Forge...|    Colrain|Massachusetts| Franklin County| null|42.740219982868055|-72.72264767557297|              26400|                774|  0|    N|        < 10|\n",
            "|b58731cc-2d8b-4c2...|1970-05-16|     null|999-90-2484|S99978036|X78170348X|  Mrs.|      Isabel214|      Lucio648|  null|  Carvajal694|      M|white|   hispanic|     F|Santiago  Santiag...|335 Morar Highlan...| Fall River|Massachusetts|  Bristol County|02720| 41.68768444527544| -71.0557687821624|             987310|              14166| 49|    N|       40-49|\n",
            "|cfee79fc-df05-476...|2016-07-04|     null|999-15-5895|     null|      null|  null|        Alva958|    Krajcik437|  null|         null|   null|white|nonhispanic|     F|Boston  Massachus...| 1048 Skiles Trailer|    Walpole|Massachusetts|  Norfolk County|02081|42.177370220648726|-71.28135315860652|              80155|               1599|  3|    N|        < 10|\n",
            "|ad2e9916-4979-40f...|2004-12-19|     null|999-78-4480|     null|      null|  null|     Jeffrey461|Greenfelder433|  null|         null|   null|white|nonhispanic|     M|Plymouth  Massach...|428 Wiza Glen Uni...|Springfield|Massachusetts|  Hampden County|01104|42.104927111867894|-72.59101060950445|             317164|               2816| 15|    N|       10-19|\n",
            "|bfb6537b-535a-4f3...|1991-07-03|     null|999-74-9712|S99913545|X65838399X|  Mrs.|       Karyn217|       Jast432|  null|  Reynolds644|      M|white|nonhispanic|     F|Belmont  Massachu...|181 Feest Passage...|   Medfield|Massachusetts|  Norfolk County|02052|42.138719393835025|-71.29725536274758|             700919|               6196| 28|    N|       20-29|\n",
            "|83719bd7-7a41-4c8...|1989-06-07|     null|999-24-1237|S99993444|X19938368X|  Mrs.|       Leann224|      Larson43|  null| Jaskolski867|      M|white|nonhispanic|     F|Fall River  Massa...|118 Bailey Orchar...|    Needham|Massachusetts|  Norfolk County| null|42.320747443630474|-71.23282934575425|             706612|               8624| 30|    N|       30-39|\n",
            "|76982e06-f8b8-450...|1982-09-01|     null|999-21-5604|S99957470|X55072337X|   Ms.|    Christal240|       Brown30|  null|         null|      S|white|nonhispanic|     F|Bellingham  Massa...|1060 Hansen Overp...|     Boston|Massachusetts|  Suffolk County|02118|42.284598473357775|-71.13449674876126|             779464|              11713| 37|    N|       30-39|\n",
            "|2ffe9369-24e4-414...|1958-07-01|     null|999-76-2715|S99927965|X70120330X|  Mrs.|       Amada498|   Reichert620|  null|    Spinka232|      M|white|nonhispanic|     F|Watertown  Massac...| 970 Grant Highlands| Foxborough|Massachusetts|  Norfolk County| null| 42.07894173393037|-71.22544168501237|            1368017|              15959| 61|    N|       60-69|\n",
            "|e4f1bd35-93ae-418...|1957-02-25|     null|999-66-4231|S99983425| X1708221X|   Ms.|        Raye931|     Wunsch504|  null|         null|      S|white|nonhispanic|     F|Arlington  Massac...|585 Greenfelder Camp|     Quincy|Massachusetts|  Norfolk County|02169|42.266511451175816|-70.95648012153919|            1551125|              11583| 63|    N|       60-69|\n",
            "|86b97fc7-ae8f-4e0...|1959-05-26|     null|999-59-1261|S99917383|X23685647X|  Mrs.|      Anissa357|    Wuckert783|  null|     Ebert178|      M|white|nonhispanic|     F|Pembroke  Massach...|661 Schulist High...|    Waltham|Massachusetts|Middlesex County|02452| 42.42591517440363|-71.28867283165437|            1388471|              20739| 60|    N|       60-69|\n",
            "|1c591f0d-95b1-428...|1954-04-04|     null|999-88-9161|S99916076|X45594159X|   Mr.|      Edmund685|     Walker122|  null|         null|      M|white|nonhispanic|     M|Dedham  Massachus...|     383 Crooks Camp|    Norwell|Massachusetts| Plymouth County| null|  42.1922447262567|-70.83915436161415|            1412795|               5545| 65|    N|       60-69|\n",
            "|f1678bde-4814-4d7...|1958-04-11|     null|999-49-5916|S99927174|X60264115X|  Mrs.|       Danae973|  Bartoletti50|  null| Gleichner915|      M|white|nonhispanic|     F|Holyoke  Massachu...|1062 Conn Well Su...| Framingham|Massachusetts|Middlesex County|01702| 42.30967844045964|-71.42307309211299|            1329466|              17081| 61|    N|       60-69|\n",
            "|aac107d8-5187-420...|1983-09-02|     null|999-57-9112|S99979946|X70531895X|  Mrs.|      Lisbeth69|       Hand679|  null|    Durgan499|      M|white|nonhispanic|     F|Agawam  Massachus...|      290 Hyatt Lane|     Malden|Massachusetts|Middlesex County|02155| 42.41495500202392| -71.0670663224216|             853594|               7264| 36|    N|       30-39|\n",
            "+--------------------+----------+---------+-----------+---------+----------+------+---------------+--------------+------+-------------+-------+-----+-----------+------+--------------------+--------------------+-----------+-------------+----------------+-----+------------------+------------------+-------------------+-------------------+---+-----+------------+\n",
            "only showing top 20 rows\n",
            "\n"
          ]
        }
      ]
    },
    {
      "cell_type": "code",
      "source": [],
      "metadata": {
        "id": "FuZtNFnNSuKt"
      },
      "execution_count": 35,
      "outputs": []
    },
    {
      "cell_type": "code",
      "source": [
        "# Converting field type from string to numeric for df_encounter\n",
        "df_encounters = df_encounters.withColumn(\"BASE_ENCOUNTER_COST\",df_encounters.BASE_ENCOUNTER_COST.cast(IntegerType())) \\\n",
        "                             .withColumn(\"TOTAL_CLAIM_COST\",df_encounters.TOTAL_CLAIM_COST.cast(IntegerType())) \\\n",
        "                             .withColumn(\"PAYER_COVERAGE\",df_encounters.PAYER_COVERAGE.cast(IntegerType()))"
      ],
      "metadata": {
        "id": "GWeBTYIvXI3H"
      },
      "execution_count": 36,
      "outputs": []
    },
    {
      "cell_type": "code",
      "source": [
        "# Selecting selective columns like ID, NAME, EXPENSES for patients\n",
        "df_patients = df_patients.select(\"PATIENT_ID\",\"SSN\",\"DRIVERS\",\"FIRST\",\"LAST\",\"MAIDEN\",\"GENDER\",\"AGE\",\"DEATH\",\"AGE_CATEGORY\",\"HEALTHCARE_EXPENSES\",\"HEALTHCARE_COVERAGE\")\n",
        "df_patients.show(5)"
      ],
      "metadata": {
        "colab": {
          "base_uri": "https://localhost:8080/"
        },
        "id": "Zu-8BHELN0bF",
        "outputId": "e7065173-077f-4a82-fb0c-205885d2b2fc"
      },
      "execution_count": 69,
      "outputs": [
        {
          "output_type": "stream",
          "name": "stdout",
          "text": [
            "+--------------------+-----------+---------+---------------+-------------+-------------+------+---+-----+------------+-------------------+-------------------+\n",
            "|          PATIENT_ID|        SSN|  DRIVERS|          FIRST|         LAST|       MAIDEN|GENDER|AGE|DEATH|age_category|HEALTHCARE_EXPENSES|HEALTHCARE_COVERAGE|\n",
            "+--------------------+-----------+---------+---------------+-------------+-------------+------+---+-----+------------+-------------------+-------------------+\n",
            "|1d604da9-9a81-4ba...|999-76-6866|S99984236|José Eduardo181|     Gómez206|         null|     M| 30|    N|       30-39|             271227|               1334|\n",
            "|034e9e3b-2def-455...|999-73-5361|S99962402|        Milo271|      Feil794|         null|     M| 36|    N|       30-39|             793946|               3204|\n",
            "|10339b10-3cd1-4ac...|999-27-3385|S99972682|      Jayson808|     Fadel536|         null|     M| 27|    N|       20-29|             574111|               2606|\n",
            "|8d4c4326-e9de-4f4...|999-85-4926|S99974448|     Mariana775|Rutherford999|Williamson769|     F| 41|    N|       40-49|             935630|               8756|\n",
            "|f5dcd418-09fe-4a2...|999-60-7372|S99915787|    Gregorio366|       Auer97|         null|     M| 23|    N|       20-29|             598763|               3772|\n",
            "+--------------------+-----------+---------+---------------+-------------+-------------+------+---+-----+------------+-------------------+-------------------+\n",
            "only showing top 5 rows\n",
            "\n"
          ]
        }
      ]
    },
    {
      "cell_type": "markdown",
      "source": [
        "Initial Data Analysis"
      ],
      "metadata": {
        "id": "_P-Gg5zz9RvW"
      }
    },
    {
      "cell_type": "markdown",
      "source": [
        "------------"
      ],
      "metadata": {
        "id": "GsQaRzJgtxjC"
      }
    },
    {
      "cell_type": "code",
      "source": [
        "# Convert df_patients dataframe to pandas dataframe\n",
        "pd_temp_RDD = df_patients.select(\"AGE\").toPandas()"
      ],
      "metadata": {
        "id": "XARSWcHgCEqO"
      },
      "execution_count": 38,
      "outputs": []
    },
    {
      "cell_type": "code",
      "source": [
        "#Summary statistics of columns: AGE\n",
        "pd_temp_RDD[[\"AGE\"]].describe()"
      ],
      "metadata": {
        "colab": {
          "base_uri": "https://localhost:8080/",
          "height": 300
        },
        "id": "rMWmJ2s2CLUr",
        "outputId": "41b0befe-72b1-452d-cec4-609a39566251"
      },
      "execution_count": 39,
      "outputs": [
        {
          "output_type": "execute_result",
          "data": {
            "text/plain": [
              "               AGE\n",
              "count  1171.000000\n",
              "mean     41.070026\n",
              "std      24.338536\n",
              "min       0.000000\n",
              "25%      21.000000\n",
              "50%      41.000000\n",
              "75%      60.000000\n",
              "max     110.000000"
            ],
            "text/html": [
              "\n",
              "  <div id=\"df-f944e803-d136-412d-b610-b3dd291da5e2\">\n",
              "    <div class=\"colab-df-container\">\n",
              "      <div>\n",
              "<style scoped>\n",
              "    .dataframe tbody tr th:only-of-type {\n",
              "        vertical-align: middle;\n",
              "    }\n",
              "\n",
              "    .dataframe tbody tr th {\n",
              "        vertical-align: top;\n",
              "    }\n",
              "\n",
              "    .dataframe thead th {\n",
              "        text-align: right;\n",
              "    }\n",
              "</style>\n",
              "<table border=\"1\" class=\"dataframe\">\n",
              "  <thead>\n",
              "    <tr style=\"text-align: right;\">\n",
              "      <th></th>\n",
              "      <th>AGE</th>\n",
              "    </tr>\n",
              "  </thead>\n",
              "  <tbody>\n",
              "    <tr>\n",
              "      <th>count</th>\n",
              "      <td>1171.000000</td>\n",
              "    </tr>\n",
              "    <tr>\n",
              "      <th>mean</th>\n",
              "      <td>41.070026</td>\n",
              "    </tr>\n",
              "    <tr>\n",
              "      <th>std</th>\n",
              "      <td>24.338536</td>\n",
              "    </tr>\n",
              "    <tr>\n",
              "      <th>min</th>\n",
              "      <td>0.000000</td>\n",
              "    </tr>\n",
              "    <tr>\n",
              "      <th>25%</th>\n",
              "      <td>21.000000</td>\n",
              "    </tr>\n",
              "    <tr>\n",
              "      <th>50%</th>\n",
              "      <td>41.000000</td>\n",
              "    </tr>\n",
              "    <tr>\n",
              "      <th>75%</th>\n",
              "      <td>60.000000</td>\n",
              "    </tr>\n",
              "    <tr>\n",
              "      <th>max</th>\n",
              "      <td>110.000000</td>\n",
              "    </tr>\n",
              "  </tbody>\n",
              "</table>\n",
              "</div>\n",
              "      <button class=\"colab-df-convert\" onclick=\"convertToInteractive('df-f944e803-d136-412d-b610-b3dd291da5e2')\"\n",
              "              title=\"Convert this dataframe to an interactive table.\"\n",
              "              style=\"display:none;\">\n",
              "        \n",
              "  <svg xmlns=\"http://www.w3.org/2000/svg\" height=\"24px\"viewBox=\"0 0 24 24\"\n",
              "       width=\"24px\">\n",
              "    <path d=\"M0 0h24v24H0V0z\" fill=\"none\"/>\n",
              "    <path d=\"M18.56 5.44l.94 2.06.94-2.06 2.06-.94-2.06-.94-.94-2.06-.94 2.06-2.06.94zm-11 1L8.5 8.5l.94-2.06 2.06-.94-2.06-.94L8.5 2.5l-.94 2.06-2.06.94zm10 10l.94 2.06.94-2.06 2.06-.94-2.06-.94-.94-2.06-.94 2.06-2.06.94z\"/><path d=\"M17.41 7.96l-1.37-1.37c-.4-.4-.92-.59-1.43-.59-.52 0-1.04.2-1.43.59L10.3 9.45l-7.72 7.72c-.78.78-.78 2.05 0 2.83L4 21.41c.39.39.9.59 1.41.59.51 0 1.02-.2 1.41-.59l7.78-7.78 2.81-2.81c.8-.78.8-2.07 0-2.86zM5.41 20L4 18.59l7.72-7.72 1.47 1.35L5.41 20z\"/>\n",
              "  </svg>\n",
              "      </button>\n",
              "      \n",
              "  <style>\n",
              "    .colab-df-container {\n",
              "      display:flex;\n",
              "      flex-wrap:wrap;\n",
              "      gap: 12px;\n",
              "    }\n",
              "\n",
              "    .colab-df-convert {\n",
              "      background-color: #E8F0FE;\n",
              "      border: none;\n",
              "      border-radius: 50%;\n",
              "      cursor: pointer;\n",
              "      display: none;\n",
              "      fill: #1967D2;\n",
              "      height: 32px;\n",
              "      padding: 0 0 0 0;\n",
              "      width: 32px;\n",
              "    }\n",
              "\n",
              "    .colab-df-convert:hover {\n",
              "      background-color: #E2EBFA;\n",
              "      box-shadow: 0px 1px 2px rgba(60, 64, 67, 0.3), 0px 1px 3px 1px rgba(60, 64, 67, 0.15);\n",
              "      fill: #174EA6;\n",
              "    }\n",
              "\n",
              "    [theme=dark] .colab-df-convert {\n",
              "      background-color: #3B4455;\n",
              "      fill: #D2E3FC;\n",
              "    }\n",
              "\n",
              "    [theme=dark] .colab-df-convert:hover {\n",
              "      background-color: #434B5C;\n",
              "      box-shadow: 0px 1px 3px 1px rgba(0, 0, 0, 0.15);\n",
              "      filter: drop-shadow(0px 1px 2px rgba(0, 0, 0, 0.3));\n",
              "      fill: #FFFFFF;\n",
              "    }\n",
              "  </style>\n",
              "\n",
              "      <script>\n",
              "        const buttonEl =\n",
              "          document.querySelector('#df-f944e803-d136-412d-b610-b3dd291da5e2 button.colab-df-convert');\n",
              "        buttonEl.style.display =\n",
              "          google.colab.kernel.accessAllowed ? 'block' : 'none';\n",
              "\n",
              "        async function convertToInteractive(key) {\n",
              "          const element = document.querySelector('#df-f944e803-d136-412d-b610-b3dd291da5e2');\n",
              "          const dataTable =\n",
              "            await google.colab.kernel.invokeFunction('convertToInteractive',\n",
              "                                                     [key], {});\n",
              "          if (!dataTable) return;\n",
              "\n",
              "          const docLinkHtml = 'Like what you see? Visit the ' +\n",
              "            '<a target=\"_blank\" href=https://colab.research.google.com/notebooks/data_table.ipynb>data table notebook</a>'\n",
              "            + ' to learn more about interactive tables.';\n",
              "          element.innerHTML = '';\n",
              "          dataTable['output_type'] = 'display_data';\n",
              "          await google.colab.output.renderOutput(dataTable, element);\n",
              "          const docLink = document.createElement('div');\n",
              "          docLink.innerHTML = docLinkHtml;\n",
              "          element.appendChild(docLink);\n",
              "        }\n",
              "      </script>\n",
              "    </div>\n",
              "  </div>\n",
              "  "
            ]
          },
          "metadata": {},
          "execution_count": 39
        }
      ]
    },
    {
      "cell_type": "code",
      "source": [
        "temp_RDD = df_patients.groupBy(\"AGE_CATEGORY\").avg(\"HEALTHCARE_EXPENSES\", \"HEALTHCARE_COVERAGE\").orderBy(\"AGE_CATEGORY\")\n",
        "temp_RDD.show()"
      ],
      "metadata": {
        "colab": {
          "base_uri": "https://localhost:8080/"
        },
        "id": "nXI0fAtlQgWW",
        "outputId": "fec4f36b-e058-4996-a4e2-e8dda5448e90"
      },
      "execution_count": 82,
      "outputs": [
        {
          "output_type": "stream",
          "name": "stdout",
          "text": [
            "+------------+------------------------+------------------------+\n",
            "|age_category|avg(HEALTHCARE_EXPENSES)|avg(HEALTHCARE_COVERAGE)|\n",
            "+------------+------------------------+------------------------+\n",
            "|       10-19|       291299.4013157895|      3382.4473684210525|\n",
            "|        100+|      1429707.3636363635|       51664.90909090909|\n",
            "|       20-29|       498243.7261146497|        5086.15923566879|\n",
            "|       30-39|       641683.0222222222|       6656.303703703704|\n",
            "|       40-49|       840298.3092105263|       9630.644736842105|\n",
            "|       50-59|      1051205.9144736843|       17393.58552631579|\n",
            "|       60-69|      1221377.5194805195|      17692.766233766233|\n",
            "|       70-79|      1338649.2771084337|       26864.77108433735|\n",
            "|       80-89|      1457951.2285714287|      28733.428571428572|\n",
            "|       90-99|      1137745.5789473683|      110519.42105263157|\n",
            "|        < 10|       95333.48760330578|       1623.206611570248|\n",
            "+------------+------------------------+------------------------+\n",
            "\n"
          ]
        }
      ]
    },
    {
      "cell_type": "code",
      "source": [
        "pd_temp_RDD = temp_RDD.toPandas()\n",
        "\n",
        "#sns.set(color_codes=True)\n",
        "#sns.set(style=\"whitegrid\", palette=\"pastel\")\n",
        "\n",
        "# Barplot for age-group comparing their average health expenses and average health coverage\n",
        "sns.barplot(data=pd_temp_RDD.melt(id_vars='AGE_CATEGORY',\n",
        "                                  value_name='Avg. amt(hundred M $)', var_name='category'),\n",
        "            x='AGE_CATEGORY', y='Avg. amt(hundred M $)', hue='category')  \\\n",
        "            .set(title='Age-Group comparing their average health expenses and average health coverage')"
      ],
      "metadata": {
        "colab": {
          "base_uri": "https://localhost:8080/",
          "height": 372
        },
        "id": "v9JhqzoATAdw",
        "outputId": "3394fbac-610b-47d1-86b5-1b3f87796725"
      },
      "execution_count": 90,
      "outputs": [
        {
          "output_type": "execute_result",
          "data": {
            "text/plain": [
              "[Text(0.5, 1.0, 'Age-Group comparing their average health expenses and average health coverage')]"
            ]
          },
          "metadata": {},
          "execution_count": 90
        },
        {
          "output_type": "display_data",
          "data": {
            "text/plain": [
              "<Figure size 1008x360 with 1 Axes>"
            ],
            "image/png": "[encoded data removed]"
          },
          "metadata": {}
        }
      ]
    },
    {
      "cell_type": "markdown",
      "source": [
        "**Conclusion:** Average healthcare expenses is higher than the average healthcare coverage in all age groups."
      ],
      "metadata": {
        "id": "7qSalhrVawJq"
      }
    },
    {
      "cell_type": "code",
      "source": [
        "# \n",
        "df_patients.filter(\"AGE > 100\").show()"
      ],
      "metadata": {
        "colab": {
          "base_uri": "https://localhost:8080/"
        },
        "id": "be-aa3INztpr",
        "outputId": "81aee129-e786-4cfe-80b2-b165dd5bfded"
      },
      "execution_count": 40,
      "outputs": [
        {
          "output_type": "stream",
          "name": "stdout",
          "text": [
            "+--------------------+-----------+---------+-----------+-------------+--------------+------+---+-----+-------------------+-------------------+\n",
            "|          PATIENT_ID|        SSN|  DRIVERS|      FIRST|         LAST|        MAIDEN|GENDER|AGE|DEATH|HEALTHCARE_EXPENSES|HEALTHCARE_COVERAGE|\n",
            "+--------------------+-----------+---------+-----------+-------------+--------------+------+---+-----+-------------------+-------------------+\n",
            "|f1921fc3-fdfc-441...|999-71-4454|S99968762|Sharleen176|     Kulas532|    Rolfson709|     F|110|    N|             495271|              39995|\n",
            "|6abdc54d-098e-47d...|999-68-6750|S99953863| Enedina292|Macejkovic424|Schamberger479|     F|104|    N|            1512751|              43528|\n",
            "|6d8fdec1-d77d-417...|999-32-3912|S99964540|  Santos184|       Fay398|          null|     M|108|    N|             155173|              16761|\n",
            "|475b2a8b-19a0-451...|999-38-4849|S99959961|  Manual570| Kertzmann286|          null|     M|106|    N|            1865296|              32608|\n",
            "|a3abc11b-0fd1-4eb...|999-47-9209|S99947584|   Irvin970|   Goodwin327|          null|     M|108|    N|            1789855|              30000|\n",
            "|257af8d7-ba2c-439...|999-92-1404|S99946525| Nickole723|   Denesik803|Cruickshank494|     F|102|    N|            1600827|              32774|\n",
            "|ce5e19e5-f448-44d...|999-16-6019|S99929952|  Michel472|      Lang846|          null|     M|102|    N|            1623911|              23076|\n",
            "|c49c2939-79bc-4fe...|999-96-4831|S99968838|Humberto482|    Grimes165|          null|     M|102|    N|            1685717|              22270|\n",
            "|a7f102bb-e1ba-441...|999-52-4867|S99949343|Williams176|     Hintz995|          null|     M|105|    N|            1642356|              36225|\n",
            "|fc817953-cc8b-45d...|999-72-8988|S99919344|   Oneida64|   Nicolas769|   MacGyver246|     F|105|    N|            1510158|              26565|\n",
            "+--------------------+-----------+---------+-----------+-------------+--------------+------+---+-----+-------------------+-------------------+\n",
            "\n"
          ]
        }
      ]
    },
    {
      "cell_type": "code",
      "source": [
        "df_encounters.orderBy(\"ENCOUNTERS_ID\").show(5)"
      ],
      "metadata": {
        "colab": {
          "base_uri": "https://localhost:8080/"
        },
        "id": "Pw6I05PjKhOB",
        "outputId": "2fdadbd0-9c94-463f-f291-d9ad0b780562"
      },
      "execution_count": 91,
      "outputs": [
        {
          "output_type": "stream",
          "name": "stdout",
          "text": [
            "+--------------------+--------------------+--------------------+--------------------+--------------------+--------------------+--------------------+--------------+---------+--------------------+-------------------+----------------+--------------+----------+-----------------+\n",
            "|       ENCOUNTERS_ID|               START|                STOP|             PATIENT|        ORGANIZATION|            PROVIDER|               PAYER|ENCOUNTERCLASS|     CODE|         DESCRIPTION|BASE_ENCOUNTER_COST|TOTAL_CLAIM_COST|PAYER_COVERAGE|REASONCODE|REASONDESCRIPTION|\n",
            "+--------------------+--------------------+--------------------+--------------------+--------------------+--------------------+--------------------+--------------+---------+--------------------+-------------------+----------------+--------------+----------+-----------------+\n",
            "|0000d0b7-937c-498...|1994-09-07T04:48:12Z|1994-09-07T05:03:12Z|714b9c18-783d-4f5...|5259a506-b80b-3ed...|3a65bdb3-12b2-324...|d47b3510-2895-3b7...|      wellness|162673000|General examinati...|                129|             129|            49|      null|             null|\n",
            "|000186d2-1316-4b5...|2014-12-03T13:12:11Z|2014-12-03T14:42:11Z|8be62b06-5994-47f...|8ad64ecf-c817-375...|56c64467-dd8a-36c...|7c4411ce-02f1-39b...|    ambulatory|424619006|      Prenatal visit|                129|             129|            69|  72892002| Normal pregnancy|\n",
            "|0002adbb-59c3-494...|2014-12-06T12:52:02Z|2014-12-06T13:43:02Z|1e52e4fe-13c7-41a...|49318f80-bd8b-3fc...|680f4af2-775d-34c...|6e2f1a2d-27bd-370...|    ambulatory|371883000|Outpatient procedure|                129|             129|            54|      null|             null|\n",
            "|0004e2e7-e3f2-4d2...|2001-11-11T02:07:45Z|2001-11-11T02:37:45Z|8e075015-6b2e-4cf...|7b5845b8-025a-373...|5735b7f6-9d26-3c4...|7c4411ce-02f1-39b...|      wellness|162673000|General examinati...|                129|             129|            69|      null|             null|\n",
            "|00052e41-7581-46e...|2000-03-03T08:37:29Z|2000-03-03T08:52:29Z|13a3a783-ecc5-4ec...|78dbf052-6958-3c6...|f61a6a29-7081-307...|6e2f1a2d-27bd-370...|    outpatient|185349003|Encounter for che...|                129|             129|            54|      null|             null|\n",
            "+--------------------+--------------------+--------------------+--------------------+--------------------+--------------------+--------------------+--------------+---------+--------------------+-------------------+----------------+--------------+----------+-----------------+\n",
            "only showing top 5 rows\n",
            "\n"
          ]
        }
      ]
    },
    {
      "cell_type": "code",
      "source": [
        "# patients x encounters\n",
        "pat_enc = df_patients.join(df_encounters, trim(df_patients.PATIENT_ID) == trim(df_encounters.PATIENT))\n",
        "pat_enc.show(5)\n",
        "print(f\"Rows count : {pat_enc.count()}\")"
      ],
      "metadata": {
        "colab": {
          "base_uri": "https://localhost:8080/"
        },
        "id": "r0iXZhmbxCpk",
        "outputId": "5afeee68-536b-44c3-b27a-23c882f6e366"
      },
      "execution_count": 42,
      "outputs": [
        {
          "output_type": "stream",
          "name": "stdout",
          "text": [
            "+--------------------+-----------+---------+---------------+--------+------+------+---+-----+-------------------+-------------------+--------------------+--------------------+--------------------+--------------------+--------------------+--------------------+--------------------+--------------+---------+--------------------+-------------------+----------------+--------------+----------+--------------------+\n",
            "|          PATIENT_ID|        SSN|  DRIVERS|          FIRST|    LAST|MAIDEN|GENDER|AGE|DEATH|HEALTHCARE_EXPENSES|HEALTHCARE_COVERAGE|       ENCOUNTERS_ID|               START|                STOP|             PATIENT|        ORGANIZATION|            PROVIDER|               PAYER|ENCOUNTERCLASS|     CODE|         DESCRIPTION|BASE_ENCOUNTER_COST|TOTAL_CLAIM_COST|PAYER_COVERAGE|REASONCODE|   REASONDESCRIPTION|\n",
            "+--------------------+-----------+---------+---------------+--------+------+------+---+-----+-------------------+-------------------+--------------------+--------------------+--------------------+--------------------+--------------------+--------------------+--------------------+--------------+---------+--------------------+-------------------+----------------+--------------+----------+--------------------+\n",
            "|034e9e3b-2def-455...|999-73-5361|S99962402|        Milo271| Feil794|  null|     M| 36|    N|             793946|               3204|d0c40d10-8d87-447...|2010-01-23T17:45:28Z|2010-01-23T18:10:28Z|034e9e3b-2def-455...|e002090d-4e92-300...|e6283e46-fd81-361...|6e2f1a2d-27bd-370...|    ambulatory|185345009|Encounter for sym...|                129|             129|            54|  10509002|Acute bronchitis ...|\n",
            "|034e9e3b-2def-455...|999-73-5361|S99962402|        Milo271| Feil794|  null|     M| 36|    N|             793946|               3204|e88bc3a9-007c-405...|2012-01-23T17:45:28Z|2012-01-23T18:00:28Z|034e9e3b-2def-455...|772ee193-bb9f-30e...|6f1d59a7-a5bd-3cf...|6e2f1a2d-27bd-370...|      wellness|162673000|General examinati...|                129|             129|           129|      null|                null|\n",
            "|1d604da9-9a81-4ba...|999-76-6866|S99984236|José Eduardo181|Gómez206|  null|     M| 30|    N|             271227|               1334|8f104aa7-4ca9-447...|2001-05-01T15:02:18Z|2001-05-01T15:17:18Z|1d604da9-9a81-4ba...|5d4b9df1-93ae-3bc...|af01a385-31d3-3c7...|b1c428d6-4f07-31e...|    ambulatory|185345009|Encounter for sym...|                129|             129|             0|  36971009|Sinusitis (disorder)|\n",
            "|1d604da9-9a81-4ba...|999-76-6866|S99984236|José Eduardo181|Gómez206|  null|     M| 30|    N|             271227|               1334|b85c339a-6076-43e...|2011-07-28T15:02:18Z|2011-07-28T15:17:18Z|1d604da9-9a81-4ba...|3dc9bb2d-5d66-3e6...|bb17e691-262b-354...|b1c428d6-4f07-31e...|      wellness|162673000|General examinati...|                129|             129|             0|      null|                null|\n",
            "|10339b10-3cd1-4ac...|999-27-3385|S99972682|      Jayson808|Fadel536|  null|     M| 27|    N|             574111|               2606|dae2b7cb-1316-4b7...|2010-07-27T12:58:08Z|2010-07-27T13:28:08Z|10339b10-3cd1-4ac...|b03dba4f-892f-365...|7ed6b84a-b847-374...|d47b3510-2895-3b7...|      wellness|162673000|General examinati...|                129|             129|           129|      null|                null|\n",
            "+--------------------+-----------+---------+---------------+--------+------+------+---+-----+-------------------+-------------------+--------------------+--------------------+--------------------+--------------------+--------------------+--------------------+--------------------+--------------+---------+--------------------+-------------------+----------------+--------------+----------+--------------------+\n",
            "only showing top 5 rows\n",
            "\n",
            "Rows count : 53346\n"
          ]
        }
      ]
    },
    {
      "cell_type": "code",
      "source": [
        "temp_RDD = pat_enc.groupBy(\"REASONCODE\").sum(\"BASE_ENCOUNTER_COST\", \"TOTAL_CLAIM_COST\", \"PAYER_COVERAGE\", \"HEALTHCARE_EXPENSES\", \"HEALTHCARE_COVERAGE\")\n",
        "temp_RDD.show(5)\n",
        "print(f\"Rows count : {temp_RDD.count()}\")"
      ],
      "metadata": {
        "colab": {
          "base_uri": "https://localhost:8080/"
        },
        "id": "xucLhyJWQgXh",
        "outputId": "483204e0-6091-4c71-e8f4-1055dc114af6"
      },
      "execution_count": 43,
      "outputs": [
        {
          "output_type": "stream",
          "name": "stdout",
          "text": [
            "+----------+------------------------+---------------------+-------------------+------------------------+------------------------+\n",
            "|REASONCODE|sum(BASE_ENCOUNTER_COST)|sum(TOTAL_CLAIM_COST)|sum(PAYER_COVERAGE)|sum(HEALTHCARE_EXPENSES)|sum(HEALTHCARE_COVERAGE)|\n",
            "+----------+------------------------+---------------------+-------------------+------------------------+------------------------+\n",
            "| 301011002|                    7482|                 7482|               2582|                51873681|                  574753|\n",
            "| 359817006|                    1419|                 1419|                695|                 7867530|                  256877|\n",
            "|  26929004|                    5676|                 5676|               3647|                58494741|                 1036959|\n",
            "|  62564004|                    2967|                 2967|               1226|                14788644|                  270229|\n",
            "|  65275009|                     129|                  129|                 69|                  201672|                   17259|\n",
            "+----------+------------------------+---------------------+-------------------+------------------------+------------------------+\n",
            "only showing top 5 rows\n",
            "\n",
            "Rows count : 81\n"
          ]
        }
      ]
    },
    {
      "cell_type": "code",
      "source": [
        "#temp_RDD = pat_enc.groupBy(\"ENCOUNTERCLASS\").sum(\"BASE_ENCOUNTER_COST\", \"TOTAL_CLAIM_COST\", \"PAYER_COVERAGE\", \"HEALTHCARE_EXPENSES\", \"HEALTHCARE_COVERAGE\")\n",
        "temp_RDD = pat_enc.groupBy(\"ENCOUNTERCLASS\").sum(\"BASE_ENCOUNTER_COST\", \"TOTAL_CLAIM_COST\", \"PAYER_COVERAGE\")\n",
        "temp_RDD.show(7)\n",
        "print(f\"Rows count : {temp_RDD.count()}\")"
      ],
      "metadata": {
        "colab": {
          "base_uri": "https://localhost:8080/"
        },
        "id": "p0sVuB62gGal",
        "outputId": "b788bd9e-1cb7-40d0-a252-f9e31c1270c5"
      },
      "execution_count": 101,
      "outputs": [
        {
          "output_type": "stream",
          "name": "stdout",
          "text": [
            "+--------------+------------------------+---------------------+-------------------+\n",
            "|ENCOUNTERCLASS|sum(BASE_ENCOUNTER_COST)|sum(TOTAL_CLAIM_COST)|sum(PAYER_COVERAGE)|\n",
            "+--------------+------------------------+---------------------+-------------------+\n",
            "|      wellness|                 2464674|              2464674|            1768169|\n",
            "|    outpatient|                 1161387|              1161387|             265231|\n",
            "|     emergency|                  269610|               269610|             122801|\n",
            "|     inpatient|                  215106|               215106|              81045|\n",
            "|    urgentcare|                  306117|               306117|                  0|\n",
            "|    ambulatory|                 2442744|              2442744|            1063619|\n",
            "+--------------+------------------------+---------------------+-------------------+\n",
            "\n",
            "Rows count : 6\n"
          ]
        }
      ]
    },
    {
      "cell_type": "code",
      "source": [
        "pd_temp_RDD = temp_RDD.toPandas()\n",
        "\n",
        "# Barplot for EncounterClass comparing their sum encounter_cost, claim_cost, payer_coverage\n",
        "sns.barplot(data=pd_temp_RDD.melt(id_vars='ENCOUNTERCLASS',\n",
        "                                  value_name='Sum Amt($)', var_name='category'),\n",
        "            x='ENCOUNTERCLASS', y='Sum Amt($)', hue='category')  \\\n",
        "            .set(title='EncounterClass comparing their sum encounter_cost, claim_cost, payer_coverage')"
      ],
      "metadata": {
        "colab": {
          "base_uri": "https://localhost:8080/",
          "height": 372
        },
        "id": "fgtWFvPueUBr",
        "outputId": "36041e70-2927-49e4-8062-6f930fc8de4d"
      },
      "execution_count": 103,
      "outputs": [
        {
          "output_type": "execute_result",
          "data": {
            "text/plain": [
              "[Text(0.5, 1.0, 'EncounterClass comparing their sum encounter_cost, claim_cost, payer_coverage')]"
            ]
          },
          "metadata": {},
          "execution_count": 103
        },
        {
          "output_type": "display_data",
          "data": {
            "text/plain": [
              "<Figure size 1008x360 with 1 Axes>"
            ],
            "image/png": "[encoded data removed]"
          },
          "metadata": {}
        }
      ]
    },
    {
      "cell_type": "markdown",
      "source": [
        "**Conclusion:**\n",
        "\\\n",
        "1. The payer coverage is less than the encounter cost and claim cost.\n",
        "2. The base encounter cost is always same as the total claim cost."
      ],
      "metadata": {
        "id": "4LeKIP4WeziQ"
      }
    },
    {
      "cell_type": "code",
      "source": [
        "#temp_RDD = pat_enc.groupBy(\"ENCOUNTERCLASS\").avg(\"BASE_ENCOUNTER_COST\", \"TOTAL_CLAIM_COST\", \"PAYER_COVERAGE\", \"HEALTHCARE_EXPENSES\", \"HEALTHCARE_COVERAGE\")\n",
        "temp_RDD = pat_enc.groupBy(\"ENCOUNTERCLASS\").avg(\"BASE_ENCOUNTER_COST\", \"TOTAL_CLAIM_COST\", \"PAYER_COVERAGE\")\n",
        "temp_RDD.show(7)\n",
        "print(f\"Rows count : {temp_RDD.count()}\")"
      ],
      "metadata": {
        "colab": {
          "base_uri": "https://localhost:8080/"
        },
        "id": "5EjGOxXCdBps",
        "outputId": "75aa32ce-5a74-4ebd-92d0-2daf348d9f99"
      },
      "execution_count": 104,
      "outputs": [
        {
          "output_type": "stream",
          "name": "stdout",
          "text": [
            "+--------------+------------------------+---------------------+-------------------+\n",
            "|ENCOUNTERCLASS|avg(BASE_ENCOUNTER_COST)|avg(TOTAL_CLAIM_COST)|avg(PAYER_COVERAGE)|\n",
            "+--------------+------------------------+---------------------+-------------------+\n",
            "|      wellness|                   129.0|                129.0|  92.54522139641998|\n",
            "|    outpatient|                   129.0|                129.0|  29.46029101410641|\n",
            "|     emergency|                   129.0|                129.0|  58.75645933014354|\n",
            "|     inpatient|      117.03264417845485|   117.03264417845485| 44.094124047878125|\n",
            "|    urgentcare|                   129.0|                129.0|                0.0|\n",
            "|    ambulatory|                   129.0|                129.0|  56.16914871144909|\n",
            "+--------------+------------------------+---------------------+-------------------+\n",
            "\n",
            "Rows count : 6\n"
          ]
        }
      ]
    },
    {
      "cell_type": "code",
      "source": [
        "pd_temp_RDD = temp_RDD.toPandas()\n",
        "\n",
        "# Barplot for EncounterClass comparing their average encounter_cost, claim_cost, payer_coverage\n",
        "sns.barplot(data=pd_temp_RDD.melt(id_vars='ENCOUNTERCLASS',\n",
        "                                  value_name='Avg. Amt($)', var_name='category'),\n",
        "            x='ENCOUNTERCLASS', y='Avg. Amt($)', hue='category')  \\\n",
        "            .set(title='EncounterClass comparing their average encounter_cost, claim_cost, payer_coverage')"
      ],
      "metadata": {
        "colab": {
          "base_uri": "https://localhost:8080/",
          "height": 372
        },
        "id": "fhvtNVdbcAU8",
        "outputId": "cfb7432f-bfd6-4ae0-a2ae-5188fc09059c"
      },
      "execution_count": 105,
      "outputs": [
        {
          "output_type": "execute_result",
          "data": {
            "text/plain": [
              "[Text(0.5, 1.0, 'EncounterClass comparing their average encounter_cost, claim_cost, payer_coverage')]"
            ]
          },
          "metadata": {},
          "execution_count": 105
        },
        {
          "output_type": "display_data",
          "data": {
            "text/plain": [
              "<Figure size 1008x360 with 1 Axes>"
            ],
            "image/png": "[encoded data removed]"
          },
          "metadata": {}
        }
      ]
    },
    {
      "cell_type": "markdown",
      "source": [
        "**Conclusion:**\n",
        "\\\n",
        "1. The average payer coverage is less than the average encounter cost and average claim cost.\n",
        "2. The average base encounter cost is always same as the average total claim cost."
      ],
      "metadata": {
        "id": "mR0Ti906ffzO"
      }
    },
    {
      "cell_type": "code",
      "source": [
        "# Find distinct PATIENT, ORGANIZATION, PROVIDER, PAYER\n",
        "temp_RDD = pat_enc.select('PATIENT').distinct()\n",
        "#temp_RDD.show(5)\n",
        "print(f\"Distinct PATIENT Rows count : {temp_RDD.count()}\")\n",
        "temp_RDD = pat_enc.select('ORGANIZATION').distinct()\n",
        "print(f\"Distinct ORGANIZATION Rows count : {temp_RDD.count()}\")\n",
        "temp_RDD = pat_enc.select('PROVIDER').distinct()\n",
        "print(f\"Distinct PROVIDER Rows count : {temp_RDD.count()}\")\n",
        "temp_RDD = pat_enc.select('PAYER').distinct()\n",
        "print(f\"Distinct PAYER Rows count : {temp_RDD.count()}\")"
      ],
      "metadata": {
        "colab": {
          "base_uri": "https://localhost:8080/"
        },
        "id": "eqgEmLjggzVf",
        "outputId": "efbe2d0d-fbdc-420f-d881-46e83fa1b251"
      },
      "execution_count": 45,
      "outputs": [
        {
          "output_type": "stream",
          "name": "stdout",
          "text": [
            "Distinct PATIENT Rows count : 1171\n",
            "Distinct ORGANIZATION Rows count : 1103\n",
            "Distinct PROVIDER Rows count : 1104\n",
            "Distinct PAYER Rows count : 10\n"
          ]
        }
      ]
    },
    {
      "cell_type": "code",
      "source": [
        "# Finding payer coverage report\n",
        "payer_coverage_detail = pat_enc.groupBy(\"PAYER\").sum(\"TOTAL_CLAIM_COST\", \"PAYER_COVERAGE\")\n",
        "payer_coverage_detail = payer_coverage_detail.join(df_pyr, trim(payer_coverage_detail.PAYER) == trim(df_pyr.PYR_ID))\n",
        "payer_coverage_detail.select(\"NAME\", \"sum(TOTAL_CLAIM_COST)\", \"sum(PAYER_COVERAGE)\", \"AMOUNT_COVERED\", \"AMOUNT_UNCOVERED\", \"REVENUE\").show(7)"
      ],
      "metadata": {
        "colab": {
          "base_uri": "https://localhost:8080/"
        },
        "id": "kwThPYeYkDYH",
        "outputId": "32049385-f9f6-460b-c619-bad881f414c0"
      },
      "execution_count": 46,
      "outputs": [
        {
          "output_type": "stream",
          "name": "stdout",
          "text": [
            "+--------------------+---------------------+-------------------+--------------+----------------+------------+\n",
            "|                NAME|sum(TOTAL_CLAIM_COST)|sum(PAYER_COVERAGE)|AMOUNT_COVERED|AMOUNT_UNCOVERED|     REVENUE|\n",
            "+--------------------+---------------------+-------------------+--------------+----------------+------------+\n",
            "|        Cigna Health|               485034|             303516|     909661.78|       635040.00|154184100.00|\n",
            "|Blue Cross Blue S...|               849628|             434614|    2741717.82|      1431463.91|140652000.00|\n",
            "|              Anthem|               293217|             224826|     526943.60|       258995.00|152248800.00|\n",
            "|            Medicare|              1244101|             793710|    4756720.13|       890394.37|  7122250.00|\n",
            "|        NO_INSURANCE|              1308779|                  0|          0.00|     10129408.90|        0.00|\n",
            "|       Dual Eligible|                92079|              30496|     141676.87|       119449.83|  1305000.00|\n",
            "|              Humana|               526155|             286380|     716971.60|       842531.43|118500200.00|\n",
            "+--------------------+---------------------+-------------------+--------------+----------------+------------+\n",
            "only showing top 7 rows\n",
            "\n"
          ]
        }
      ]
    },
    {
      "cell_type": "code",
      "source": [
        "# Finding payer coverage report with encounterclass\n",
        "payer_coverage_detail_2 = pat_enc.groupBy(\"PAYER\", \"ENCOUNTERCLASS\").sum(\"TOTAL_CLAIM_COST\", \"PAYER_COVERAGE\")\n",
        "payer_coverage_detail_2 = payer_coverage_detail_2.join(df_pyr, trim(payer_coverage_detail.PAYER) == trim(df_pyr.PYR_ID))\n",
        "payer_coverage_detail_2 = payer_coverage_detail_2.select(\"NAME\", \"ENCOUNTERCLASS\", \"sum(TOTAL_CLAIM_COST)\", \"sum(PAYER_COVERAGE)\", \"AMOUNT_COVERED\", \"AMOUNT_UNCOVERED\", \"REVENUE\")\n",
        "payer_coverage_detail_2.orderBy(col(\"NAME\"), col(\"ENCOUNTERCLASS\")).show()"
      ],
      "metadata": {
        "colab": {
          "base_uri": "https://localhost:8080/"
        },
        "id": "sVMr-X7kdJO7",
        "outputId": "a8c25f60-33e4-4002-ddd7-e9cb03dac37d"
      },
      "execution_count": 47,
      "outputs": [
        {
          "output_type": "stream",
          "name": "stdout",
          "text": [
            "+--------------------+--------------+---------------------+-------------------+--------------+----------------+------------+\n",
            "|                NAME|ENCOUNTERCLASS|sum(TOTAL_CLAIM_COST)|sum(PAYER_COVERAGE)|AMOUNT_COVERED|AMOUNT_UNCOVERED|     REVENUE|\n",
            "+--------------------+--------------+---------------------+-------------------+--------------+----------------+------------+\n",
            "|               Aetna|    ambulatory|               161250|              79872|     827367.40|       652470.00|141468000.00|\n",
            "|               Aetna|     emergency|                18060|               8576|     827367.40|       652470.00|141468000.00|\n",
            "|               Aetna|     inpatient|                 5362|               2308|     827367.40|       652470.00|141468000.00|\n",
            "|               Aetna|    outpatient|                 4773|                  0|     827367.40|       652470.00|141468000.00|\n",
            "|               Aetna|    urgentcare|                10320|                  0|     827367.40|       652470.00|141468000.00|\n",
            "|               Aetna|      wellness|               242520|             193252|     827367.40|       652470.00|141468000.00|\n",
            "|              Anthem|     emergency|                  645|                  0|     526943.60|       258995.00|152248800.00|\n",
            "|              Anthem|     inpatient|                  258|                  0|     526943.60|       258995.00|152248800.00|\n",
            "|              Anthem|    outpatient|                 5934|                  0|     526943.60|       258995.00|152248800.00|\n",
            "|              Anthem|    urgentcare|                 5031|                  0|     526943.60|       258995.00|152248800.00|\n",
            "|              Anthem|      wellness|               281349|             224826|     526943.60|       258995.00|152248800.00|\n",
            "|Blue Cross Blue S...|    ambulatory|               257742|             107892|    2741717.82|      1431463.91|140652000.00|\n",
            "|Blue Cross Blue S...|     emergency|                25542|              10260|    2741717.82|      1431463.91|140652000.00|\n",
            "|Blue Cross Blue S...|     inpatient|                35509|              12994|    2741717.82|      1431463.91|140652000.00|\n",
            "|Blue Cross Blue S...|    outpatient|               160863|              64692|    2741717.82|      1431463.91|140652000.00|\n",
            "|Blue Cross Blue S...|    urgentcare|                38571|                  0|    2741717.82|      1431463.91|140652000.00|\n",
            "|Blue Cross Blue S...|      wellness|               331401|             238776|    2741717.82|      1431463.91|140652000.00|\n",
            "|        Cigna Health|    ambulatory|               164604|              87975|     909661.78|       635040.00|154184100.00|\n",
            "|        Cigna Health|     emergency|                19995|               9798|     909661.78|       635040.00|154184100.00|\n",
            "|        Cigna Health|     inpatient|                13152|               6327|     909661.78|       635040.00|154184100.00|\n",
            "+--------------------+--------------+---------------------+-------------------+--------------+----------------+------------+\n",
            "only showing top 20 rows\n",
            "\n"
          ]
        }
      ]
    },
    {
      "cell_type": "code",
      "source": [
        "pat_immuniz = df_patients.join(df_immunizations, trim(df_patients.PATIENT_ID) == trim(df_immunizations.PATIENT))\n",
        "print(f\"Rows count : {pat_immuniz.count()}\") #15478\n",
        "pat_immuniz = pat_immuniz.join(df_encounters, trim(pat_immuniz.ENCOUNTER) == trim(df_encounters.ENCOUNTERS_ID) )\n",
        "#pat_immuniz.orderBy(col(\"PATIENT_ID\"), col(\"DATE\")).show(5)\n",
        "print(f\"Rows count : {pat_immuniz.count()}\") #15478\n",
        "pat_immuniz.select(\"ENCOUNTERCLASS\").distinct().show(5)\n",
        "\n",
        "pat_immuniz.filter(trim(col(\"ENCOUNTERCLASS\")) == \"emergency\").show(5)"
      ],
      "metadata": {
        "colab": {
          "base_uri": "https://localhost:8080/"
        },
        "id": "rYI0mkH8i8lL",
        "outputId": "a983dd23-43e4-47b9-f89d-c9aa0244e507"
      },
      "execution_count": 48,
      "outputs": [
        {
          "output_type": "stream",
          "name": "stdout",
          "text": [
            "Rows count : 15478\n",
            "Rows count : 15478\n",
            "+--------------+\n",
            "|ENCOUNTERCLASS|\n",
            "+--------------+\n",
            "|      wellness|\n",
            "|    outpatient|\n",
            "|     emergency|\n",
            "|    urgentcare|\n",
            "+--------------+\n",
            "\n",
            "+--------------------+-----------+---------+---------+--------------+------+------+---+-----+-------------------+-------------------+--------------------+--------------------+--------------------+----+--------------------+---------+--------------------+--------------------+--------------------+--------------------+--------------------+--------------------+--------------------+--------------+--------+-------------------+-------------------+----------------+--------------+----------+-----------------+\n",
            "|          PATIENT_ID|        SSN|  DRIVERS|    FIRST|          LAST|MAIDEN|GENDER|AGE|DEATH|HEALTHCARE_EXPENSES|HEALTHCARE_COVERAGE|                DATE|             PATIENT|           ENCOUNTER|CODE|         DESCRIPTION|BASE_COST|       ENCOUNTERS_ID|               START|                STOP|             PATIENT|        ORGANIZATION|            PROVIDER|               PAYER|ENCOUNTERCLASS|    CODE|        DESCRIPTION|BASE_ENCOUNTER_COST|TOTAL_CLAIM_COST|PAYER_COVERAGE|REASONCODE|REASONDESCRIPTION|\n",
            "+--------------------+-----------+---------+---------+--------------+------+------+---+-----+-------------------+-------------------+--------------------+--------------------+--------------------+----+--------------------+---------+--------------------+--------------------+--------------------+--------------------+--------------------+--------------------+--------------------+--------------+--------+-------------------+-------------------+----------------+--------------+----------+-----------------+\n",
            "|941f66eb-5ca6-45c...|999-44-9258|S99958846|Merlin721|Breitenberg711|  null|     M| 53|    Y|            1183857|             427537|2014-09-27T00:42:46Z|941f66eb-5ca6-45c...|de7fa30e-eb8f-4d8...| 140|Influenza  season...|   140.52|de7fa30e-eb8f-4d8...|2014-09-27T00:42:46Z|2014-09-27T01:42:46Z|941f66eb-5ca6-45c...|49318f80-bd8b-3fc...|680f4af2-775d-34c...|6e2f1a2d-27bd-370...|     emergency|50849002|Emergency Encounter|                129|             129|            54|      null|             null|\n",
            "|eaf6eec1-84ec-454...|999-17-5888|S99998445|Jacques50|      Swift555|  null|     M| 81|    N|            1459993|               7894|2019-01-02T23:14:54Z|eaf6eec1-84ec-454...|4190ec58-fd9c-4ed...| 140|Influenza  season...|   140.52|4190ec58-fd9c-4ed...|2019-01-02T23:14:54Z|2019-01-03T00:14:54Z|eaf6eec1-84ec-454...|8ad64ecf-c817-375...|56c64467-dd8a-36c...|7caa7254-5050-3b5...|     emergency|50849002|Emergency Encounter|                129|             129|            89|      null|             null|\n",
            "|7c6d7838-6453-4e4...|999-27-7149|S99936982| Quinn173|      Kutch271|  null|     M| 61|    Y|            1543145|               5325|1974-04-07T09:30:42Z|7c6d7838-6453-4e4...|f6aa6b56-f3aa-42a...| 140|Influenza  season...|   140.52|f6aa6b56-f3aa-42a...|1974-04-07T09:30:42Z|1974-04-07T10:30:42Z|7c6d7838-6453-4e4...|1eaf97fa-9de6-38d...|05a143d2-3a7d-376...|4d71f845-a6a9-3c3...|     emergency|50849002|Emergency Encounter|                129|             129|            64|      null|             null|\n",
            "|3acf9313-1874-4df...|999-65-1055|S99959799| Earle679|      Frami345|  null|     M|100|    Y|            1845466|             264512|2014-11-17T13:57:11Z|3acf9313-1874-4df...|47547dbd-7431-499...| 140|Influenza  season...|   140.52|47547dbd-7431-499...|2014-11-17T13:57:11Z|2014-11-17T15:12:11Z|3acf9313-1874-4df...|37b4d73f-652d-303...|798c4252-900f-3e2...|7caa7254-5050-3b5...|     emergency|50849002|Emergency Encounter|                129|             129|            89|      null|             null|\n",
            "|d2157fd6-bfa4-49e...|999-71-3532|S99986100|Morton637|       Smith67|  null|     M| 25|    N|             622863|               3537|2019-05-21T08:05:47Z|d2157fd6-bfa4-49e...|0c771f5b-5ada-41c...| 140|Influenza  season...|   140.52|0c771f5b-5ada-41c...|2019-05-21T08:05:47Z|2019-05-21T09:05:47Z|d2157fd6-bfa4-49e...|24cb4eab-6166-353...|7bd4e666-a82d-3ad...|4d71f845-a6a9-3c3...|     emergency|50849002|Emergency Encounter|                129|             129|            64|      null|             null|\n",
            "+--------------------+-----------+---------+---------+--------------+------+------+---+-----+-------------------+-------------------+--------------------+--------------------+--------------------+----+--------------------+---------+--------------------+--------------------+--------------------+--------------------+--------------------+--------------------+--------------------+--------------+--------+-------------------+-------------------+----------------+--------------+----------+-----------------+\n",
            "only showing top 5 rows\n",
            "\n"
          ]
        }
      ]
    },
    {
      "cell_type": "code",
      "source": [
        "temp_RDD = df_immunizations.select(\"DESCRIPTION\").distinct()\n",
        "print(temp_RDD.show(20, False))"
      ],
      "metadata": {
        "colab": {
          "base_uri": "https://localhost:8080/"
        },
        "id": "0bj5x82avDTE",
        "outputId": "a3b0b87d-00cc-4ba6-fa66-b5658fbba106"
      },
      "execution_count": 49,
      "outputs": [
        {
          "output_type": "stream",
          "name": "stdout",
          "text": [
            "+--------------------------------------------------+\n",
            "|DESCRIPTION                                       |\n",
            "+--------------------------------------------------+\n",
            "|IPV                                               |\n",
            "|Influenza  seasonal  injectable  preservative free|\n",
            "|Tdap                                              |\n",
            "|pneumococcal polysaccharide vaccine  23 valent    |\n",
            "|Hep A  adult                                      |\n",
            "|Hep B  adult                                      |\n",
            "|HPV  quadrivalent                                 |\n",
            "|Hep B  adolescent or pediatric                    |\n",
            "|meningococcal MCV4P                               |\n",
            "|Td (adult) preservative free                      |\n",
            "|Hep A  ped/adol  2 dose                           |\n",
            "|DTaP                                              |\n",
            "|rotavirus  monovalent                             |\n",
            "|varicella                                         |\n",
            "|Pneumococcal conjugate PCV 13                     |\n",
            "|zoster                                            |\n",
            "|Hib (PRP-OMP)                                     |\n",
            "|MMR                                               |\n",
            "+--------------------------------------------------+\n",
            "\n",
            "None\n"
          ]
        }
      ]
    },
    {
      "cell_type": "code",
      "source": [
        "rows = df_immunizations.select(\"PATIENT\").distinct().count() #1169\n",
        "print(f\"No. of patient who took immunization: {rows}\")\n",
        "rows = df_patients.select(\"PATIENT_ID\").distinct().count() #1171\n",
        "print(f\"No. of patient in EHR record: {rows}\")"
      ],
      "metadata": {
        "colab": {
          "base_uri": "https://localhost:8080/"
        },
        "id": "2DfM9UKYsFJd",
        "outputId": "2e6dc1ee-2469-490b-f1dd-90114c45c756"
      },
      "execution_count": 50,
      "outputs": [
        {
          "output_type": "stream",
          "name": "stdout",
          "text": [
            "No. of patient who took immunization: 1169\n",
            "No. of patient in EHR record: 1171\n"
          ]
        }
      ]
    },
    {
      "cell_type": "markdown",
      "source": [
        "Conclusion: There are 1171 - 1169 = 2 who have not taken any immunizations till date or not recorded to take any immunization."
      ],
      "metadata": {
        "id": "vLbMwlSPtbEV"
      }
    },
    {
      "cell_type": "markdown",
      "source": [
        "Joins"
      ],
      "metadata": {
        "id": "0nt9kSnsgrgI"
      }
    },
    {
      "cell_type": "markdown",
      "source": [
        " -----------"
      ],
      "metadata": {
        "id": "XsUAUaz6qJd5"
      }
    },
    {
      "cell_type": "code",
      "source": [
        "temp_RDD = df_patients.join(df_careplans, trim(df_patients.PATIENT_ID) == trim(df_careplans.PATIENT))\n",
        "temp_RDD.show(5)\n",
        "rows = temp_RDD.count()\n",
        "print(f\"Rows count : {rows}\")"
      ],
      "metadata": {
        "colab": {
          "base_uri": "https://localhost:8080/"
        },
        "id": "CPzXUVRVVK_w",
        "outputId": "34e2edf4-3303-4ee0-9efc-108edfb5034e"
      },
      "execution_count": 51,
      "outputs": [
        {
          "output_type": "stream",
          "name": "stdout",
          "text": [
            "+--------------------+-----------+---------+-----------+--------+------+------+---+-----+-------------------+-------------------+--------------------+----------+----------+--------------------+--------------------+---------+-------------------+----------+--------------------+\n",
            "|          PATIENT_ID|        SSN|  DRIVERS|      FIRST|    LAST|MAIDEN|GENDER|AGE|DEATH|HEALTHCARE_EXPENSES|HEALTHCARE_COVERAGE|         CAREPLAN_ID|     START|      STOP|             PATIENT|           ENCOUNTER|     CODE|        DESCRIPTION|REASONCODE|   REASONDESCRIPTION|\n",
            "+--------------------+-----------+---------+-----------+--------+------+------+---+-----+-------------------+-------------------+--------------------+----------+----------+--------------------+--------------------+---------+-------------------+----------+--------------------+\n",
            "|034e9e3b-2def-455...|999-73-5361|S99962402|    Milo271| Feil794|  null|     M| 36|    N|             793946|               3204|d2500b8c-e830-433...|2010-01-23|2012-01-23|034e9e3b-2def-455...|d0c40d10-8d87-447...| 53950000|Respiratory therapy|  10509002|Acute bronchitis ...|\n",
            "|10339b10-3cd1-4ac...|999-27-3385|S99972682|  Jayson808|Fadel536|  null|     M| 27|    N|             574111|               2606|07d9ddd8-dfa1-4e4...|2011-05-13|2011-08-02|10339b10-3cd1-4ac...|e1ab4933-07a1-49f...| 53950000|Respiratory therapy|  10509002|Acute bronchitis ...|\n",
            "|f5dcd418-09fe-4a2...|999-60-7372|S99915787|Gregorio366|  Auer97|  null|     M| 23|    N|             598763|               3772|a3bb6e99-3b99-44b...|2011-12-31|2012-11-30|f5dcd418-09fe-4a2...|16300c56-a035-412...| 53950000|Respiratory therapy|  10509002|Acute bronchitis ...|\n",
            "|034e9e3b-2def-455...|999-73-5361|S99962402|    Milo271| Feil794|  null|     M| 36|    N|             793946|               3204|9f5284b7-425a-486...|2016-12-29|2017-01-05|034e9e3b-2def-455...|3b639086-5fbc-472...| 53950000|Respiratory therapy|  10509002|Acute bronchitis ...|\n",
            "|10339b10-3cd1-4ac...|999-27-3385|S99972682|  Jayson808|Fadel536|  null|     M| 27|    N|             574111|               2606|47ede16c-c216-4f8...|2017-01-22|2017-02-12|10339b10-3cd1-4ac...|4ec8d55b-05fc-42a...|225358003|         Wound care| 284551006|  Laceration of foot|\n",
            "+--------------------+-----------+---------+-----------+--------+------+------+---+-----+-------------------+-------------------+--------------------+----------+----------+--------------------+--------------------+---------+-------------------+----------+--------------------+\n",
            "only showing top 5 rows\n",
            "\n",
            "Rows count : 3483\n"
          ]
        }
      ]
    },
    {
      "cell_type": "code",
      "source": [],
      "metadata": {
        "id": "DlGM7QPyQep1"
      },
      "execution_count": 51,
      "outputs": []
    },
    {
      "cell_type": "code",
      "source": [
        "temp_RDD = df_patients.join(df_pyr_transitions, trim(df_patients.PATIENT_ID) == trim(df_pyr_transitions.PATIENT))\n",
        "temp_RDD.show(5)\n",
        "rows = temp_RDD.count()\n",
        "print(f\"Rows count : {rows}\")"
      ],
      "metadata": {
        "colab": {
          "base_uri": "https://localhost:8080/"
        },
        "id": "ObdclkaNa5go",
        "outputId": "d62f3cd0-7e8f-4701-b7d0-9ef084345f6d"
      },
      "execution_count": 52,
      "outputs": [
        {
          "output_type": "stream",
          "name": "stdout",
          "text": [
            "+--------------------+-----------+---------+---------------+-------------+-------------+------+---+-----+-------------------+-------------------+--------------------+----------+--------+--------------------+---------+\n",
            "|          PATIENT_ID|        SSN|  DRIVERS|          FIRST|         LAST|       MAIDEN|GENDER|AGE|DEATH|HEALTHCARE_EXPENSES|HEALTHCARE_COVERAGE|             PATIENT|START_YEAR|END_YEAR|               PAYER|OWNERSHIP|\n",
            "+--------------------+-----------+---------+---------------+-------------+-------------+------+---+-----+-------------------+-------------------+--------------------+----------+--------+--------------------+---------+\n",
            "|1d604da9-9a81-4ba...|999-76-6866|S99984236|José Eduardo181|     Gómez206|         null|     M| 30|    N|             271227|               1334|1d604da9-9a81-4ba...|      1989|    1998|b1c428d6-4f07-31e...| Guardian|\n",
            "|034e9e3b-2def-455...|999-73-5361|S99962402|        Milo271|      Feil794|         null|     M| 36|    N|             793946|               3204|034e9e3b-2def-455...|      1983|    2001|6e2f1a2d-27bd-370...| Guardian|\n",
            "|8d4c4326-e9de-4f4...|999-85-4926|S99974448|     Mariana775|Rutherford999|Williamson769|     F| 41|    N|             935630|               8756|8d4c4326-e9de-4f4...|      1978|    1995|7c4411ce-02f1-39b...| Guardian|\n",
            "|8d4c4326-e9de-4f4...|999-85-4926|S99974448|     Mariana775|Rutherford999|Williamson769|     F| 41|    N|             935630|               8756|8d4c4326-e9de-4f4...|      1996|    1996|5059a55e-5d6e-34d...|     Self|\n",
            "|8d4c4326-e9de-4f4...|999-85-4926|S99974448|     Mariana775|Rutherford999|Williamson769|     F| 41|    N|             935630|               8756|8d4c4326-e9de-4f4...|      1997|    1999|7c4411ce-02f1-39b...|     Self|\n",
            "+--------------------+-----------+---------+---------------+-------------+-------------+------+---+-----+-------------------+-------------------+--------------------+----------+--------+--------------------+---------+\n",
            "only showing top 5 rows\n",
            "\n",
            "Rows count : 3801\n"
          ]
        }
      ]
    },
    {
      "cell_type": "code",
      "source": [
        "temp_RDD = df_patients.join(df_observations, trim(df_patients.PATIENT_ID) == trim(df_observations.PATIENT))\n",
        "temp_RDD.show(5)\n",
        "rows = temp_RDD.count()\n",
        "print(f\"Rows count : {rows}\")"
      ],
      "metadata": {
        "colab": {
          "base_uri": "https://localhost:8080/"
        },
        "id": "a_332qQZ4sJa",
        "outputId": "db6f6fe8-a46e-459b-b8aa-398a23aad128"
      },
      "execution_count": 53,
      "outputs": [
        {
          "output_type": "stream",
          "name": "stdout",
          "text": [
            "+--------------------+-----------+---------+-------+-------+------+------+---+-----+-------------------+-------------------+--------------------+--------------------+--------------------+-------+--------------------+-----+-------+-------+\n",
            "|          PATIENT_ID|        SSN|  DRIVERS|  FIRST|   LAST|MAIDEN|GENDER|AGE|DEATH|HEALTHCARE_EXPENSES|HEALTHCARE_COVERAGE|                DATE|             PATIENT|           ENCOUNTER|   CODE|         DESCRIPTION|VALUE|  UNITS|   TYPE|\n",
            "+--------------------+-----------+---------+-------+-------+------+------+---+-----+-------------------+-------------------+--------------------+--------------------+--------------------+-------+--------------------+-----+-------+-------+\n",
            "|034e9e3b-2def-455...|999-73-5361|S99962402|Milo271|Feil794|  null|     M| 36|    N|             793946|               3204|2012-01-23T17:45:28Z|034e9e3b-2def-455...|e88bc3a9-007c-405...| 8302-2|         Body Height|193.3|     cm|numeric|\n",
            "|034e9e3b-2def-455...|999-73-5361|S99962402|Milo271|Feil794|  null|     M| 36|    N|             793946|               3204|2012-01-23T17:45:28Z|034e9e3b-2def-455...|e88bc3a9-007c-405...|72514-3|Pain severity - 0...|  2.0|{score}|numeric|\n",
            "|034e9e3b-2def-455...|999-73-5361|S99962402|Milo271|Feil794|  null|     M| 36|    N|             793946|               3204|2012-01-23T17:45:28Z|034e9e3b-2def-455...|e88bc3a9-007c-405...|29463-7|         Body Weight| 87.8|     kg|numeric|\n",
            "|034e9e3b-2def-455...|999-73-5361|S99962402|Milo271|Feil794|  null|     M| 36|    N|             793946|               3204|2012-01-23T17:45:28Z|034e9e3b-2def-455...|e88bc3a9-007c-405...|39156-5|     Body Mass Index| 23.5|  kg/m2|numeric|\n",
            "|034e9e3b-2def-455...|999-73-5361|S99962402|Milo271|Feil794|  null|     M| 36|    N|             793946|               3204|2012-01-23T17:45:28Z|034e9e3b-2def-455...|e88bc3a9-007c-405...| 8462-4|Diastolic Blood P...| 82.0| mm[Hg]|numeric|\n",
            "+--------------------+-----------+---------+-------+-------+------+------+---+-----+-------------------+-------------------+--------------------+--------------------+--------------------+-------+--------------------+-----+-------+-------+\n",
            "only showing top 5 rows\n",
            "\n",
            "Rows count : 299697\n"
          ]
        }
      ]
    },
    {
      "cell_type": "code",
      "source": [
        "temp_RDD = df_patients.join(df_immunizations, trim(df_patients.PATIENT_ID) == trim(df_immunizations.PATIENT))\n",
        "temp_RDD.show(5)\n",
        "rows = temp_RDD.count()\n",
        "print(f\"Rows count : {rows}\")"
      ],
      "metadata": {
        "colab": {
          "base_uri": "https://localhost:8080/"
        },
        "id": "aqmQbETs4shz",
        "outputId": "52fb278f-e6a4-45b6-dd56-d9fdaccbd120"
      },
      "execution_count": 54,
      "outputs": [
        {
          "output_type": "stream",
          "name": "stdout",
          "text": [
            "+--------------------+-----------+---------+---------------+--------+------+------+---+-----+-------------------+-------------------+--------------------+--------------------+--------------------+----+--------------------+---------+\n",
            "|          PATIENT_ID|        SSN|  DRIVERS|          FIRST|    LAST|MAIDEN|GENDER|AGE|DEATH|HEALTHCARE_EXPENSES|HEALTHCARE_COVERAGE|                DATE|             PATIENT|           ENCOUNTER|CODE|         DESCRIPTION|BASE_COST|\n",
            "+--------------------+-----------+---------+---------------+--------+------+------+---+-----+-------------------+-------------------+--------------------+--------------------+--------------------+----+--------------------+---------+\n",
            "|10339b10-3cd1-4ac...|999-27-3385|S99972682|      Jayson808|Fadel536|  null|     M| 27|    N|             574111|               2606|2010-07-27T12:58:08Z|10339b10-3cd1-4ac...|dae2b7cb-1316-4b7...| 140|Influenza  season...|   140.52|\n",
            "|f5dcd418-09fe-4a2...|999-60-7372|S99915787|    Gregorio366|  Auer97|  null|     M| 23|    N|             598763|               3772|2010-11-20T03:04:34Z|f5dcd418-09fe-4a2...|7ff86631-0378-4bf...| 140|Influenza  season...|   140.52|\n",
            "|034e9e3b-2def-455...|999-73-5361|S99962402|        Milo271| Feil794|  null|     M| 36|    N|             793946|               3204|2012-01-23T17:45:28Z|034e9e3b-2def-455...|e88bc3a9-007c-405...| 140|Influenza  season...|   140.52|\n",
            "|f5dcd418-09fe-4a2...|999-60-7372|S99915787|    Gregorio366|  Auer97|  null|     M| 23|    N|             598763|               3772|2011-11-26T03:04:34Z|f5dcd418-09fe-4a2...|1923c698-accd-4d7...| 140|Influenza  season...|   140.52|\n",
            "|1d604da9-9a81-4ba...|999-76-6866|S99984236|José Eduardo181|Gómez206|  null|     M| 30|    N|             271227|               1334|2011-07-28T15:02:18Z|1d604da9-9a81-4ba...|b85c339a-6076-43e...| 140|Influenza  season...|   140.52|\n",
            "+--------------------+-----------+---------+---------------+--------+------+------+---+-----+-------------------+-------------------+--------------------+--------------------+--------------------+----+--------------------+---------+\n",
            "only showing top 5 rows\n",
            "\n",
            "Rows count : 15478\n"
          ]
        }
      ]
    },
    {
      "cell_type": "code",
      "source": [
        "temp_RDD = df_patients.join(df_procedures, trim(df_patients.PATIENT_ID) == trim(df_procedures.PATIENT))\n",
        "temp_RDD.show(5)\n",
        "rows = temp_RDD.count()\n",
        "print(f\"Rows count : {rows}\")"
      ],
      "metadata": {
        "colab": {
          "base_uri": "https://localhost:8080/"
        },
        "id": "Tlz0rHPm79b4",
        "outputId": "186d3fce-e9a9-4f8a-bca3-9d215878bae1"
      },
      "execution_count": 55,
      "outputs": [
        {
          "output_type": "stream",
          "name": "stdout",
          "text": [
            "+--------------------+-----------+---------+-----------+-------------+-------------+------+---+-----+-------------------+-------------------+--------------------+--------------------+--------------------+---------+--------------------+---------+----------+--------------------+\n",
            "|          PATIENT_ID|        SSN|  DRIVERS|      FIRST|         LAST|       MAIDEN|GENDER|AGE|DEATH|HEALTHCARE_EXPENSES|HEALTHCARE_COVERAGE|                DATE|             PATIENT|           ENCOUNTER|     CODE|         DESCRIPTION|BASE_COST|REASONCODE|   REASONDESCRIPTION|\n",
            "+--------------------+-----------+---------+-----------+-------------+-------------+------+---+-----+-------------------+-------------------+--------------------+--------------------+--------------------+---------+--------------------+---------+----------+--------------------+\n",
            "|8d4c4326-e9de-4f4...|999-85-4926|S99974448| Mariana775|Rutherford999|Williamson769|     F| 41|    N|             935630|               8756|2011-04-30T00:26:23Z|8d4c4326-e9de-4f4...|6aa37300-d1b4-48e...|169553002|Insertion of subc...| 14896.56|      null|                null|\n",
            "|10339b10-3cd1-4ac...|999-27-3385|S99972682|  Jayson808|     Fadel536|         null|     M| 27|    N|             574111|               2606|2010-07-27T12:58:08Z|10339b10-3cd1-4ac...|dae2b7cb-1316-4b7...|430193006|Medication Reconc...|   726.51|      null|                null|\n",
            "|f5dcd418-09fe-4a2...|999-60-7372|S99915787|Gregorio366|       Auer97|         null|     M| 23|    N|             598763|               3772|2010-11-20T03:04:34Z|f5dcd418-09fe-4a2...|7ff86631-0378-4bf...|430193006|Medication Reconc...|   788.50|      null|                null|\n",
            "|f5dcd418-09fe-4a2...|999-60-7372|S99915787|Gregorio366|       Auer97|         null|     M| 23|    N|             598763|               3772|2011-02-07T03:04:34Z|f5dcd418-09fe-4a2...|b8f76eba-7795-4dc...|117015009|Throat culture (p...|  2070.44| 195662009|Acute viral phary...|\n",
            "|f5dcd418-09fe-4a2...|999-60-7372|S99915787|Gregorio366|       Auer97|         null|     M| 23|    N|             598763|               3772|2011-04-19T03:04:34Z|f5dcd418-09fe-4a2...|640837d9-845a-433...|117015009|Throat culture (p...|  2479.39| 195662009|Acute viral phary...|\n",
            "+--------------------+-----------+---------+-----------+-------------+-------------+------+---+-----+-------------------+-------------------+--------------------+--------------------+--------------------+---------+--------------------+---------+----------+--------------------+\n",
            "only showing top 5 rows\n",
            "\n",
            "Rows count : 34981\n"
          ]
        }
      ]
    },
    {
      "cell_type": "code",
      "source": [
        "temp_RDD = df_patients.join(df_devices, trim(df_patients.PATIENT_ID) == trim(df_devices.PATIENT))\n",
        "temp_RDD.show(5)\n",
        "rows = temp_RDD.count()\n",
        "print(f\"Rows count : {rows}\")"
      ],
      "metadata": {
        "colab": {
          "base_uri": "https://localhost:8080/"
        },
        "id": "Jynkj25m79uT",
        "outputId": "a74ae9ee-ba19-4879-d57a-3198e11e430a"
      },
      "execution_count": 56,
      "outputs": [
        {
          "output_type": "stream",
          "name": "stdout",
          "text": [
            "+--------------------+-----------+---------+---------+-------------+---------------+------+---+-----+-------------------+-------------------+--------------------+----+--------------------+--------------------+---------+--------------------+--------------------+\n",
            "|          PATIENT_ID|        SSN|  DRIVERS|    FIRST|         LAST|         MAIDEN|GENDER|AGE|DEATH|HEALTHCARE_EXPENSES|HEALTHCARE_COVERAGE|               START|STOP|             PATIENT|           ENCOUNTER|     CODE|         DESCRIPTION|                 UDI|\n",
            "+--------------------+-----------+---------+---------+-------------+---------------+------+---+-----+-------------------+-------------------+--------------------+----+--------------------+--------------------+---------+--------------------+--------------------+\n",
            "|d49f748f-928d-40e...|999-15-5162|S99979086|Wesley533|       Rau926|           null|     M| 52|    N|            1096170|               5593|2001-07-04T08:42:44Z|null|d49f748f-928d-40e...|2500b8bd-dc98-44e...| 72506001|Implantable defib...|(01)6767798860646...|\n",
            "|e05dd037-e45f-434...|999-55-3968|S99953884| Jesus702|    Hickle134|Christiansen251|     F| 33|    N|             691393|               9822|2010-10-24T05:28:51Z|null|e05dd037-e45f-434...|83cda5b1-4653-432...| 72506001|Implantable defib...|(01)2018059525834...|\n",
            "|0f5646bc-a156-4ec...|999-45-8311|S99971449|Mickey576|     Crist667|           null|     M| 22|    N|             482002|               3627|2017-06-04T11:11:47Z|null|0f5646bc-a156-4ec...|7302a9ce-5845-456...| 72506001|Implantable defib...|(01)8798892447844...|\n",
            "|44c8b4c8-4457-4ba...|999-33-7429|S99993402| Jamey282|  Hermiston71|           null|     M| 47|    Y|             986340|               3392|1989-01-17T18:12:03Z|null|44c8b4c8-4457-4ba...|7db01f61-e637-4e4...|705643001|Coronary artery s...|(01)3083189516548...|\n",
            "|89752052-a38b-45f...|999-15-6463|S99971913|Laverna97|Cartwright189|      Mayert710|     F| 65|    N|            1322856|              12597|1973-07-19T04:25:46Z|null|89752052-a38b-45f...|e73fe5e1-1b13-436...| 72506001|Implantable defib...|(01)7176772223148...|\n",
            "+--------------------+-----------+---------+---------+-------------+---------------+------+---+-----+-------------------+-------------------+--------------------+----+--------------------+--------------------+---------+--------------------+--------------------+\n",
            "only showing top 5 rows\n",
            "\n",
            "Rows count : 78\n"
          ]
        }
      ]
    },
    {
      "cell_type": "code",
      "source": [
        "temp_RDD = df_patients.join(df_allergies, trim(df_patients.PATIENT_ID) == trim(df_allergies.PATIENT))\n",
        "temp_RDD.show(5)\n",
        "rows = temp_RDD.count()\n",
        "print(f\"Rows count : {rows}\")"
      ],
      "metadata": {
        "colab": {
          "base_uri": "https://localhost:8080/"
        },
        "id": "G5Y72cLt9nCy",
        "outputId": "d5f5c80b-a56d-4bea-f86b-cdb16895e1e4"
      },
      "execution_count": 57,
      "outputs": [
        {
          "output_type": "stream",
          "name": "stdout",
          "text": [
            "+--------------------+-----------+---------+-----------+-------------+------+------+---+-----+-------------------+-------------------+----------+----+--------------------+--------------------+---------+--------------------+\n",
            "|          PATIENT_ID|        SSN|  DRIVERS|      FIRST|         LAST|MAIDEN|GENDER|AGE|DEATH|HEALTHCARE_EXPENSES|HEALTHCARE_COVERAGE|     START|STOP|             PATIENT|           ENCOUNTER|     CODE|         DESCRIPTION|\n",
            "+--------------------+-----------+---------+-----------+-------------+------+------+---+-----+-------------------+-------------------+----------+----+--------------------+--------------------+---------+--------------------+\n",
            "|76982e06-f8b8-450...|999-21-5604|S99957470|Christal240|      Brown30|  null|     F| 37|    N|             779464|              11713|1982-10-25|null|76982e06-f8b8-450...|b896bf40-8b72-42b...|300913006|   Shellfish allergy|\n",
            "|76982e06-f8b8-450...|999-21-5604|S99957470|Christal240|      Brown30|  null|     F| 37|    N|             779464|              11713|1982-10-25|null|76982e06-f8b8-450...|b896bf40-8b72-42b...|300916003|       Latex allergy|\n",
            "|71ba0469-f0cc-417...|999-28-2716|     null|Carmelia328|Konopelski743|  null|     F| 12|    Y|             268920|               9406|2002-01-25|null|71ba0469-f0cc-417...|7be1a590-4239-482...|417532002|     Allergy to fish|\n",
            "|71ba0469-f0cc-417...|999-28-2716|     null|Carmelia328|Konopelski743|  null|     F| 12|    Y|             268920|               9406|2002-01-25|null|71ba0469-f0cc-417...|7be1a590-4239-482...|714035009|     Allergy to soya|\n",
            "|71ba0469-f0cc-417...|999-28-2716|     null|Carmelia328|Konopelski743|  null|     F| 12|    Y|             268920|               9406|2002-01-25|null|71ba0469-f0cc-417...|7be1a590-4239-482...|419263009|Allergy to tree p...|\n",
            "+--------------------+-----------+---------+-----------+-------------+------+------+---+-----+-------------------+-------------------+----------+----+--------------------+--------------------+---------+--------------------+\n",
            "only showing top 5 rows\n",
            "\n",
            "Rows count : 597\n"
          ]
        }
      ]
    },
    {
      "cell_type": "code",
      "source": [
        "temp_RDD = df_patients.join(df_conditions, trim(df_patients.PATIENT_ID) == trim(df_conditions.PATIENT))\n",
        "temp_RDD.show(5)\n",
        "rows = temp_RDD.count()\n",
        "print(f\"Rows count : {rows}\")"
      ],
      "metadata": {
        "colab": {
          "base_uri": "https://localhost:8080/"
        },
        "id": "BFqLbj7G9nU1",
        "outputId": "85f168c3-8ae3-4d28-f979-5547c2ee38ec"
      },
      "execution_count": 58,
      "outputs": [
        {
          "output_type": "stream",
          "name": "stdout",
          "text": [
            "+--------------------+-----------+---------+---------------+-------------+-------------+------+---+-----+-------------------+-------------------+----------+----------+--------------------+--------------------+---------+--------------------+\n",
            "|          PATIENT_ID|        SSN|  DRIVERS|          FIRST|         LAST|       MAIDEN|GENDER|AGE|DEATH|HEALTHCARE_EXPENSES|HEALTHCARE_COVERAGE|     START|      STOP|             PATIENT|           ENCOUNTER|     CODE|         DESCRIPTION|\n",
            "+--------------------+-----------+---------+---------------+-------------+-------------+------+---+-----+-------------------+-------------------+----------+----------+--------------------+--------------------+---------+--------------------+\n",
            "|1d604da9-9a81-4ba...|999-76-6866|S99984236|José Eduardo181|     Gómez206|         null|     M| 30|    N|             271227|               1334|2001-05-01|      null|1d604da9-9a81-4ba...|8f104aa7-4ca9-447...| 40055000|Chronic sinusitis...|\n",
            "|8d4c4326-e9de-4f4...|999-85-4926|S99974448|     Mariana775|Rutherford999|Williamson769|     F| 41|    N|             935630|               8756|2011-08-09|2011-08-16|8d4c4326-e9de-4f4...|9d35ec9f-352a-462...|444814009|Viral sinusitis (...|\n",
            "|8d4c4326-e9de-4f4...|999-85-4926|S99974448|     Mariana775|Rutherford999|Williamson769|     F| 41|    N|             935630|               8756|2011-11-16|2011-11-26|8d4c4326-e9de-4f4...|ae7555a9-eaff-4c0...|195662009|Acute viral phary...|\n",
            "|10339b10-3cd1-4ac...|999-27-3385|S99972682|      Jayson808|     Fadel536|         null|     M| 27|    N|             574111|               2606|2011-05-13|2011-05-27|10339b10-3cd1-4ac...|e1ab4933-07a1-49f...| 10509002|Acute bronchitis ...|\n",
            "|f5dcd418-09fe-4a2...|999-60-7372|S99915787|    Gregorio366|       Auer97|         null|     M| 23|    N|             598763|               3772|2011-02-06|2011-02-14|f5dcd418-09fe-4a2...|b8f76eba-7795-4dc...|195662009|Acute viral phary...|\n",
            "+--------------------+-----------+---------+---------------+-------------+-------------+------+---+-----+-------------------+-------------------+----------+----------+--------------------+--------------------+---------+--------------------+\n",
            "only showing top 5 rows\n",
            "\n",
            "Rows count : 8376\n"
          ]
        }
      ]
    },
    {
      "cell_type": "code",
      "source": [
        "temp_RDD = df_patients.join(df_medications, trim(df_patients.PATIENT_ID) == trim(df_medications.PATIENT))\n",
        "temp_RDD.show(5)\n",
        "rows = temp_RDD.count()\n",
        "print(f\"Rows count : {rows}\")"
      ],
      "metadata": {
        "colab": {
          "base_uri": "https://localhost:8080/"
        },
        "id": "Cxsc9Rxp-Xqm",
        "outputId": "bfe3d3da-4532-4f83-ef92-3c81418cc886"
      },
      "execution_count": 59,
      "outputs": [
        {
          "output_type": "stream",
          "name": "stdout",
          "text": [
            "+--------------------+-----------+---------+---------------+-------------+-------------+------+---+-----+-------------------+-------------------+--------------------+--------------------+--------------------+--------------------+--------------------+------+--------------------+---------+--------------+---------+---------+----------+--------------------+\n",
            "|          PATIENT_ID|        SSN|  DRIVERS|          FIRST|         LAST|       MAIDEN|GENDER|AGE|DEATH|HEALTHCARE_EXPENSES|HEALTHCARE_COVERAGE|               START|                STOP|             PATIENT|               PAYER|           ENCOUNTER|  CODE|         DESCRIPTION|BASE_COST|PAYER_COVERAGE|DISPENSES|TOTALCOST|REASONCODE|   REASONDESCRIPTION|\n",
            "+--------------------+-----------+---------+---------------+-------------+-------------+------+---+-----+-------------------+-------------------+--------------------+--------------------+--------------------+--------------------+--------------------+------+--------------------+---------+--------------+---------+---------+----------+--------------------+\n",
            "|8d4c4326-e9de-4f4...|999-85-4926|S99974448|     Mariana775|Rutherford999|Williamson769|     F| 41|    N|             935630|               8756|2010-05-05T00:26:23Z|2011-04-30T00:26:23Z|8d4c4326-e9de-4f4...|b1c428d6-4f07-31e...|1e0d6b0e-1711-4a2...|389221|Etonogestrel 68 M...|   677.08|          0.00|       12|  8124.96|      null|                null|\n",
            "|8d4c4326-e9de-4f4...|999-85-4926|S99974448|     Mariana775|Rutherford999|Williamson769|     F| 41|    N|             935630|               8756|2011-04-30T00:26:23Z|2012-04-24T00:26:23Z|8d4c4326-e9de-4f4...|b1c428d6-4f07-31e...|6aa37300-d1b4-48e...|389221|Etonogestrel 68 M...|   624.09|          0.00|       12|  7489.08|      null|                null|\n",
            "|8d4c4326-e9de-4f4...|999-85-4926|S99974448|     Mariana775|Rutherford999|Williamson769|     F| 41|    N|             935630|               8756|2012-04-24T00:26:23Z|2013-04-19T00:26:23Z|8d4c4326-e9de-4f4...|b1c428d6-4f07-31e...|7253a9f9-6f6d-429...|748856|     Yaz 28 Day Pack|    43.32|          0.00|       12|   519.84|      null|                null|\n",
            "|10339b10-3cd1-4ac...|999-27-3385|S99972682|      Jayson808|     Fadel536|         null|     M| 27|    N|             574111|               2606|2011-05-13T12:58:08Z|2011-05-27T12:58:08Z|10339b10-3cd1-4ac...|d47b3510-2895-3b7...|e1ab4933-07a1-49f...|313782|Acetaminophen 325...|     8.14|          0.00|        1|     8.14|  10509002|Acute bronchitis ...|\n",
            "|1d604da9-9a81-4ba...|999-76-6866|S99984236|José Eduardo181|     Gómez206|         null|     M| 30|    N|             271227|               1334|2011-12-08T15:02:18Z|2011-12-22T15:02:18Z|1d604da9-9a81-4ba...|b1c428d6-4f07-31e...|792fae81-a007-44b...|562251|Amoxicillin 250 M...|    11.91|          0.00|        1|    11.91| 444814009|Viral sinusitis (...|\n",
            "+--------------------+-----------+---------+---------------+-------------+-------------+------+---+-----+-------------------+-------------------+--------------------+--------------------+--------------------+--------------------+--------------------+------+--------------------+---------+--------------+---------+---------+----------+--------------------+\n",
            "only showing top 5 rows\n",
            "\n",
            "Rows count : 42989\n"
          ]
        }
      ]
    },
    {
      "cell_type": "code",
      "source": [
        "\n",
        "temp_RDD = df_patients.join(df_medications, trim(df_patients.PATIENT_ID) == trim(df_medications.PATIENT))\n",
        "temp_RDD.show(5)\n",
        "rows = temp_RDD.count()\n",
        "print(f\"Rows count : {rows}\")"
      ],
      "metadata": {
        "id": "STdyj_aiNODw",
        "colab": {
          "base_uri": "https://localhost:8080/"
        },
        "outputId": "3881dcee-8454-4f5b-ced2-874741b5f4fe"
      },
      "execution_count": 60,
      "outputs": [
        {
          "output_type": "stream",
          "name": "stdout",
          "text": [
            "+--------------------+-----------+---------+---------------+-------------+-------------+------+---+-----+-------------------+-------------------+--------------------+--------------------+--------------------+--------------------+--------------------+------+--------------------+---------+--------------+---------+---------+----------+--------------------+\n",
            "|          PATIENT_ID|        SSN|  DRIVERS|          FIRST|         LAST|       MAIDEN|GENDER|AGE|DEATH|HEALTHCARE_EXPENSES|HEALTHCARE_COVERAGE|               START|                STOP|             PATIENT|               PAYER|           ENCOUNTER|  CODE|         DESCRIPTION|BASE_COST|PAYER_COVERAGE|DISPENSES|TOTALCOST|REASONCODE|   REASONDESCRIPTION|\n",
            "+--------------------+-----------+---------+---------------+-------------+-------------+------+---+-----+-------------------+-------------------+--------------------+--------------------+--------------------+--------------------+--------------------+------+--------------------+---------+--------------+---------+---------+----------+--------------------+\n",
            "|8d4c4326-e9de-4f4...|999-85-4926|S99974448|     Mariana775|Rutherford999|Williamson769|     F| 41|    N|             935630|               8756|2010-05-05T00:26:23Z|2011-04-30T00:26:23Z|8d4c4326-e9de-4f4...|b1c428d6-4f07-31e...|1e0d6b0e-1711-4a2...|389221|Etonogestrel 68 M...|   677.08|          0.00|       12|  8124.96|      null|                null|\n",
            "|8d4c4326-e9de-4f4...|999-85-4926|S99974448|     Mariana775|Rutherford999|Williamson769|     F| 41|    N|             935630|               8756|2011-04-30T00:26:23Z|2012-04-24T00:26:23Z|8d4c4326-e9de-4f4...|b1c428d6-4f07-31e...|6aa37300-d1b4-48e...|389221|Etonogestrel 68 M...|   624.09|          0.00|       12|  7489.08|      null|                null|\n",
            "|8d4c4326-e9de-4f4...|999-85-4926|S99974448|     Mariana775|Rutherford999|Williamson769|     F| 41|    N|             935630|               8756|2012-04-24T00:26:23Z|2013-04-19T00:26:23Z|8d4c4326-e9de-4f4...|b1c428d6-4f07-31e...|7253a9f9-6f6d-429...|748856|     Yaz 28 Day Pack|    43.32|          0.00|       12|   519.84|      null|                null|\n",
            "|10339b10-3cd1-4ac...|999-27-3385|S99972682|      Jayson808|     Fadel536|         null|     M| 27|    N|             574111|               2606|2011-05-13T12:58:08Z|2011-05-27T12:58:08Z|10339b10-3cd1-4ac...|d47b3510-2895-3b7...|e1ab4933-07a1-49f...|313782|Acetaminophen 325...|     8.14|          0.00|        1|     8.14|  10509002|Acute bronchitis ...|\n",
            "|1d604da9-9a81-4ba...|999-76-6866|S99984236|José Eduardo181|     Gómez206|         null|     M| 30|    N|             271227|               1334|2011-12-08T15:02:18Z|2011-12-22T15:02:18Z|1d604da9-9a81-4ba...|b1c428d6-4f07-31e...|792fae81-a007-44b...|562251|Amoxicillin 250 M...|    11.91|          0.00|        1|    11.91| 444814009|Viral sinusitis (...|\n",
            "+--------------------+-----------+---------+---------------+-------------+-------------+------+---+-----+-------------------+-------------------+--------------------+--------------------+--------------------+--------------------+--------------------+------+--------------------+---------+--------------+---------+---------+----------+--------------------+\n",
            "only showing top 5 rows\n",
            "\n",
            "Rows count : 42989\n"
          ]
        }
      ]
    },
    {
      "cell_type": "code",
      "source": [],
      "metadata": {
        "id": "Njtd7vLJNTfX"
      },
      "execution_count": 60,
      "outputs": []
    },
    {
      "cell_type": "markdown",
      "source": [
        "----"
      ],
      "metadata": {
        "id": "LmAa7VZHdmir"
      }
    },
    {
      "cell_type": "code",
      "source": [
        "#ta = df_conditions.alias('ta')\n",
        "#tb = df_immunizations.alias('tb')\n",
        "#inner_join = ta.join(tb, ta.name == tb.name)\n",
        "#inner_join.show()"
      ],
      "metadata": {
        "id": "kuCgYvqJxEg5"
      },
      "execution_count": 61,
      "outputs": []
    },
    {
      "cell_type": "code",
      "source": [
        "pat_enc.filter(\"PAYER_COVERAGE is null\").show()"
      ],
      "metadata": {
        "id": "_PapJ9Hn8Rz9",
        "colab": {
          "base_uri": "https://localhost:8080/"
        },
        "outputId": "0193ef1d-69e3-42d9-b566-91e7383bd7db"
      },
      "execution_count": 62,
      "outputs": [
        {
          "output_type": "stream",
          "name": "stdout",
          "text": [
            "+----------+---+-------+-----+----+------+------+---+-----+-------------------+-------------------+-------------+-----+----+-------+------------+--------+-----+--------------+----+-----------+-------------------+----------------+--------------+----------+-----------------+\n",
            "|PATIENT_ID|SSN|DRIVERS|FIRST|LAST|MAIDEN|GENDER|AGE|DEATH|HEALTHCARE_EXPENSES|HEALTHCARE_COVERAGE|ENCOUNTERS_ID|START|STOP|PATIENT|ORGANIZATION|PROVIDER|PAYER|ENCOUNTERCLASS|CODE|DESCRIPTION|BASE_ENCOUNTER_COST|TOTAL_CLAIM_COST|PAYER_COVERAGE|REASONCODE|REASONDESCRIPTION|\n",
            "+----------+---+-------+-----+----+------+------+---+-----+-------------------+-------------------+-------------+-----+----+-------+------------+--------+-----+--------------+----+-----------+-------------------+----------------+--------------+----------+-----------------+\n",
            "+----------+---+-------+-----+----+------+------+---+-----+-------------------+-------------------+-------------+-----+----+-------+------------+--------+-----+--------------+----+-----------+-------------------+----------------+--------------+----------+-----------------+\n",
            "\n"
          ]
        }
      ]
    }
  ]
}